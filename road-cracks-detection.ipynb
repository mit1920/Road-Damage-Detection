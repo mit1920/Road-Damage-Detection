{
 "cells": [
  {
   "cell_type": "code",
   "execution_count": 1,
   "id": "0be87627",
   "metadata": {
    "execution": {
     "iopub.execute_input": "2024-12-02T19:30:02.051374Z",
     "iopub.status.busy": "2024-12-02T19:30:02.051077Z",
     "iopub.status.idle": "2024-12-02T19:30:12.675867Z",
     "shell.execute_reply": "2024-12-02T19:30:12.674657Z"
    },
    "papermill": {
     "duration": 10.630132,
     "end_time": "2024-12-02T19:30:12.677802",
     "exception": false,
     "start_time": "2024-12-02T19:30:02.047670",
     "status": "completed"
    },
    "tags": []
   },
   "outputs": [
    {
     "name": "stdout",
     "output_type": "stream",
     "text": [
      "Collecting ultralytics\r\n"
     ]
    },
    {
     "name": "stdout",
     "output_type": "stream",
     "text": [
      "  Downloading ultralytics-8.3.40-py3-none-any.whl.metadata (35 kB)\r\n"
     ]
    },
    {
     "name": "stdout",
     "output_type": "stream",
     "text": [
      "Requirement already satisfied: numpy>=1.23.0 in /opt/conda/lib/python3.10/site-packages (from ultralytics) (1.26.4)\r\n",
      "Requirement already satisfied: matplotlib>=3.3.0 in /opt/conda/lib/python3.10/site-packages (from ultralytics) (3.7.5)\r\n",
      "Requirement already satisfied: opencv-python>=4.6.0 in /opt/conda/lib/python3.10/site-packages (from ultralytics) (4.10.0.84)\r\n",
      "Requirement already satisfied: pillow>=7.1.2 in /opt/conda/lib/python3.10/site-packages (from ultralytics) (10.3.0)\r\n",
      "Requirement already satisfied: pyyaml>=5.3.1 in /opt/conda/lib/python3.10/site-packages (from ultralytics) (6.0.2)\r\n",
      "Requirement already satisfied: requests>=2.23.0 in /opt/conda/lib/python3.10/site-packages (from ultralytics) (2.32.3)\r\n",
      "Requirement already satisfied: scipy>=1.4.1 in /opt/conda/lib/python3.10/site-packages (from ultralytics) (1.14.1)\r\n",
      "Requirement already satisfied: torch>=1.8.0 in /opt/conda/lib/python3.10/site-packages (from ultralytics) (2.4.0)\r\n",
      "Requirement already satisfied: torchvision>=0.9.0 in /opt/conda/lib/python3.10/site-packages (from ultralytics) (0.19.0)\r\n",
      "Requirement already satisfied: tqdm>=4.64.0 in /opt/conda/lib/python3.10/site-packages (from ultralytics) (4.66.4)\r\n",
      "Requirement already satisfied: psutil in /opt/conda/lib/python3.10/site-packages (from ultralytics) (5.9.3)\r\n",
      "Requirement already satisfied: py-cpuinfo in /opt/conda/lib/python3.10/site-packages (from ultralytics) (9.0.0)\r\n",
      "Requirement already satisfied: pandas>=1.1.4 in /opt/conda/lib/python3.10/site-packages (from ultralytics) (2.2.2)\r\n",
      "Requirement already satisfied: seaborn>=0.11.0 in /opt/conda/lib/python3.10/site-packages (from ultralytics) (0.12.2)\r\n"
     ]
    },
    {
     "name": "stdout",
     "output_type": "stream",
     "text": [
      "Collecting ultralytics-thop>=2.0.0 (from ultralytics)\r\n",
      "  Downloading ultralytics_thop-2.0.12-py3-none-any.whl.metadata (9.4 kB)\r\n"
     ]
    },
    {
     "name": "stdout",
     "output_type": "stream",
     "text": [
      "Requirement already satisfied: contourpy>=1.0.1 in /opt/conda/lib/python3.10/site-packages (from matplotlib>=3.3.0->ultralytics) (1.2.1)\r\n",
      "Requirement already satisfied: cycler>=0.10 in /opt/conda/lib/python3.10/site-packages (from matplotlib>=3.3.0->ultralytics) (0.12.1)\r\n",
      "Requirement already satisfied: fonttools>=4.22.0 in /opt/conda/lib/python3.10/site-packages (from matplotlib>=3.3.0->ultralytics) (4.53.0)\r\n",
      "Requirement already satisfied: kiwisolver>=1.0.1 in /opt/conda/lib/python3.10/site-packages (from matplotlib>=3.3.0->ultralytics) (1.4.5)\r\n",
      "Requirement already satisfied: packaging>=20.0 in /opt/conda/lib/python3.10/site-packages (from matplotlib>=3.3.0->ultralytics) (21.3)\r\n",
      "Requirement already satisfied: pyparsing>=2.3.1 in /opt/conda/lib/python3.10/site-packages (from matplotlib>=3.3.0->ultralytics) (3.1.2)\r\n",
      "Requirement already satisfied: python-dateutil>=2.7 in /opt/conda/lib/python3.10/site-packages (from matplotlib>=3.3.0->ultralytics) (2.9.0.post0)\r\n"
     ]
    },
    {
     "name": "stdout",
     "output_type": "stream",
     "text": [
      "Requirement already satisfied: pytz>=2020.1 in /opt/conda/lib/python3.10/site-packages (from pandas>=1.1.4->ultralytics) (2024.1)\r\n",
      "Requirement already satisfied: tzdata>=2022.7 in /opt/conda/lib/python3.10/site-packages (from pandas>=1.1.4->ultralytics) (2024.1)\r\n"
     ]
    },
    {
     "name": "stdout",
     "output_type": "stream",
     "text": [
      "Requirement already satisfied: charset-normalizer<4,>=2 in /opt/conda/lib/python3.10/site-packages (from requests>=2.23.0->ultralytics) (3.3.2)\r\n",
      "Requirement already satisfied: idna<4,>=2.5 in /opt/conda/lib/python3.10/site-packages (from requests>=2.23.0->ultralytics) (3.7)\r\n",
      "Requirement already satisfied: urllib3<3,>=1.21.1 in /opt/conda/lib/python3.10/site-packages (from requests>=2.23.0->ultralytics) (1.26.18)\r\n",
      "Requirement already satisfied: certifi>=2017.4.17 in /opt/conda/lib/python3.10/site-packages (from requests>=2.23.0->ultralytics) (2024.8.30)\r\n"
     ]
    },
    {
     "name": "stdout",
     "output_type": "stream",
     "text": [
      "Requirement already satisfied: filelock in /opt/conda/lib/python3.10/site-packages (from torch>=1.8.0->ultralytics) (3.15.1)\r\n",
      "Requirement already satisfied: typing-extensions>=4.8.0 in /opt/conda/lib/python3.10/site-packages (from torch>=1.8.0->ultralytics) (4.12.2)\r\n",
      "Requirement already satisfied: sympy in /opt/conda/lib/python3.10/site-packages (from torch>=1.8.0->ultralytics) (1.13.3)\r\n",
      "Requirement already satisfied: networkx in /opt/conda/lib/python3.10/site-packages (from torch>=1.8.0->ultralytics) (3.3)\r\n",
      "Requirement already satisfied: jinja2 in /opt/conda/lib/python3.10/site-packages (from torch>=1.8.0->ultralytics) (3.1.4)\r\n",
      "Requirement already satisfied: fsspec in /opt/conda/lib/python3.10/site-packages (from torch>=1.8.0->ultralytics) (2024.6.1)\r\n"
     ]
    },
    {
     "name": "stdout",
     "output_type": "stream",
     "text": [
      "Requirement already satisfied: six>=1.5 in /opt/conda/lib/python3.10/site-packages (from python-dateutil>=2.7->matplotlib>=3.3.0->ultralytics) (1.16.0)\r\n"
     ]
    },
    {
     "name": "stdout",
     "output_type": "stream",
     "text": [
      "Requirement already satisfied: MarkupSafe>=2.0 in /opt/conda/lib/python3.10/site-packages (from jinja2->torch>=1.8.0->ultralytics) (2.1.5)\r\n",
      "Requirement already satisfied: mpmath<1.4,>=1.1.0 in /opt/conda/lib/python3.10/site-packages (from sympy->torch>=1.8.0->ultralytics) (1.3.0)\r\n"
     ]
    },
    {
     "name": "stdout",
     "output_type": "stream",
     "text": [
      "Downloading ultralytics-8.3.40-py3-none-any.whl (898 kB)\r\n",
      "\u001b[?25l   \u001b[90m━━━━━━━━━━━━━━━━━━━━━━━━━━━━━━━━━━━━━━━━\u001b[0m \u001b[32m0.0/898.5 kB\u001b[0m \u001b[31m?\u001b[0m eta \u001b[36m-:--:--\u001b[0m"
     ]
    },
    {
     "name": "stdout",
     "output_type": "stream",
     "text": [
      "\r",
      "\u001b[2K   \u001b[91m━━━━━━━━━━━━━━━━━━━━━━━━━━━━━━━━━━━━\u001b[0m\u001b[90m╺\u001b[0m\u001b[90m━━━\u001b[0m \u001b[32m809.0/898.5 kB\u001b[0m \u001b[31m24.1 MB/s\u001b[0m eta \u001b[36m0:00:01\u001b[0m\r",
      "\u001b[2K   \u001b[90m━━━━━━━━━━━━━━━━━━━━━━━━━━━━━━━━━━━━━━━━\u001b[0m \u001b[32m898.5/898.5 kB\u001b[0m \u001b[31m15.2 MB/s\u001b[0m eta \u001b[36m0:00:00\u001b[0m\r\n",
      "\u001b[?25h"
     ]
    },
    {
     "name": "stdout",
     "output_type": "stream",
     "text": [
      "Downloading ultralytics_thop-2.0.12-py3-none-any.whl (26 kB)\r\n"
     ]
    },
    {
     "name": "stdout",
     "output_type": "stream",
     "text": [
      "Installing collected packages: ultralytics-thop, ultralytics\r\n"
     ]
    },
    {
     "name": "stdout",
     "output_type": "stream",
     "text": [
      "Successfully installed ultralytics-8.3.40 ultralytics-thop-2.0.12\r\n"
     ]
    },
    {
     "name": "stdout",
     "output_type": "stream",
     "text": [
      "Note: you may need to restart the kernel to use updated packages.\n"
     ]
    }
   ],
   "source": [
    "pip install ultralytics"
   ]
  },
  {
   "cell_type": "code",
   "execution_count": 2,
   "id": "afecffa5",
   "metadata": {
    "execution": {
     "iopub.execute_input": "2024-12-02T19:30:12.684765Z",
     "iopub.status.busy": "2024-12-02T19:30:12.684459Z",
     "iopub.status.idle": "2024-12-02T19:30:17.735160Z",
     "shell.execute_reply": "2024-12-02T19:30:17.734140Z"
    },
    "papermill": {
     "duration": 5.056596,
     "end_time": "2024-12-02T19:30:17.737474",
     "exception": false,
     "start_time": "2024-12-02T19:30:12.680878",
     "status": "completed"
    },
    "tags": []
   },
   "outputs": [
    {
     "name": "stdout",
     "output_type": "stream",
     "text": [
      "Creating new Ultralytics Settings v0.0.6 file ✅ \n",
      "View Ultralytics Settings with 'yolo settings' or at '/root/.config/Ultralytics/settings.json'\n",
      "Update Settings with 'yolo settings key=value', i.e. 'yolo settings runs_dir=path/to/dir'. For help see https://docs.ultralytics.com/quickstart/#ultralytics-settings.\n"
     ]
    }
   ],
   "source": [
    "# Importing necessary libraries\n",
    "from ultralytics import YOLO\n"
   ]
  },
  {
   "cell_type": "code",
   "execution_count": 3,
   "id": "7026dc7a",
   "metadata": {
    "execution": {
     "iopub.execute_input": "2024-12-02T19:30:17.745179Z",
     "iopub.status.busy": "2024-12-02T19:30:17.744269Z"
    },
    "papermill": {
     "duration": null,
     "end_time": null,
     "exception": false,
     "start_time": "2024-12-02T19:30:17.740336",
     "status": "running"
    },
    "tags": []
   },
   "outputs": [
    {
     "name": "stdout",
     "output_type": "stream",
     "text": [
      "Downloading https://github.com/ultralytics/assets/releases/download/v8.3.0/yolov8m.pt to 'yolov8m.pt'...\n"
     ]
    },
    {
     "name": "stderr",
     "output_type": "stream",
     "text": [
      "\r",
      "  0%|          | 0.00/49.7M [00:00<?, ?B/s]"
     ]
    },
    {
     "name": "stderr",
     "output_type": "stream",
     "text": [
      "\r",
      " 24%|██▎       | 11.8M/49.7M [00:00<00:00, 122MB/s]"
     ]
    },
    {
     "name": "stderr",
     "output_type": "stream",
     "text": [
      "\r",
      " 88%|████████▊ | 43.8M/49.7M [00:00<00:00, 246MB/s]"
     ]
    },
    {
     "name": "stderr",
     "output_type": "stream",
     "text": [
      "\r",
      "100%|██████████| 49.7M/49.7M [00:00<00:00, 234MB/s]"
     ]
    },
    {
     "name": "stderr",
     "output_type": "stream",
     "text": [
      "\n"
     ]
    },
    {
     "name": "stdout",
     "output_type": "stream",
     "text": [
      "Ultralytics 8.3.40 🚀 Python-3.10.14 torch-2.4.0 CUDA:0 (Tesla T4, 15095MiB)\n"
     ]
    },
    {
     "name": "stdout",
     "output_type": "stream",
     "text": [
      "\u001b[34m\u001b[1mengine/trainer: \u001b[0mtask=detect, mode=train, model=yolov8m.pt, data=/kaggle/input/yaml-file/data (2).yaml, epochs=100, time=None, patience=100, batch=16, imgsz=640, save=True, save_period=-1, cache=False, device=0, workers=4, project=None, name=train, exist_ok=False, pretrained=True, optimizer=auto, verbose=True, seed=0, deterministic=True, single_cls=False, rect=False, cos_lr=False, close_mosaic=10, resume=False, amp=True, fraction=1.0, profile=False, freeze=None, multi_scale=False, overlap_mask=True, mask_ratio=4, dropout=0.0, val=True, split=val, save_json=False, save_hybrid=False, conf=None, iou=0.7, max_det=300, half=False, dnn=False, plots=True, source=None, vid_stride=1, stream_buffer=False, visualize=False, augment=False, agnostic_nms=False, classes=None, retina_masks=False, embed=None, show=False, save_frames=False, save_txt=False, save_conf=False, save_crop=False, show_labels=True, show_conf=True, show_boxes=True, line_width=None, format=torchscript, keras=False, optimize=False, int8=False, dynamic=False, simplify=True, opset=None, workspace=None, nms=False, lr0=0.01, lrf=0.01, momentum=0.937, weight_decay=0.0005, warmup_epochs=3.0, warmup_momentum=0.8, warmup_bias_lr=0.1, box=7.5, cls=0.5, dfl=1.5, pose=12.0, kobj=1.0, nbs=64, hsv_h=0.015, hsv_s=0.7, hsv_v=0.4, degrees=0.0, translate=0.1, scale=0.5, shear=0.0, perspective=0.0, flipud=0.0, fliplr=0.5, bgr=0.0, mosaic=1.0, mixup=0.0, copy_paste=0.0, copy_paste_mode=flip, auto_augment=randaugment, erasing=0.4, crop_fraction=1.0, cfg=None, tracker=botsort.yaml, save_dir=runs/detect/train\n"
     ]
    },
    {
     "name": "stdout",
     "output_type": "stream",
     "text": [
      "Downloading https://ultralytics.com/assets/Arial.ttf to '/root/.config/Ultralytics/Arial.ttf'...\n"
     ]
    },
    {
     "name": "stderr",
     "output_type": "stream",
     "text": [
      "\r",
      "  0%|          | 0.00/755k [00:00<?, ?B/s]"
     ]
    },
    {
     "name": "stderr",
     "output_type": "stream",
     "text": [
      "\r",
      "100%|██████████| 755k/755k [00:00<00:00, 15.8MB/s]"
     ]
    },
    {
     "name": "stderr",
     "output_type": "stream",
     "text": [
      "\n"
     ]
    },
    {
     "name": "stderr",
     "output_type": "stream",
     "text": [
      "2024-12-02 19:30:20,509\tINFO util.py:124 -- Outdated packages:\n",
      "  ipywidgets==7.7.1 found, needs ipywidgets>=8\n",
      "Run `pip install -U ipywidgets`, then restart the notebook server for rich notebook output.\n"
     ]
    },
    {
     "name": "stderr",
     "output_type": "stream",
     "text": [
      "2024-12-02 19:30:21,873\tINFO util.py:124 -- Outdated packages:\n",
      "  ipywidgets==7.7.1 found, needs ipywidgets>=8\n",
      "Run `pip install -U ipywidgets`, then restart the notebook server for rich notebook output.\n"
     ]
    },
    {
     "name": "stdout",
     "output_type": "stream",
     "text": [
      "Overriding model.yaml nc=80 with nc=4\n"
     ]
    },
    {
     "name": "stdout",
     "output_type": "stream",
     "text": [
      "\n",
      "                   from  n    params  module                                       arguments                     \n"
     ]
    },
    {
     "name": "stdout",
     "output_type": "stream",
     "text": [
      "  0                  -1  1      1392  ultralytics.nn.modules.conv.Conv             [3, 48, 3, 2]                 \n"
     ]
    },
    {
     "name": "stdout",
     "output_type": "stream",
     "text": [
      "  1                  -1  1     41664  ultralytics.nn.modules.conv.Conv             [48, 96, 3, 2]                \n"
     ]
    },
    {
     "name": "stdout",
     "output_type": "stream",
     "text": [
      "  2                  -1  2    111360  ultralytics.nn.modules.block.C2f             [96, 96, 2, True]             \n"
     ]
    },
    {
     "name": "stdout",
     "output_type": "stream",
     "text": [
      "  3                  -1  1    166272  ultralytics.nn.modules.conv.Conv             [96, 192, 3, 2]               \n"
     ]
    },
    {
     "name": "stdout",
     "output_type": "stream",
     "text": [
      "  4                  -1  4    813312  ultralytics.nn.modules.block.C2f             [192, 192, 4, True]           \n"
     ]
    },
    {
     "name": "stdout",
     "output_type": "stream",
     "text": [
      "  5                  -1  1    664320  ultralytics.nn.modules.conv.Conv             [192, 384, 3, 2]              \n"
     ]
    },
    {
     "name": "stdout",
     "output_type": "stream",
     "text": [
      "  6                  -1  4   3248640  ultralytics.nn.modules.block.C2f             [384, 384, 4, True]           \n"
     ]
    },
    {
     "name": "stdout",
     "output_type": "stream",
     "text": [
      "  7                  -1  1   1991808  ultralytics.nn.modules.conv.Conv             [384, 576, 3, 2]              \n"
     ]
    },
    {
     "name": "stdout",
     "output_type": "stream",
     "text": [
      "  8                  -1  2   3985920  ultralytics.nn.modules.block.C2f             [576, 576, 2, True]           \n"
     ]
    },
    {
     "name": "stdout",
     "output_type": "stream",
     "text": [
      "  9                  -1  1    831168  ultralytics.nn.modules.block.SPPF            [576, 576, 5]                 \n"
     ]
    },
    {
     "name": "stdout",
     "output_type": "stream",
     "text": [
      " 10                  -1  1         0  torch.nn.modules.upsampling.Upsample         [None, 2, 'nearest']          \n"
     ]
    },
    {
     "name": "stdout",
     "output_type": "stream",
     "text": [
      " 11             [-1, 6]  1         0  ultralytics.nn.modules.conv.Concat           [1]                           \n"
     ]
    },
    {
     "name": "stdout",
     "output_type": "stream",
     "text": [
      " 12                  -1  2   1993728  ultralytics.nn.modules.block.C2f             [960, 384, 2]                 \n"
     ]
    },
    {
     "name": "stdout",
     "output_type": "stream",
     "text": [
      " 13                  -1  1         0  torch.nn.modules.upsampling.Upsample         [None, 2, 'nearest']          \n"
     ]
    },
    {
     "name": "stdout",
     "output_type": "stream",
     "text": [
      " 14             [-1, 4]  1         0  ultralytics.nn.modules.conv.Concat           [1]                           \n"
     ]
    },
    {
     "name": "stdout",
     "output_type": "stream",
     "text": [
      " 15                  -1  2    517632  ultralytics.nn.modules.block.C2f             [576, 192, 2]                 \n"
     ]
    },
    {
     "name": "stdout",
     "output_type": "stream",
     "text": [
      " 16                  -1  1    332160  ultralytics.nn.modules.conv.Conv             [192, 192, 3, 2]              \n"
     ]
    },
    {
     "name": "stdout",
     "output_type": "stream",
     "text": [
      " 17            [-1, 12]  1         0  ultralytics.nn.modules.conv.Concat           [1]                           \n"
     ]
    },
    {
     "name": "stdout",
     "output_type": "stream",
     "text": [
      " 18                  -1  2   1846272  ultralytics.nn.modules.block.C2f             [576, 384, 2]                 \n"
     ]
    },
    {
     "name": "stdout",
     "output_type": "stream",
     "text": [
      " 19                  -1  1   1327872  ultralytics.nn.modules.conv.Conv             [384, 384, 3, 2]              \n"
     ]
    },
    {
     "name": "stdout",
     "output_type": "stream",
     "text": [
      " 20             [-1, 9]  1         0  ultralytics.nn.modules.conv.Concat           [1]                           \n"
     ]
    },
    {
     "name": "stdout",
     "output_type": "stream",
     "text": [
      " 21                  -1  2   4207104  ultralytics.nn.modules.block.C2f             [960, 576, 2]                 \n"
     ]
    },
    {
     "name": "stdout",
     "output_type": "stream",
     "text": [
      " 22        [15, 18, 21]  1   3778012  ultralytics.nn.modules.head.Detect           [4, [192, 384, 576]]          \n"
     ]
    },
    {
     "name": "stdout",
     "output_type": "stream",
     "text": [
      "Model summary: 295 layers, 25,858,636 parameters, 25,858,620 gradients, 79.1 GFLOPs\n"
     ]
    },
    {
     "name": "stdout",
     "output_type": "stream",
     "text": [
      "\n"
     ]
    },
    {
     "name": "stdout",
     "output_type": "stream",
     "text": [
      "Transferred 469/475 items from pretrained weights\n"
     ]
    },
    {
     "name": "stdout",
     "output_type": "stream",
     "text": [
      "\u001b[34m\u001b[1mTensorBoard: \u001b[0mStart with 'tensorboard --logdir runs/detect/train', view at http://localhost:6006/\n"
     ]
    },
    {
     "name": "stdout",
     "output_type": "stream",
     "text": [
      "Freezing layer 'model.22.dfl.conv.weight'\n"
     ]
    },
    {
     "name": "stdout",
     "output_type": "stream",
     "text": [
      "\u001b[34m\u001b[1mAMP: \u001b[0mrunning Automatic Mixed Precision (AMP) checks...\n"
     ]
    },
    {
     "name": "stdout",
     "output_type": "stream",
     "text": [
      "Downloading https://github.com/ultralytics/assets/releases/download/v8.3.0/yolo11n.pt to 'yolo11n.pt'...\n"
     ]
    },
    {
     "name": "stderr",
     "output_type": "stream",
     "text": [
      "\r",
      "  0%|          | 0.00/5.35M [00:00<?, ?B/s]"
     ]
    },
    {
     "name": "stderr",
     "output_type": "stream",
     "text": [
      "\r",
      "100%|██████████| 5.35M/5.35M [00:00<00:00, 74.3MB/s]"
     ]
    },
    {
     "name": "stderr",
     "output_type": "stream",
     "text": [
      "\n"
     ]
    },
    {
     "name": "stdout",
     "output_type": "stream",
     "text": [
      "\u001b[34m\u001b[1mAMP: \u001b[0mchecks passed ✅\n"
     ]
    },
    {
     "name": "stderr",
     "output_type": "stream",
     "text": [
      "\r",
      "\u001b[34m\u001b[1mtrain: \u001b[0mScanning /kaggle/input/data-rd/train/labels...:   0%|          | 0/2325 [00:00<?, ?it/s]"
     ]
    },
    {
     "name": "stderr",
     "output_type": "stream",
     "text": [
      "\r",
      "\u001b[34m\u001b[1mtrain: \u001b[0mScanning /kaggle/input/data-rd/train/labels... 19 images, 0 backgrounds, 0 corrupt:   1%|          | 19/2325 [00:00<00:13, 170.84it/s]"
     ]
    },
    {
     "name": "stderr",
     "output_type": "stream",
     "text": [
      "\r",
      "\u001b[34m\u001b[1mtrain: \u001b[0mScanning /kaggle/input/data-rd/train/labels... 43 images, 0 backgrounds, 0 corrupt:   2%|▏         | 43/2325 [00:00<00:11, 199.00it/s]"
     ]
    },
    {
     "name": "stderr",
     "output_type": "stream",
     "text": [
      "\r",
      "\u001b[34m\u001b[1mtrain: \u001b[0mScanning /kaggle/input/data-rd/train/labels... 68 images, 0 backgrounds, 0 corrupt:   3%|▎         | 68/2325 [00:00<00:10, 219.50it/s]"
     ]
    },
    {
     "name": "stderr",
     "output_type": "stream",
     "text": [
      "\r",
      "\u001b[34m\u001b[1mtrain: \u001b[0mScanning /kaggle/input/data-rd/train/labels... 91 images, 0 backgrounds, 0 corrupt:   4%|▍         | 91/2325 [00:00<00:10, 214.37it/s]"
     ]
    },
    {
     "name": "stderr",
     "output_type": "stream",
     "text": [
      "\r",
      "\u001b[34m\u001b[1mtrain: \u001b[0mScanning /kaggle/input/data-rd/train/labels... 117 images, 0 backgrounds, 0 corrupt:   5%|▌         | 117/2325 [00:00<00:09, 223.96it/s]"
     ]
    },
    {
     "name": "stderr",
     "output_type": "stream",
     "text": [
      "\r",
      "\u001b[34m\u001b[1mtrain: \u001b[0mScanning /kaggle/input/data-rd/train/labels... 140 images, 0 backgrounds, 0 corrupt:   6%|▌         | 140/2325 [00:00<00:09, 223.15it/s]"
     ]
    },
    {
     "name": "stderr",
     "output_type": "stream",
     "text": [
      "\r",
      "\u001b[34m\u001b[1mtrain: \u001b[0mScanning /kaggle/input/data-rd/train/labels... 164 images, 0 backgrounds, 0 corrupt:   7%|▋         | 164/2325 [00:00<00:09, 227.90it/s]"
     ]
    },
    {
     "name": "stderr",
     "output_type": "stream",
     "text": [
      "\r",
      "\u001b[34m\u001b[1mtrain: \u001b[0mScanning /kaggle/input/data-rd/train/labels... 189 images, 0 backgrounds, 0 corrupt:   8%|▊         | 189/2325 [00:00<00:09, 230.55it/s]"
     ]
    },
    {
     "name": "stderr",
     "output_type": "stream",
     "text": [
      "\r",
      "\u001b[34m\u001b[1mtrain: \u001b[0mScanning /kaggle/input/data-rd/train/labels... 213 images, 0 backgrounds, 0 corrupt:   9%|▉         | 213/2325 [00:00<00:09, 224.17it/s]"
     ]
    },
    {
     "name": "stderr",
     "output_type": "stream",
     "text": [
      "\r",
      "\u001b[34m\u001b[1mtrain: \u001b[0mScanning /kaggle/input/data-rd/train/labels... 237 images, 0 backgrounds, 0 corrupt:  10%|█         | 237/2325 [00:01<00:09, 223.47it/s]"
     ]
    },
    {
     "name": "stderr",
     "output_type": "stream",
     "text": [
      "\r",
      "\u001b[34m\u001b[1mtrain: \u001b[0mScanning /kaggle/input/data-rd/train/labels... 260 images, 0 backgrounds, 0 corrupt:  11%|█         | 260/2325 [00:01<00:09, 216.57it/s]"
     ]
    },
    {
     "name": "stderr",
     "output_type": "stream",
     "text": [
      "\r",
      "\u001b[34m\u001b[1mtrain: \u001b[0mScanning /kaggle/input/data-rd/train/labels... 285 images, 0 backgrounds, 0 corrupt:  12%|█▏        | 285/2325 [00:01<00:09, 224.51it/s]"
     ]
    },
    {
     "name": "stderr",
     "output_type": "stream",
     "text": [
      "\r",
      "\u001b[34m\u001b[1mtrain: \u001b[0mScanning /kaggle/input/data-rd/train/labels... 310 images, 0 backgrounds, 0 corrupt:  13%|█▎        | 310/2325 [00:01<00:08, 231.56it/s]"
     ]
    },
    {
     "name": "stderr",
     "output_type": "stream",
     "text": [
      "\r",
      "\u001b[34m\u001b[1mtrain: \u001b[0mScanning /kaggle/input/data-rd/train/labels... 334 images, 0 backgrounds, 0 corrupt:  14%|█▍        | 334/2325 [00:01<00:08, 233.58it/s]"
     ]
    },
    {
     "name": "stderr",
     "output_type": "stream",
     "text": [
      "\r",
      "\u001b[34m\u001b[1mtrain: \u001b[0mScanning /kaggle/input/data-rd/train/labels... 358 images, 0 backgrounds, 0 corrupt:  15%|█▌        | 358/2325 [00:01<00:08, 227.90it/s]"
     ]
    },
    {
     "name": "stderr",
     "output_type": "stream",
     "text": [
      "\r",
      "\u001b[34m\u001b[1mtrain: \u001b[0mScanning /kaggle/input/data-rd/train/labels... 381 images, 0 backgrounds, 0 corrupt:  16%|█▋        | 381/2325 [00:01<00:08, 218.63it/s]"
     ]
    },
    {
     "name": "stderr",
     "output_type": "stream",
     "text": [
      "\r",
      "\u001b[34m\u001b[1mtrain: \u001b[0mScanning /kaggle/input/data-rd/train/labels... 405 images, 0 backgrounds, 0 corrupt:  17%|█▋        | 405/2325 [00:01<00:08, 221.54it/s]"
     ]
    },
    {
     "name": "stderr",
     "output_type": "stream",
     "text": [
      "\r",
      "\u001b[34m\u001b[1mtrain: \u001b[0mScanning /kaggle/input/data-rd/train/labels... 429 images, 0 backgrounds, 0 corrupt:  18%|█▊        | 429/2325 [00:01<00:08, 226.15it/s]"
     ]
    },
    {
     "name": "stderr",
     "output_type": "stream",
     "text": [
      "\r",
      "\u001b[34m\u001b[1mtrain: \u001b[0mScanning /kaggle/input/data-rd/train/labels... 452 images, 0 backgrounds, 0 corrupt:  19%|█▉        | 452/2325 [00:02<00:08, 225.51it/s]"
     ]
    },
    {
     "name": "stderr",
     "output_type": "stream",
     "text": [
      "\r",
      "\u001b[34m\u001b[1mtrain: \u001b[0mScanning /kaggle/input/data-rd/train/labels... 476 images, 0 backgrounds, 0 corrupt:  20%|██        | 476/2325 [00:02<00:08, 225.50it/s]"
     ]
    },
    {
     "name": "stderr",
     "output_type": "stream",
     "text": [
      "\r",
      "\u001b[34m\u001b[1mtrain: \u001b[0mScanning /kaggle/input/data-rd/train/labels... 502 images, 0 backgrounds, 0 corrupt:  22%|██▏       | 502/2325 [00:02<00:07, 234.32it/s]"
     ]
    },
    {
     "name": "stderr",
     "output_type": "stream",
     "text": [
      "\r",
      "\u001b[34m\u001b[1mtrain: \u001b[0mScanning /kaggle/input/data-rd/train/labels... 526 images, 0 backgrounds, 0 corrupt:  23%|██▎       | 526/2325 [00:02<00:08, 223.40it/s]"
     ]
    },
    {
     "name": "stderr",
     "output_type": "stream",
     "text": [
      "\r",
      "\u001b[34m\u001b[1mtrain: \u001b[0mScanning /kaggle/input/data-rd/train/labels... 552 images, 0 backgrounds, 0 corrupt:  24%|██▎       | 552/2325 [00:02<00:07, 230.39it/s]"
     ]
    },
    {
     "name": "stderr",
     "output_type": "stream",
     "text": [
      "\r",
      "\u001b[34m\u001b[1mtrain: \u001b[0mScanning /kaggle/input/data-rd/train/labels... 576 images, 0 backgrounds, 0 corrupt:  25%|██▍       | 576/2325 [00:02<00:07, 231.99it/s]"
     ]
    },
    {
     "name": "stderr",
     "output_type": "stream",
     "text": [
      "\r",
      "\u001b[34m\u001b[1mtrain: \u001b[0mScanning /kaggle/input/data-rd/train/labels... 600 images, 0 backgrounds, 0 corrupt:  26%|██▌       | 600/2325 [00:02<00:07, 222.91it/s]"
     ]
    },
    {
     "name": "stderr",
     "output_type": "stream",
     "text": [
      "\r",
      "\u001b[34m\u001b[1mtrain: \u001b[0mScanning /kaggle/input/data-rd/train/labels... 624 images, 0 backgrounds, 0 corrupt:  27%|██▋       | 624/2325 [00:02<00:07, 221.83it/s]"
     ]
    },
    {
     "name": "stderr",
     "output_type": "stream",
     "text": [
      "\r",
      "\u001b[34m\u001b[1mtrain: \u001b[0mScanning /kaggle/input/data-rd/train/labels... 649 images, 0 backgrounds, 0 corrupt:  28%|██▊       | 649/2325 [00:02<00:07, 226.11it/s]"
     ]
    },
    {
     "name": "stderr",
     "output_type": "stream",
     "text": [
      "\r",
      "\u001b[34m\u001b[1mtrain: \u001b[0mScanning /kaggle/input/data-rd/train/labels... 672 images, 0 backgrounds, 0 corrupt:  29%|██▉       | 672/2325 [00:03<00:07, 219.69it/s]"
     ]
    },
    {
     "name": "stderr",
     "output_type": "stream",
     "text": [
      "\r",
      "\u001b[34m\u001b[1mtrain: \u001b[0mScanning /kaggle/input/data-rd/train/labels... 695 images, 0 backgrounds, 0 corrupt:  30%|██▉       | 695/2325 [00:03<00:07, 221.88it/s]"
     ]
    },
    {
     "name": "stderr",
     "output_type": "stream",
     "text": [
      "\r",
      "\u001b[34m\u001b[1mtrain: \u001b[0mScanning /kaggle/input/data-rd/train/labels... 720 images, 0 backgrounds, 0 corrupt:  31%|███       | 720/2325 [00:03<00:06, 229.61it/s]"
     ]
    },
    {
     "name": "stderr",
     "output_type": "stream",
     "text": [
      "\r",
      "\u001b[34m\u001b[1mtrain: \u001b[0mScanning /kaggle/input/data-rd/train/labels... 744 images, 0 backgrounds, 0 corrupt:  32%|███▏      | 744/2325 [00:03<00:06, 231.56it/s]"
     ]
    },
    {
     "name": "stderr",
     "output_type": "stream",
     "text": [
      "\r",
      "\u001b[34m\u001b[1mtrain: \u001b[0mScanning /kaggle/input/data-rd/train/labels... 768 images, 0 backgrounds, 0 corrupt:  33%|███▎      | 768/2325 [00:03<00:06, 232.88it/s]"
     ]
    },
    {
     "name": "stderr",
     "output_type": "stream",
     "text": [
      "\r",
      "\u001b[34m\u001b[1mtrain: \u001b[0mScanning /kaggle/input/data-rd/train/labels... 792 images, 0 backgrounds, 0 corrupt:  34%|███▍      | 792/2325 [00:03<00:06, 228.35it/s]"
     ]
    },
    {
     "name": "stderr",
     "output_type": "stream",
     "text": [
      "\r",
      "\u001b[34m\u001b[1mtrain: \u001b[0mScanning /kaggle/input/data-rd/train/labels... 818 images, 0 backgrounds, 0 corrupt:  35%|███▌      | 818/2325 [00:03<00:06, 233.22it/s]"
     ]
    },
    {
     "name": "stderr",
     "output_type": "stream",
     "text": [
      "\r",
      "\u001b[34m\u001b[1mtrain: \u001b[0mScanning /kaggle/input/data-rd/train/labels... 844 images, 0 backgrounds, 0 corrupt:  36%|███▋      | 844/2325 [00:03<00:06, 238.19it/s]"
     ]
    },
    {
     "name": "stderr",
     "output_type": "stream",
     "text": [
      "\r",
      "\u001b[34m\u001b[1mtrain: \u001b[0mScanning /kaggle/input/data-rd/train/labels... 868 images, 0 backgrounds, 0 corrupt:  37%|███▋      | 868/2325 [00:03<00:06, 225.50it/s]"
     ]
    },
    {
     "name": "stderr",
     "output_type": "stream",
     "text": [
      "\r",
      "\u001b[34m\u001b[1mtrain: \u001b[0mScanning /kaggle/input/data-rd/train/labels... 894 images, 0 backgrounds, 0 corrupt:  38%|███▊      | 894/2325 [00:03<00:06, 230.87it/s]"
     ]
    },
    {
     "name": "stderr",
     "output_type": "stream",
     "text": [
      "\r",
      "\u001b[34m\u001b[1mtrain: \u001b[0mScanning /kaggle/input/data-rd/train/labels... 918 images, 0 backgrounds, 0 corrupt:  39%|███▉      | 918/2325 [00:04<00:06, 232.15it/s]"
     ]
    },
    {
     "name": "stderr",
     "output_type": "stream",
     "text": [
      "\r",
      "\u001b[34m\u001b[1mtrain: \u001b[0mScanning /kaggle/input/data-rd/train/labels... 942 images, 0 backgrounds, 0 corrupt:  41%|████      | 942/2325 [00:04<00:05, 233.64it/s]"
     ]
    },
    {
     "name": "stderr",
     "output_type": "stream",
     "text": [
      "\r",
      "\u001b[34m\u001b[1mtrain: \u001b[0mScanning /kaggle/input/data-rd/train/labels... 966 images, 0 backgrounds, 0 corrupt:  42%|████▏     | 966/2325 [00:04<00:05, 229.94it/s]"
     ]
    },
    {
     "name": "stderr",
     "output_type": "stream",
     "text": [
      "\r",
      "\u001b[34m\u001b[1mtrain: \u001b[0mScanning /kaggle/input/data-rd/train/labels... 990 images, 0 backgrounds, 0 corrupt:  43%|████▎     | 990/2325 [00:04<00:06, 220.08it/s]"
     ]
    },
    {
     "name": "stderr",
     "output_type": "stream",
     "text": [
      "\r",
      "\u001b[34m\u001b[1mtrain: \u001b[0mScanning /kaggle/input/data-rd/train/labels... 1014 images, 0 backgrounds, 0 corrupt:  44%|████▎     | 1014/2325 [00:04<00:05, 225.21it/s]"
     ]
    },
    {
     "name": "stderr",
     "output_type": "stream",
     "text": [
      "\r",
      "\u001b[34m\u001b[1mtrain: \u001b[0mScanning /kaggle/input/data-rd/train/labels... 1037 images, 0 backgrounds, 0 corrupt:  45%|████▍     | 1037/2325 [00:04<00:05, 221.52it/s]"
     ]
    },
    {
     "name": "stderr",
     "output_type": "stream",
     "text": [
      "\r",
      "\u001b[34m\u001b[1mtrain: \u001b[0mScanning /kaggle/input/data-rd/train/labels... 1060 images, 0 backgrounds, 0 corrupt:  46%|████▌     | 1060/2325 [00:04<00:05, 214.93it/s]"
     ]
    },
    {
     "name": "stderr",
     "output_type": "stream",
     "text": [
      "\r",
      "\u001b[34m\u001b[1mtrain: \u001b[0mScanning /kaggle/input/data-rd/train/labels... 1083 images, 0 backgrounds, 0 corrupt:  47%|████▋     | 1083/2325 [00:04<00:06, 206.24it/s]"
     ]
    },
    {
     "name": "stderr",
     "output_type": "stream",
     "text": [
      "\r",
      "\u001b[34m\u001b[1mtrain: \u001b[0mScanning /kaggle/input/data-rd/train/labels... 1108 images, 0 backgrounds, 0 corrupt:  48%|████▊     | 1108/2325 [00:04<00:05, 215.92it/s]"
     ]
    },
    {
     "name": "stderr",
     "output_type": "stream",
     "text": [
      "\r",
      "\u001b[34m\u001b[1mtrain: \u001b[0mScanning /kaggle/input/data-rd/train/labels... 1130 images, 0 backgrounds, 0 corrupt:  49%|████▊     | 1130/2325 [00:05<00:05, 212.21it/s]"
     ]
    },
    {
     "name": "stderr",
     "output_type": "stream",
     "text": [
      "\r",
      "\u001b[34m\u001b[1mtrain: \u001b[0mScanning /kaggle/input/data-rd/train/labels... 1154 images, 0 backgrounds, 0 corrupt:  50%|████▉     | 1154/2325 [00:05<00:05, 208.10it/s]"
     ]
    },
    {
     "name": "stderr",
     "output_type": "stream",
     "text": [
      "\r",
      "\u001b[34m\u001b[1mtrain: \u001b[0mScanning /kaggle/input/data-rd/train/labels... 1178 images, 0 backgrounds, 0 corrupt:  51%|█████     | 1178/2325 [00:05<00:05, 213.42it/s]"
     ]
    },
    {
     "name": "stderr",
     "output_type": "stream",
     "text": [
      "\r",
      "\u001b[34m\u001b[1mtrain: \u001b[0mScanning /kaggle/input/data-rd/train/labels... 1203 images, 0 backgrounds, 0 corrupt:  52%|█████▏    | 1203/2325 [00:05<00:05, 222.03it/s]"
     ]
    },
    {
     "name": "stderr",
     "output_type": "stream",
     "text": [
      "\r",
      "\u001b[34m\u001b[1mtrain: \u001b[0mScanning /kaggle/input/data-rd/train/labels... 1227 images, 0 backgrounds, 0 corrupt:  53%|█████▎    | 1227/2325 [00:05<00:04, 220.18it/s]"
     ]
    },
    {
     "name": "stderr",
     "output_type": "stream",
     "text": [
      "\r",
      "\u001b[34m\u001b[1mtrain: \u001b[0mScanning /kaggle/input/data-rd/train/labels... 1250 images, 0 backgrounds, 0 corrupt:  54%|█████▍    | 1250/2325 [00:05<00:04, 222.82it/s]"
     ]
    },
    {
     "name": "stderr",
     "output_type": "stream",
     "text": [
      "\r",
      "\u001b[34m\u001b[1mtrain: \u001b[0mScanning /kaggle/input/data-rd/train/labels... 1273 images, 0 backgrounds, 0 corrupt:  55%|█████▍    | 1273/2325 [00:05<00:04, 222.75it/s]"
     ]
    },
    {
     "name": "stderr",
     "output_type": "stream",
     "text": [
      "\r",
      "\u001b[34m\u001b[1mtrain: \u001b[0mScanning /kaggle/input/data-rd/train/labels... 1296 images, 0 backgrounds, 0 corrupt:  56%|█████▌    | 1296/2325 [00:05<00:04, 220.00it/s]"
     ]
    },
    {
     "name": "stderr",
     "output_type": "stream",
     "text": [
      "\r",
      "\u001b[34m\u001b[1mtrain: \u001b[0mScanning /kaggle/input/data-rd/train/labels... 1319 images, 0 backgrounds, 0 corrupt:  57%|█████▋    | 1319/2325 [00:05<00:04, 217.97it/s]"
     ]
    },
    {
     "name": "stderr",
     "output_type": "stream",
     "text": [
      "\r",
      "\u001b[34m\u001b[1mtrain: \u001b[0mScanning /kaggle/input/data-rd/train/labels... 1341 images, 0 backgrounds, 0 corrupt:  58%|█████▊    | 1341/2325 [00:06<00:04, 217.09it/s]"
     ]
    },
    {
     "name": "stderr",
     "output_type": "stream",
     "text": [
      "\r",
      "\u001b[34m\u001b[1mtrain: \u001b[0mScanning /kaggle/input/data-rd/train/labels... 1363 images, 0 backgrounds, 0 corrupt:  59%|█████▊    | 1363/2325 [00:06<00:04, 209.03it/s]"
     ]
    },
    {
     "name": "stderr",
     "output_type": "stream",
     "text": [
      "\r",
      "\u001b[34m\u001b[1mtrain: \u001b[0mScanning /kaggle/input/data-rd/train/labels... 1386 images, 0 backgrounds, 0 corrupt:  60%|█████▉    | 1386/2325 [00:06<00:04, 212.98it/s]"
     ]
    },
    {
     "name": "stderr",
     "output_type": "stream",
     "text": [
      "\r",
      "\u001b[34m\u001b[1mtrain: \u001b[0mScanning /kaggle/input/data-rd/train/labels... 1408 images, 0 backgrounds, 0 corrupt:  61%|██████    | 1408/2325 [00:06<00:04, 214.19it/s]"
     ]
    },
    {
     "name": "stderr",
     "output_type": "stream",
     "text": [
      "\r",
      "\u001b[34m\u001b[1mtrain: \u001b[0mScanning /kaggle/input/data-rd/train/labels... 1434 images, 0 backgrounds, 0 corrupt:  62%|██████▏   | 1434/2325 [00:06<00:03, 226.17it/s]"
     ]
    },
    {
     "name": "stderr",
     "output_type": "stream",
     "text": [
      "\r",
      "\u001b[34m\u001b[1mtrain: \u001b[0mScanning /kaggle/input/data-rd/train/labels... 1457 images, 0 backgrounds, 0 corrupt:  63%|██████▎   | 1457/2325 [00:06<00:04, 213.65it/s]"
     ]
    },
    {
     "name": "stderr",
     "output_type": "stream",
     "text": [
      "\r",
      "\u001b[34m\u001b[1mtrain: \u001b[0mScanning /kaggle/input/data-rd/train/labels... 1479 images, 0 backgrounds, 0 corrupt:  64%|██████▎   | 1479/2325 [00:06<00:04, 210.80it/s]"
     ]
    },
    {
     "name": "stderr",
     "output_type": "stream",
     "text": [
      "\r",
      "\u001b[34m\u001b[1mtrain: \u001b[0mScanning /kaggle/input/data-rd/train/labels... 1501 images, 0 backgrounds, 0 corrupt:  65%|██████▍   | 1501/2325 [00:06<00:03, 212.18it/s]"
     ]
    },
    {
     "name": "stderr",
     "output_type": "stream",
     "text": [
      "\r",
      "\u001b[34m\u001b[1mtrain: \u001b[0mScanning /kaggle/input/data-rd/train/labels... 1525 images, 0 backgrounds, 0 corrupt:  66%|██████▌   | 1525/2325 [00:06<00:03, 217.19it/s]"
     ]
    },
    {
     "name": "stderr",
     "output_type": "stream",
     "text": [
      "\r",
      "\u001b[34m\u001b[1mtrain: \u001b[0mScanning /kaggle/input/data-rd/train/labels... 1547 images, 0 backgrounds, 0 corrupt:  67%|██████▋   | 1547/2325 [00:06<00:03, 215.31it/s]"
     ]
    },
    {
     "name": "stderr",
     "output_type": "stream",
     "text": [
      "\r",
      "\u001b[34m\u001b[1mtrain: \u001b[0mScanning /kaggle/input/data-rd/train/labels... 1569 images, 0 backgrounds, 0 corrupt:  67%|██████▋   | 1569/2325 [00:07<00:03, 214.60it/s]"
     ]
    },
    {
     "name": "stderr",
     "output_type": "stream",
     "text": [
      "\r",
      "\u001b[34m\u001b[1mtrain: \u001b[0mScanning /kaggle/input/data-rd/train/labels... 1592 images, 0 backgrounds, 0 corrupt:  68%|██████▊   | 1592/2325 [00:07<00:03, 217.12it/s]"
     ]
    },
    {
     "name": "stderr",
     "output_type": "stream",
     "text": [
      "\r",
      "\u001b[34m\u001b[1mtrain: \u001b[0mScanning /kaggle/input/data-rd/train/labels... 1617 images, 0 backgrounds, 0 corrupt:  70%|██████▉   | 1617/2325 [00:07<00:03, 221.03it/s]"
     ]
    },
    {
     "name": "stderr",
     "output_type": "stream",
     "text": [
      "\r",
      "\u001b[34m\u001b[1mtrain: \u001b[0mScanning /kaggle/input/data-rd/train/labels... 1641 images, 0 backgrounds, 0 corrupt:  71%|███████   | 1641/2325 [00:07<00:03, 226.12it/s]"
     ]
    },
    {
     "name": "stderr",
     "output_type": "stream",
     "text": [
      "\r",
      "\u001b[34m\u001b[1mtrain: \u001b[0mScanning /kaggle/input/data-rd/train/labels... 1664 images, 0 backgrounds, 0 corrupt:  72%|███████▏  | 1664/2325 [00:07<00:02, 221.45it/s]"
     ]
    },
    {
     "name": "stderr",
     "output_type": "stream",
     "text": [
      "\r",
      "\u001b[34m\u001b[1mtrain: \u001b[0mScanning /kaggle/input/data-rd/train/labels... 1687 images, 0 backgrounds, 0 corrupt:  73%|███████▎  | 1687/2325 [00:07<00:02, 220.58it/s]"
     ]
    },
    {
     "name": "stderr",
     "output_type": "stream",
     "text": [
      "\r",
      "\u001b[34m\u001b[1mtrain: \u001b[0mScanning /kaggle/input/data-rd/train/labels... 1710 images, 0 backgrounds, 0 corrupt:  74%|███████▎  | 1710/2325 [00:07<00:02, 219.06it/s]"
     ]
    },
    {
     "name": "stderr",
     "output_type": "stream",
     "text": [
      "\r",
      "\u001b[34m\u001b[1mtrain: \u001b[0mScanning /kaggle/input/data-rd/train/labels... 1734 images, 0 backgrounds, 0 corrupt:  75%|███████▍  | 1734/2325 [00:07<00:02, 223.74it/s]"
     ]
    },
    {
     "name": "stderr",
     "output_type": "stream",
     "text": [
      "\r",
      "\u001b[34m\u001b[1mtrain: \u001b[0mScanning /kaggle/input/data-rd/train/labels... 1757 images, 0 backgrounds, 0 corrupt:  76%|███████▌  | 1757/2325 [00:07<00:02, 218.02it/s]"
     ]
    },
    {
     "name": "stderr",
     "output_type": "stream",
     "text": [
      "\r",
      "\u001b[34m\u001b[1mtrain: \u001b[0mScanning /kaggle/input/data-rd/train/labels... 1779 images, 0 backgrounds, 0 corrupt:  77%|███████▋  | 1779/2325 [00:08<00:02, 214.40it/s]"
     ]
    },
    {
     "name": "stderr",
     "output_type": "stream",
     "text": [
      "\r",
      "\u001b[34m\u001b[1mtrain: \u001b[0mScanning /kaggle/input/data-rd/train/labels... 1803 images, 0 backgrounds, 0 corrupt:  78%|███████▊  | 1803/2325 [00:08<00:02, 214.26it/s]"
     ]
    },
    {
     "name": "stderr",
     "output_type": "stream",
     "text": [
      "\r",
      "\u001b[34m\u001b[1mtrain: \u001b[0mScanning /kaggle/input/data-rd/train/labels... 1827 images, 0 backgrounds, 0 corrupt:  79%|███████▊  | 1827/2325 [00:08<00:02, 219.08it/s]"
     ]
    },
    {
     "name": "stderr",
     "output_type": "stream",
     "text": [
      "\r",
      "\u001b[34m\u001b[1mtrain: \u001b[0mScanning /kaggle/input/data-rd/train/labels... 1850 images, 0 backgrounds, 0 corrupt:  80%|███████▉  | 1850/2325 [00:08<00:02, 215.85it/s]"
     ]
    },
    {
     "name": "stderr",
     "output_type": "stream",
     "text": [
      "\r",
      "\u001b[34m\u001b[1mtrain: \u001b[0mScanning /kaggle/input/data-rd/train/labels... 1874 images, 0 backgrounds, 0 corrupt:  81%|████████  | 1874/2325 [00:08<00:02, 221.28it/s]"
     ]
    },
    {
     "name": "stderr",
     "output_type": "stream",
     "text": [
      "\r",
      "\u001b[34m\u001b[1mtrain: \u001b[0mScanning /kaggle/input/data-rd/train/labels... 1897 images, 0 backgrounds, 0 corrupt:  82%|████████▏ | 1897/2325 [00:08<00:01, 221.93it/s]"
     ]
    },
    {
     "name": "stderr",
     "output_type": "stream",
     "text": [
      "\r",
      "\u001b[34m\u001b[1mtrain: \u001b[0mScanning /kaggle/input/data-rd/train/labels... 1920 images, 0 backgrounds, 0 corrupt:  83%|████████▎ | 1920/2325 [00:08<00:01, 218.64it/s]"
     ]
    },
    {
     "name": "stderr",
     "output_type": "stream",
     "text": [
      "\r",
      "\u001b[34m\u001b[1mtrain: \u001b[0mScanning /kaggle/input/data-rd/train/labels... 1944 images, 0 backgrounds, 0 corrupt:  84%|████████▎ | 1944/2325 [00:08<00:01, 220.33it/s]"
     ]
    },
    {
     "name": "stderr",
     "output_type": "stream",
     "text": [
      "\r",
      "\u001b[34m\u001b[1mtrain: \u001b[0mScanning /kaggle/input/data-rd/train/labels... 1968 images, 0 backgrounds, 0 corrupt:  85%|████████▍ | 1968/2325 [00:08<00:01, 222.79it/s]"
     ]
    },
    {
     "name": "stderr",
     "output_type": "stream",
     "text": [
      "\r",
      "\u001b[34m\u001b[1mtrain: \u001b[0mScanning /kaggle/input/data-rd/train/labels... 1991 images, 0 backgrounds, 0 corrupt:  86%|████████▌ | 1991/2325 [00:08<00:01, 219.43it/s]"
     ]
    },
    {
     "name": "stderr",
     "output_type": "stream",
     "text": [
      "\r",
      "\u001b[34m\u001b[1mtrain: \u001b[0mScanning /kaggle/input/data-rd/train/labels... 2013 images, 0 backgrounds, 0 corrupt:  87%|████████▋ | 2013/2325 [00:09<00:01, 218.28it/s]"
     ]
    },
    {
     "name": "stderr",
     "output_type": "stream",
     "text": [
      "\r",
      "\u001b[34m\u001b[1mtrain: \u001b[0mScanning /kaggle/input/data-rd/train/labels... 2037 images, 0 backgrounds, 0 corrupt:  88%|████████▊ | 2037/2325 [00:09<00:01, 221.19it/s]"
     ]
    },
    {
     "name": "stderr",
     "output_type": "stream",
     "text": [
      "\r",
      "\u001b[34m\u001b[1mtrain: \u001b[0mScanning /kaggle/input/data-rd/train/labels... 2060 images, 0 backgrounds, 0 corrupt:  89%|████████▊ | 2060/2325 [00:09<00:01, 221.13it/s]"
     ]
    },
    {
     "name": "stderr",
     "output_type": "stream",
     "text": [
      "\r",
      "\u001b[34m\u001b[1mtrain: \u001b[0mScanning /kaggle/input/data-rd/train/labels... 2083 images, 0 backgrounds, 0 corrupt:  90%|████████▉ | 2083/2325 [00:09<00:01, 223.62it/s]"
     ]
    },
    {
     "name": "stderr",
     "output_type": "stream",
     "text": [
      "\r",
      "\u001b[34m\u001b[1mtrain: \u001b[0mScanning /kaggle/input/data-rd/train/labels... 2109 images, 0 backgrounds, 0 corrupt:  91%|█████████ | 2109/2325 [00:09<00:00, 226.11it/s]"
     ]
    },
    {
     "name": "stderr",
     "output_type": "stream",
     "text": [
      "\r",
      "\u001b[34m\u001b[1mtrain: \u001b[0mScanning /kaggle/input/data-rd/train/labels... 2132 images, 0 backgrounds, 0 corrupt:  92%|█████████▏| 2132/2325 [00:09<00:00, 225.49it/s]"
     ]
    },
    {
     "name": "stderr",
     "output_type": "stream",
     "text": [
      "\r",
      "\u001b[34m\u001b[1mtrain: \u001b[0mScanning /kaggle/input/data-rd/train/labels... 2155 images, 0 backgrounds, 0 corrupt:  93%|█████████▎| 2155/2325 [00:09<00:00, 226.67it/s]"
     ]
    },
    {
     "name": "stderr",
     "output_type": "stream",
     "text": [
      "\r",
      "\u001b[34m\u001b[1mtrain: \u001b[0mScanning /kaggle/input/data-rd/train/labels... 2178 images, 0 backgrounds, 0 corrupt:  94%|█████████▎| 2178/2325 [00:09<00:00, 218.85it/s]"
     ]
    },
    {
     "name": "stderr",
     "output_type": "stream",
     "text": [
      "\r",
      "\u001b[34m\u001b[1mtrain: \u001b[0mScanning /kaggle/input/data-rd/train/labels... 2202 images, 0 backgrounds, 0 corrupt:  95%|█████████▍| 2202/2325 [00:09<00:00, 221.75it/s]"
     ]
    },
    {
     "name": "stderr",
     "output_type": "stream",
     "text": [
      "\r",
      "\u001b[34m\u001b[1mtrain: \u001b[0mScanning /kaggle/input/data-rd/train/labels... 2226 images, 0 backgrounds, 0 corrupt:  96%|█████████▌| 2226/2325 [00:10<00:00, 225.01it/s]"
     ]
    },
    {
     "name": "stderr",
     "output_type": "stream",
     "text": [
      "\r",
      "\u001b[34m\u001b[1mtrain: \u001b[0mScanning /kaggle/input/data-rd/train/labels... 2249 images, 0 backgrounds, 0 corrupt:  97%|█████████▋| 2249/2325 [00:10<00:00, 224.68it/s]"
     ]
    },
    {
     "name": "stderr",
     "output_type": "stream",
     "text": [
      "\r",
      "\u001b[34m\u001b[1mtrain: \u001b[0mScanning /kaggle/input/data-rd/train/labels... 2273 images, 0 backgrounds, 0 corrupt:  98%|█████████▊| 2273/2325 [00:10<00:00, 228.73it/s]"
     ]
    },
    {
     "name": "stderr",
     "output_type": "stream",
     "text": [
      "\r",
      "\u001b[34m\u001b[1mtrain: \u001b[0mScanning /kaggle/input/data-rd/train/labels... 2296 images, 0 backgrounds, 0 corrupt:  99%|█████████▉| 2296/2325 [00:10<00:00, 223.95it/s]"
     ]
    },
    {
     "name": "stderr",
     "output_type": "stream",
     "text": [
      "\r",
      "\u001b[34m\u001b[1mtrain: \u001b[0mScanning /kaggle/input/data-rd/train/labels... 2320 images, 0 backgrounds, 0 corrupt: 100%|█████████▉| 2320/2325 [00:10<00:00, 227.98it/s]"
     ]
    },
    {
     "name": "stderr",
     "output_type": "stream",
     "text": [
      "\r",
      "\u001b[34m\u001b[1mtrain: \u001b[0mScanning /kaggle/input/data-rd/train/labels... 2325 images, 0 backgrounds, 0 corrupt: 100%|██████████| 2325/2325 [00:10<00:00, 221.97it/s]"
     ]
    },
    {
     "name": "stderr",
     "output_type": "stream",
     "text": [
      "\n"
     ]
    },
    {
     "name": "stdout",
     "output_type": "stream",
     "text": [
      "\u001b[34m\u001b[1mtrain: \u001b[0mWARNING ⚠️ Cache directory /kaggle/input/data-rd/train is not writeable, cache not saved.\n"
     ]
    },
    {
     "name": "stdout",
     "output_type": "stream",
     "text": [
      "\u001b[34m\u001b[1malbumentations: \u001b[0mBlur(p=0.01, blur_limit=(3, 7)), MedianBlur(p=0.01, blur_limit=(3, 7)), ToGray(p=0.01, num_output_channels=3, method='weighted_average'), CLAHE(p=0.01, clip_limit=(1, 4.0), tile_grid_size=(8, 8))\n"
     ]
    },
    {
     "name": "stderr",
     "output_type": "stream",
     "text": [
      "/opt/conda/lib/python3.10/site-packages/albumentations/__init__.py:13: UserWarning: A new version of Albumentations is available: 1.4.21 (you have 1.4.17). Upgrade using: pip install -U albumentations. To disable automatic update checks, set the environment variable NO_ALBUMENTATIONS_UPDATE to 1.\n",
      "  check_for_updates()\n"
     ]
    },
    {
     "name": "stderr",
     "output_type": "stream",
     "text": [
      "/opt/conda/lib/python3.10/multiprocessing/popen_fork.py:66: RuntimeWarning: os.fork() was called. os.fork() is incompatible with multithreaded code, and JAX is multithreaded, so this will likely lead to a deadlock.\n",
      "  self.pid = os.fork()\n"
     ]
    },
    {
     "name": "stderr",
     "output_type": "stream",
     "text": [
      "\r",
      "\u001b[34m\u001b[1mval: \u001b[0mScanning /kaggle/input/data-rd/valid/labels...:   0%|          | 0/664 [00:00<?, ?it/s]"
     ]
    },
    {
     "name": "stderr",
     "output_type": "stream",
     "text": [
      "\r",
      "\u001b[34m\u001b[1mval: \u001b[0mScanning /kaggle/input/data-rd/valid/labels... 19 images, 0 backgrounds, 0 corrupt:   3%|▎         | 19/664 [00:00<00:03, 184.94it/s]"
     ]
    },
    {
     "name": "stderr",
     "output_type": "stream",
     "text": [
      "\r",
      "\u001b[34m\u001b[1mval: \u001b[0mScanning /kaggle/input/data-rd/valid/labels... 39 images, 0 backgrounds, 0 corrupt:   6%|▌         | 39/664 [00:00<00:03, 187.74it/s]"
     ]
    },
    {
     "name": "stderr",
     "output_type": "stream",
     "text": [
      "\r",
      "\u001b[34m\u001b[1mval: \u001b[0mScanning /kaggle/input/data-rd/valid/labels... 58 images, 0 backgrounds, 0 corrupt:   9%|▊         | 58/664 [00:00<00:03, 185.83it/s]"
     ]
    },
    {
     "name": "stderr",
     "output_type": "stream",
     "text": [
      "\r",
      "\u001b[34m\u001b[1mval: \u001b[0mScanning /kaggle/input/data-rd/valid/labels... 81 images, 0 backgrounds, 0 corrupt:  12%|█▏        | 81/664 [00:00<00:02, 196.14it/s]"
     ]
    },
    {
     "name": "stderr",
     "output_type": "stream",
     "text": [
      "\r",
      "\u001b[34m\u001b[1mval: \u001b[0mScanning /kaggle/input/data-rd/valid/labels... 105 images, 0 backgrounds, 0 corrupt:  16%|█▌        | 105/664 [00:00<00:02, 202.63it/s]"
     ]
    },
    {
     "name": "stderr",
     "output_type": "stream",
     "text": [
      "\r",
      "\u001b[34m\u001b[1mval: \u001b[0mScanning /kaggle/input/data-rd/valid/labels... 128 images, 0 backgrounds, 0 corrupt:  19%|█▉        | 128/664 [00:00<00:02, 210.86it/s]"
     ]
    },
    {
     "name": "stderr",
     "output_type": "stream",
     "text": [
      "\r",
      "\u001b[34m\u001b[1mval: \u001b[0mScanning /kaggle/input/data-rd/valid/labels... 154 images, 0 backgrounds, 0 corrupt:  23%|██▎       | 154/664 [00:00<00:02, 220.15it/s]"
     ]
    },
    {
     "name": "stderr",
     "output_type": "stream",
     "text": [
      "\r",
      "\u001b[34m\u001b[1mval: \u001b[0mScanning /kaggle/input/data-rd/valid/labels... 177 images, 0 backgrounds, 0 corrupt:  27%|██▋       | 177/664 [00:00<00:02, 221.46it/s]"
     ]
    },
    {
     "name": "stderr",
     "output_type": "stream",
     "text": [
      "\r",
      "\u001b[34m\u001b[1mval: \u001b[0mScanning /kaggle/input/data-rd/valid/labels... 200 images, 0 backgrounds, 0 corrupt:  30%|███       | 200/664 [00:00<00:02, 221.78it/s]"
     ]
    },
    {
     "name": "stderr",
     "output_type": "stream",
     "text": [
      "\r",
      "\u001b[34m\u001b[1mval: \u001b[0mScanning /kaggle/input/data-rd/valid/labels... 226 images, 0 backgrounds, 0 corrupt:  34%|███▍      | 226/664 [00:01<00:01, 230.43it/s]"
     ]
    },
    {
     "name": "stderr",
     "output_type": "stream",
     "text": [
      "\r",
      "\u001b[34m\u001b[1mval: \u001b[0mScanning /kaggle/input/data-rd/valid/labels... 250 images, 0 backgrounds, 0 corrupt:  38%|███▊      | 250/664 [00:01<00:01, 231.25it/s]"
     ]
    },
    {
     "name": "stderr",
     "output_type": "stream",
     "text": [
      "\r",
      "\u001b[34m\u001b[1mval: \u001b[0mScanning /kaggle/input/data-rd/valid/labels... 276 images, 0 backgrounds, 0 corrupt:  42%|████▏     | 276/664 [00:01<00:01, 234.75it/s]"
     ]
    },
    {
     "name": "stderr",
     "output_type": "stream",
     "text": [
      "\r",
      "\u001b[34m\u001b[1mval: \u001b[0mScanning /kaggle/input/data-rd/valid/labels... 300 images, 0 backgrounds, 0 corrupt:  45%|████▌     | 300/664 [00:01<00:01, 219.72it/s]"
     ]
    },
    {
     "name": "stderr",
     "output_type": "stream",
     "text": [
      "\r",
      "\u001b[34m\u001b[1mval: \u001b[0mScanning /kaggle/input/data-rd/valid/labels... 323 images, 0 backgrounds, 0 corrupt:  49%|████▊     | 323/664 [00:01<00:01, 212.08it/s]"
     ]
    },
    {
     "name": "stderr",
     "output_type": "stream",
     "text": [
      "\r",
      "\u001b[34m\u001b[1mval: \u001b[0mScanning /kaggle/input/data-rd/valid/labels... 346 images, 0 backgrounds, 0 corrupt:  52%|█████▏    | 346/664 [00:01<00:01, 215.58it/s]"
     ]
    },
    {
     "name": "stderr",
     "output_type": "stream",
     "text": [
      "\r",
      "\u001b[34m\u001b[1mval: \u001b[0mScanning /kaggle/input/data-rd/valid/labels... 369 images, 0 backgrounds, 0 corrupt:  56%|█████▌    | 369/664 [00:01<00:01, 216.48it/s]"
     ]
    },
    {
     "name": "stderr",
     "output_type": "stream",
     "text": [
      "\r",
      "\u001b[34m\u001b[1mval: \u001b[0mScanning /kaggle/input/data-rd/valid/labels... 391 images, 0 backgrounds, 0 corrupt:  59%|█████▉    | 391/664 [00:01<00:01, 212.00it/s]"
     ]
    },
    {
     "name": "stderr",
     "output_type": "stream",
     "text": [
      "\r",
      "\u001b[34m\u001b[1mval: \u001b[0mScanning /kaggle/input/data-rd/valid/labels... 413 images, 0 backgrounds, 0 corrupt:  62%|██████▏   | 413/664 [00:01<00:01, 210.70it/s]"
     ]
    },
    {
     "name": "stderr",
     "output_type": "stream",
     "text": [
      "\r",
      "\u001b[34m\u001b[1mval: \u001b[0mScanning /kaggle/input/data-rd/valid/labels... 436 images, 0 backgrounds, 0 corrupt:  66%|██████▌   | 436/664 [00:02<00:01, 213.52it/s]"
     ]
    },
    {
     "name": "stderr",
     "output_type": "stream",
     "text": [
      "\r",
      "\u001b[34m\u001b[1mval: \u001b[0mScanning /kaggle/input/data-rd/valid/labels... 462 images, 0 backgrounds, 0 corrupt:  70%|██████▉   | 462/664 [00:02<00:00, 222.64it/s]"
     ]
    },
    {
     "name": "stderr",
     "output_type": "stream",
     "text": [
      "\r",
      "\u001b[34m\u001b[1mval: \u001b[0mScanning /kaggle/input/data-rd/valid/labels... 485 images, 0 backgrounds, 0 corrupt:  73%|███████▎  | 485/664 [00:02<00:00, 220.34it/s]"
     ]
    },
    {
     "name": "stderr",
     "output_type": "stream",
     "text": [
      "\r",
      "\u001b[34m\u001b[1mval: \u001b[0mScanning /kaggle/input/data-rd/valid/labels... 511 images, 0 backgrounds, 0 corrupt:  77%|███████▋  | 511/664 [00:02<00:00, 230.53it/s]"
     ]
    },
    {
     "name": "stderr",
     "output_type": "stream",
     "text": [
      "\r",
      "\u001b[34m\u001b[1mval: \u001b[0mScanning /kaggle/input/data-rd/valid/labels... 536 images, 0 backgrounds, 0 corrupt:  81%|████████  | 536/664 [00:02<00:00, 235.05it/s]"
     ]
    },
    {
     "name": "stderr",
     "output_type": "stream",
     "text": [
      "\r",
      "\u001b[34m\u001b[1mval: \u001b[0mScanning /kaggle/input/data-rd/valid/labels... 560 images, 0 backgrounds, 0 corrupt:  84%|████████▍ | 560/664 [00:02<00:00, 232.64it/s]"
     ]
    },
    {
     "name": "stderr",
     "output_type": "stream",
     "text": [
      "\r",
      "\u001b[34m\u001b[1mval: \u001b[0mScanning /kaggle/input/data-rd/valid/labels... 584 images, 0 backgrounds, 0 corrupt:  88%|████████▊ | 584/664 [00:02<00:00, 229.38it/s]"
     ]
    },
    {
     "name": "stderr",
     "output_type": "stream",
     "text": [
      "\r",
      "\u001b[34m\u001b[1mval: \u001b[0mScanning /kaggle/input/data-rd/valid/labels... 607 images, 0 backgrounds, 0 corrupt:  91%|█████████▏| 607/664 [00:02<00:00, 225.27it/s]"
     ]
    },
    {
     "name": "stderr",
     "output_type": "stream",
     "text": [
      "\r",
      "\u001b[34m\u001b[1mval: \u001b[0mScanning /kaggle/input/data-rd/valid/labels... 630 images, 0 backgrounds, 0 corrupt:  95%|█████████▍| 630/664 [00:02<00:00, 218.47it/s]"
     ]
    },
    {
     "name": "stderr",
     "output_type": "stream",
     "text": [
      "\r",
      "\u001b[34m\u001b[1mval: \u001b[0mScanning /kaggle/input/data-rd/valid/labels... 653 images, 0 backgrounds, 0 corrupt:  98%|█████████▊| 653/664 [00:02<00:00, 221.00it/s]"
     ]
    },
    {
     "name": "stderr",
     "output_type": "stream",
     "text": [
      "\r",
      "\u001b[34m\u001b[1mval: \u001b[0mScanning /kaggle/input/data-rd/valid/labels... 664 images, 0 backgrounds, 0 corrupt: 100%|██████████| 664/664 [00:03<00:00, 218.70it/s]"
     ]
    },
    {
     "name": "stdout",
     "output_type": "stream",
     "text": [
      "\u001b[34m\u001b[1mval: \u001b[0mWARNING ⚠️ Cache directory /kaggle/input/data-rd/valid is not writeable, cache not saved.\n"
     ]
    },
    {
     "name": "stderr",
     "output_type": "stream",
     "text": [
      "\n"
     ]
    },
    {
     "name": "stdout",
     "output_type": "stream",
     "text": [
      "Plotting labels to runs/detect/train/labels.jpg... \n"
     ]
    },
    {
     "name": "stdout",
     "output_type": "stream",
     "text": [
      "\u001b[34m\u001b[1moptimizer:\u001b[0m 'optimizer=auto' found, ignoring 'lr0=0.01' and 'momentum=0.937' and determining best 'optimizer', 'lr0' and 'momentum' automatically... \n"
     ]
    },
    {
     "name": "stdout",
     "output_type": "stream",
     "text": [
      "\u001b[34m\u001b[1moptimizer:\u001b[0m AdamW(lr=0.00125, momentum=0.9) with parameter groups 77 weight(decay=0.0), 84 weight(decay=0.0005), 83 bias(decay=0.0)\n"
     ]
    },
    {
     "name": "stdout",
     "output_type": "stream",
     "text": [
      "\u001b[34m\u001b[1mTensorBoard: \u001b[0mmodel graph visualization added ✅\n"
     ]
    },
    {
     "name": "stdout",
     "output_type": "stream",
     "text": [
      "Image sizes 640 train, 640 val\n",
      "Using 4 dataloader workers\n",
      "Logging results to \u001b[1mruns/detect/train\u001b[0m\n",
      "Starting training for 100 epochs...\n"
     ]
    },
    {
     "name": "stdout",
     "output_type": "stream",
     "text": [
      "\n",
      "      Epoch    GPU_mem   box_loss   cls_loss   dfl_loss  Instances       Size\n"
     ]
    },
    {
     "name": "stderr",
     "output_type": "stream",
     "text": [
      "\r",
      "  0%|          | 0/146 [00:00<?, ?it/s]"
     ]
    },
    {
     "name": "stderr",
     "output_type": "stream",
     "text": [
      "\r",
      "      1/100      6.86G      2.821      7.619      2.239         76        640:   0%|          | 0/146 [00:01<?, ?it/s]"
     ]
    },
    {
     "name": "stderr",
     "output_type": "stream",
     "text": [
      "\r",
      "      1/100      6.86G      2.821      7.619      2.239         76        640:   1%|          | 1/146 [00:01<03:32,  1.46s/it]"
     ]
    },
    {
     "name": "stderr",
     "output_type": "stream",
     "text": [
      "\r",
      "      1/100      6.86G        2.8      9.091       2.33         38        640:   1%|          | 1/146 [00:01<03:32,  1.46s/it]"
     ]
    },
    {
     "name": "stderr",
     "output_type": "stream",
     "text": [
      "\r",
      "      1/100      6.86G        2.8      9.091       2.33         38        640:   1%|▏         | 2/146 [00:01<02:08,  1.12it/s]"
     ]
    },
    {
     "name": "stderr",
     "output_type": "stream",
     "text": [
      "\r",
      "      1/100      6.86G      2.725      9.342      2.271         40        640:   1%|▏         | 2/146 [00:02<02:08,  1.12it/s]"
     ]
    },
    {
     "name": "stderr",
     "output_type": "stream",
     "text": [
      "\r",
      "      1/100      6.86G      2.725      9.342      2.271         40        640:   2%|▏         | 3/146 [00:02<01:41,  1.42it/s]"
     ]
    },
    {
     "name": "stderr",
     "output_type": "stream",
     "text": [
      "\r",
      "      1/100      6.86G      3.041      11.34      2.429         26        640:   2%|▏         | 3/146 [00:02<01:41,  1.42it/s]"
     ]
    },
    {
     "name": "stderr",
     "output_type": "stream",
     "text": [
      "\r",
      "      1/100      6.86G      3.041      11.34      2.429         26        640:   3%|▎         | 4/146 [00:02<01:28,  1.60it/s]"
     ]
    },
    {
     "name": "stderr",
     "output_type": "stream",
     "text": [
      "\r",
      "      1/100      6.86G      3.039      10.87      2.442         55        640:   3%|▎         | 4/146 [00:03<01:28,  1.60it/s]"
     ]
    },
    {
     "name": "stderr",
     "output_type": "stream",
     "text": [
      "\r",
      "      1/100      6.86G      3.039      10.87      2.442         55        640:   3%|▎         | 5/146 [00:03<01:20,  1.74it/s]"
     ]
    },
    {
     "name": "stderr",
     "output_type": "stream",
     "text": [
      "\r",
      "      1/100      6.86G       3.04      10.82       2.47         40        640:   3%|▎         | 5/146 [00:03<01:20,  1.74it/s]"
     ]
    },
    {
     "name": "stderr",
     "output_type": "stream",
     "text": [
      "\r",
      "      1/100      6.86G       3.04      10.82       2.47         40        640:   4%|▍         | 6/146 [00:03<01:15,  1.85it/s]"
     ]
    },
    {
     "name": "stderr",
     "output_type": "stream",
     "text": [
      "\r",
      "      1/100      6.86G      2.978      10.52      2.447         49        640:   4%|▍         | 6/146 [00:04<01:15,  1.85it/s]"
     ]
    },
    {
     "name": "stderr",
     "output_type": "stream",
     "text": [
      "\r",
      "      1/100      6.86G      2.978      10.52      2.447         49        640:   5%|▍         | 7/146 [00:04<01:12,  1.92it/s]"
     ]
    },
    {
     "name": "stderr",
     "output_type": "stream",
     "text": [
      "\r",
      "      1/100      6.86G      2.988      10.51      2.447         37        640:   5%|▍         | 7/146 [00:04<01:12,  1.92it/s]"
     ]
    },
    {
     "name": "stderr",
     "output_type": "stream",
     "text": [
      "\r",
      "      1/100      6.86G      2.988      10.51      2.447         37        640:   5%|▌         | 8/146 [00:04<01:10,  1.96it/s]"
     ]
    },
    {
     "name": "stderr",
     "output_type": "stream",
     "text": [
      "\r",
      "      1/100      6.87G      2.947      10.43      2.424         47        640:   5%|▌         | 8/146 [00:05<01:10,  1.96it/s]"
     ]
    },
    {
     "name": "stderr",
     "output_type": "stream",
     "text": [
      "\r",
      "      1/100      6.87G      2.947      10.43      2.424         47        640:   6%|▌         | 9/146 [00:05<01:13,  1.87it/s]"
     ]
    },
    {
     "name": "stderr",
     "output_type": "stream",
     "text": [
      "\r",
      "      1/100      6.88G      2.909       10.2      2.395         39        640:   6%|▌         | 9/146 [00:05<01:13,  1.87it/s]"
     ]
    },
    {
     "name": "stderr",
     "output_type": "stream",
     "text": [
      "\r",
      "      1/100      6.88G      2.909       10.2      2.395         39        640:   7%|▋         | 10/146 [00:05<01:10,  1.92it/s]"
     ]
    },
    {
     "name": "stderr",
     "output_type": "stream",
     "text": [
      "\r",
      "      1/100      6.88G      2.903       9.86       2.39         44        640:   7%|▋         | 10/146 [00:06<01:10,  1.92it/s]"
     ]
    },
    {
     "name": "stderr",
     "output_type": "stream",
     "text": [
      "\r",
      "      1/100      6.88G      2.903       9.86       2.39         44        640:   8%|▊         | 11/146 [00:06<01:09,  1.95it/s]"
     ]
    },
    {
     "name": "stderr",
     "output_type": "stream",
     "text": [
      "\r",
      "      1/100      6.88G      2.889      9.483      2.358         54        640:   8%|▊         | 11/146 [00:06<01:09,  1.95it/s]"
     ]
    },
    {
     "name": "stderr",
     "output_type": "stream",
     "text": [
      "\r",
      "      1/100      6.88G      2.889      9.483      2.358         54        640:   8%|▊         | 12/146 [00:06<01:07,  1.98it/s]"
     ]
    },
    {
     "name": "stderr",
     "output_type": "stream",
     "text": [
      "\r",
      "      1/100      6.88G      2.853       9.16      2.333         58        640:   8%|▊         | 12/146 [00:07<01:07,  1.98it/s]"
     ]
    },
    {
     "name": "stderr",
     "output_type": "stream",
     "text": [
      "\r",
      "      1/100      6.88G      2.853       9.16      2.333         58        640:   9%|▉         | 13/146 [00:07<01:06,  2.00it/s]"
     ]
    },
    {
     "name": "stderr",
     "output_type": "stream",
     "text": [
      "\r",
      "      1/100      6.88G      2.821      8.945      2.313         35        640:   9%|▉         | 13/146 [00:07<01:06,  2.00it/s]"
     ]
    },
    {
     "name": "stderr",
     "output_type": "stream",
     "text": [
      "\r",
      "      1/100      6.88G      2.821      8.945      2.313         35        640:  10%|▉         | 14/146 [00:07<01:05,  2.02it/s]"
     ]
    },
    {
     "name": "stderr",
     "output_type": "stream",
     "text": [
      "\r",
      "      1/100      6.88G      2.794      8.666      2.293         43        640:  10%|▉         | 14/146 [00:08<01:05,  2.02it/s]"
     ]
    },
    {
     "name": "stderr",
     "output_type": "stream",
     "text": [
      "\r",
      "      1/100      6.88G      2.794      8.666      2.293         43        640:  10%|█         | 15/146 [00:08<01:04,  2.02it/s]"
     ]
    },
    {
     "name": "stderr",
     "output_type": "stream",
     "text": [
      "\r",
      "      1/100      6.88G      2.775      8.468       2.28         32        640:  10%|█         | 15/146 [00:08<01:04,  2.02it/s]"
     ]
    },
    {
     "name": "stderr",
     "output_type": "stream",
     "text": [
      "\r",
      "      1/100      6.88G      2.775      8.468       2.28         32        640:  11%|█         | 16/146 [00:08<01:03,  2.03it/s]"
     ]
    },
    {
     "name": "stderr",
     "output_type": "stream",
     "text": [
      "\r",
      "      1/100      6.88G      2.748      8.216      2.254         53        640:  11%|█         | 16/146 [00:09<01:03,  2.03it/s]"
     ]
    },
    {
     "name": "stderr",
     "output_type": "stream",
     "text": [
      "\r",
      "      1/100      6.88G      2.748      8.216      2.254         53        640:  12%|█▏        | 17/146 [00:09<01:03,  2.04it/s]"
     ]
    },
    {
     "name": "stderr",
     "output_type": "stream",
     "text": [
      "\r",
      "      1/100      6.88G      2.721       8.03      2.223         35        640:  12%|█▏        | 17/146 [00:09<01:03,  2.04it/s]"
     ]
    },
    {
     "name": "stderr",
     "output_type": "stream",
     "text": [
      "\r",
      "      1/100      6.88G      2.721       8.03      2.223         35        640:  12%|█▏        | 18/146 [00:09<01:02,  2.04it/s]"
     ]
    },
    {
     "name": "stderr",
     "output_type": "stream",
     "text": [
      "\r",
      "      1/100      6.88G      2.693      7.853      2.196         38        640:  12%|█▏        | 18/146 [00:10<01:02,  2.04it/s]"
     ]
    },
    {
     "name": "stderr",
     "output_type": "stream",
     "text": [
      "\r",
      "      1/100      6.88G      2.693      7.853      2.196         38        640:  13%|█▎        | 19/146 [00:10<01:02,  2.04it/s]"
     ]
    },
    {
     "name": "stderr",
     "output_type": "stream",
     "text": [
      "\r",
      "      1/100      6.88G      2.665      7.666      2.178         39        640:  13%|█▎        | 19/146 [00:10<01:02,  2.04it/s]"
     ]
    },
    {
     "name": "stderr",
     "output_type": "stream",
     "text": [
      "\r",
      "      1/100      6.88G      2.665      7.666      2.178         39        640:  14%|█▎        | 20/146 [00:10<01:01,  2.04it/s]"
     ]
    },
    {
     "name": "stderr",
     "output_type": "stream",
     "text": [
      "\r",
      "      1/100      6.88G      2.641      7.483       2.15         55        640:  14%|█▎        | 20/146 [00:11<01:01,  2.04it/s]"
     ]
    },
    {
     "name": "stderr",
     "output_type": "stream",
     "text": [
      "\r",
      "      1/100      6.88G      2.641      7.483       2.15         55        640:  14%|█▍        | 21/146 [00:11<01:01,  2.05it/s]"
     ]
    },
    {
     "name": "stderr",
     "output_type": "stream",
     "text": [
      "\r",
      "      1/100      6.88G      2.622      7.345      2.128         35        640:  14%|█▍        | 21/146 [00:11<01:01,  2.05it/s]"
     ]
    },
    {
     "name": "stderr",
     "output_type": "stream",
     "text": [
      "\r",
      "      1/100      6.88G      2.622      7.345      2.128         35        640:  15%|█▌        | 22/146 [00:11<01:00,  2.04it/s]"
     ]
    },
    {
     "name": "stderr",
     "output_type": "stream",
     "text": [
      "\r",
      "      1/100      6.88G      2.603      7.189      2.112         62        640:  15%|█▌        | 22/146 [00:12<01:00,  2.04it/s]"
     ]
    },
    {
     "name": "stderr",
     "output_type": "stream",
     "text": [
      "\r",
      "      1/100      6.88G      2.603      7.189      2.112         62        640:  16%|█▌        | 23/146 [00:12<01:00,  2.03it/s]"
     ]
    },
    {
     "name": "stderr",
     "output_type": "stream",
     "text": [
      "\r",
      "      1/100      6.88G      2.589      7.065      2.105         33        640:  16%|█▌        | 23/146 [00:12<01:00,  2.03it/s]"
     ]
    },
    {
     "name": "stderr",
     "output_type": "stream",
     "text": [
      "\r",
      "      1/100      6.88G      2.589      7.065      2.105         33        640:  16%|█▋        | 24/146 [00:12<01:00,  2.03it/s]"
     ]
    },
    {
     "name": "stderr",
     "output_type": "stream",
     "text": [
      "\r",
      "      1/100      6.88G      2.575      6.942      2.096         43        640:  16%|█▋        | 24/146 [00:13<01:00,  2.03it/s]"
     ]
    },
    {
     "name": "stderr",
     "output_type": "stream",
     "text": [
      "\r",
      "      1/100      6.88G      2.575      6.942      2.096         43        640:  17%|█▋        | 25/146 [00:13<00:59,  2.02it/s]"
     ]
    },
    {
     "name": "stderr",
     "output_type": "stream",
     "text": [
      "\r",
      "      1/100      6.88G      2.552      6.821      2.084         28        640:  17%|█▋        | 25/146 [00:13<00:59,  2.02it/s]"
     ]
    },
    {
     "name": "stderr",
     "output_type": "stream",
     "text": [
      "\r",
      "      1/100      6.88G      2.552      6.821      2.084         28        640:  18%|█▊        | 26/146 [00:13<00:59,  2.02it/s]"
     ]
    },
    {
     "name": "stderr",
     "output_type": "stream",
     "text": [
      "\r",
      "      1/100      6.88G       2.53      6.687      2.072         47        640:  18%|█▊        | 26/146 [00:14<00:59,  2.02it/s]"
     ]
    },
    {
     "name": "stderr",
     "output_type": "stream",
     "text": [
      "\r",
      "      1/100      6.88G       2.53      6.687      2.072         47        640:  18%|█▊        | 27/146 [00:14<00:58,  2.03it/s]"
     ]
    },
    {
     "name": "stderr",
     "output_type": "stream",
     "text": [
      "\r",
      "      1/100      6.88G      2.516      6.578      2.066         50        640:  18%|█▊        | 27/146 [00:14<00:58,  2.03it/s]"
     ]
    },
    {
     "name": "stderr",
     "output_type": "stream",
     "text": [
      "\r",
      "      1/100      6.88G      2.516      6.578      2.066         50        640:  19%|█▉        | 28/146 [00:14<00:58,  2.03it/s]"
     ]
    },
    {
     "name": "stderr",
     "output_type": "stream",
     "text": [
      "\r",
      "      1/100      6.88G        2.5      6.458      2.048         58        640:  19%|█▉        | 28/146 [00:15<00:58,  2.03it/s]"
     ]
    },
    {
     "name": "stderr",
     "output_type": "stream",
     "text": [
      "\r",
      "      1/100      6.88G        2.5      6.458      2.048         58        640:  20%|█▉        | 29/146 [00:15<00:57,  2.03it/s]"
     ]
    },
    {
     "name": "stderr",
     "output_type": "stream",
     "text": [
      "\r",
      "      1/100      6.88G      2.491      6.356       2.04         48        640:  20%|█▉        | 29/146 [00:15<00:57,  2.03it/s]"
     ]
    },
    {
     "name": "stderr",
     "output_type": "stream",
     "text": [
      "\r",
      "      1/100      6.88G      2.491      6.356       2.04         48        640:  21%|██        | 30/146 [00:15<00:57,  2.03it/s]"
     ]
    },
    {
     "name": "stderr",
     "output_type": "stream",
     "text": [
      "\r",
      "      1/100      6.88G      2.482      6.265      2.026         38        640:  21%|██        | 30/146 [00:16<00:57,  2.03it/s]"
     ]
    },
    {
     "name": "stderr",
     "output_type": "stream",
     "text": [
      "\r",
      "      1/100      6.88G      2.482      6.265      2.026         38        640:  21%|██        | 31/146 [00:16<00:56,  2.03it/s]"
     ]
    },
    {
     "name": "stderr",
     "output_type": "stream",
     "text": [
      "\r",
      "      1/100      6.88G      2.467      6.172      2.012         45        640:  21%|██        | 31/146 [00:16<00:56,  2.03it/s]"
     ]
    },
    {
     "name": "stderr",
     "output_type": "stream",
     "text": [
      "\r",
      "      1/100      6.88G      2.467      6.172      2.012         45        640:  22%|██▏       | 32/146 [00:16<00:56,  2.02it/s]"
     ]
    },
    {
     "name": "stderr",
     "output_type": "stream",
     "text": [
      "\r",
      "      1/100      6.88G      2.457      6.081      2.003         54        640:  22%|██▏       | 32/146 [00:17<00:56,  2.02it/s]"
     ]
    },
    {
     "name": "stderr",
     "output_type": "stream",
     "text": [
      "\r",
      "      1/100      6.88G      2.457      6.081      2.003         54        640:  23%|██▎       | 33/146 [00:17<00:56,  2.02it/s]"
     ]
    },
    {
     "name": "stderr",
     "output_type": "stream",
     "text": [
      "\r",
      "      1/100      6.88G       2.45      5.994      1.997         40        640:  23%|██▎       | 33/146 [00:17<00:56,  2.02it/s]"
     ]
    },
    {
     "name": "stderr",
     "output_type": "stream",
     "text": [
      "\r",
      "      1/100      6.88G       2.45      5.994      1.997         40        640:  23%|██▎       | 34/146 [00:17<00:55,  2.02it/s]"
     ]
    },
    {
     "name": "stderr",
     "output_type": "stream",
     "text": [
      "\r",
      "      1/100      6.88G      2.438      5.912      1.986         57        640:  23%|██▎       | 34/146 [00:18<00:55,  2.02it/s]"
     ]
    },
    {
     "name": "stderr",
     "output_type": "stream",
     "text": [
      "\r",
      "      1/100      6.88G      2.438      5.912      1.986         57        640:  24%|██▍       | 35/146 [00:18<00:54,  2.02it/s]"
     ]
    },
    {
     "name": "stderr",
     "output_type": "stream",
     "text": [
      "\r",
      "      1/100      6.88G      2.431      5.841      1.978         41        640:  24%|██▍       | 35/146 [00:18<00:54,  2.02it/s]"
     ]
    },
    {
     "name": "stderr",
     "output_type": "stream",
     "text": [
      "\r",
      "      1/100      6.88G      2.431      5.841      1.978         41        640:  25%|██▍       | 36/146 [00:18<00:54,  2.03it/s]"
     ]
    },
    {
     "name": "stderr",
     "output_type": "stream",
     "text": [
      "\r",
      "      1/100      6.88G      2.423      5.767      1.969         50        640:  25%|██▍       | 36/146 [00:19<00:54,  2.03it/s]"
     ]
    },
    {
     "name": "stderr",
     "output_type": "stream",
     "text": [
      "\r",
      "      1/100      6.88G      2.423      5.767      1.969         50        640:  25%|██▌       | 37/146 [00:19<00:53,  2.03it/s]"
     ]
    },
    {
     "name": "stderr",
     "output_type": "stream",
     "text": [
      "\r",
      "      1/100      6.88G      2.417      5.691      1.959         51        640:  25%|██▌       | 37/146 [00:19<00:53,  2.03it/s]"
     ]
    },
    {
     "name": "stderr",
     "output_type": "stream",
     "text": [
      "\r",
      "      1/100      6.88G      2.417      5.691      1.959         51        640:  26%|██▌       | 38/146 [00:19<00:53,  2.03it/s]"
     ]
    },
    {
     "name": "stderr",
     "output_type": "stream",
     "text": [
      "\r",
      "      1/100      6.88G      2.405      5.634       1.95         36        640:  26%|██▌       | 38/146 [00:20<00:53,  2.03it/s]"
     ]
    },
    {
     "name": "stderr",
     "output_type": "stream",
     "text": [
      "\r",
      "      1/100      6.88G      2.405      5.634       1.95         36        640:  27%|██▋       | 39/146 [00:20<00:52,  2.03it/s]"
     ]
    },
    {
     "name": "stderr",
     "output_type": "stream",
     "text": [
      "\r",
      "      1/100      6.88G      2.398      5.573      1.944         29        640:  27%|██▋       | 39/146 [00:20<00:52,  2.03it/s]"
     ]
    },
    {
     "name": "stderr",
     "output_type": "stream",
     "text": [
      "\r",
      "      1/100      6.88G      2.398      5.573      1.944         29        640:  27%|██▋       | 40/146 [00:20<00:52,  2.03it/s]"
     ]
    },
    {
     "name": "stderr",
     "output_type": "stream",
     "text": [
      "\r",
      "      1/100      6.88G      2.387      5.505      1.933         58        640:  27%|██▋       | 40/146 [00:21<00:52,  2.03it/s]"
     ]
    },
    {
     "name": "stderr",
     "output_type": "stream",
     "text": [
      "\r",
      "      1/100      6.88G      2.387      5.505      1.933         58        640:  28%|██▊       | 41/146 [00:21<00:51,  2.02it/s]"
     ]
    },
    {
     "name": "stderr",
     "output_type": "stream",
     "text": [
      "\r",
      "      1/100      6.88G      2.378      5.435      1.926         62        640:  28%|██▊       | 41/146 [00:21<00:51,  2.02it/s]"
     ]
    },
    {
     "name": "stderr",
     "output_type": "stream",
     "text": [
      "\r",
      "      1/100      6.88G      2.378      5.435      1.926         62        640:  29%|██▉       | 42/146 [00:21<00:51,  2.02it/s]"
     ]
    },
    {
     "name": "stderr",
     "output_type": "stream",
     "text": [
      "\r",
      "      1/100      6.88G      2.376      5.376      1.923         54        640:  29%|██▉       | 42/146 [00:22<00:51,  2.02it/s]"
     ]
    },
    {
     "name": "stderr",
     "output_type": "stream",
     "text": [
      "\r",
      "      1/100      6.88G      2.376      5.376      1.923         54        640:  29%|██▉       | 43/146 [00:22<00:50,  2.02it/s]"
     ]
    },
    {
     "name": "stderr",
     "output_type": "stream",
     "text": [
      "\r",
      "      1/100      6.88G      2.369      5.315      1.917         51        640:  29%|██▉       | 43/146 [00:22<00:50,  2.02it/s]"
     ]
    },
    {
     "name": "stderr",
     "output_type": "stream",
     "text": [
      "\r",
      "      1/100      6.88G      2.369      5.315      1.917         51        640:  30%|███       | 44/146 [00:22<00:50,  2.02it/s]"
     ]
    },
    {
     "name": "stderr",
     "output_type": "stream",
     "text": [
      "\r",
      "      1/100      6.88G      2.361      5.266      1.911         37        640:  30%|███       | 44/146 [00:23<00:50,  2.02it/s]"
     ]
    },
    {
     "name": "stderr",
     "output_type": "stream",
     "text": [
      "\r",
      "      1/100      6.88G      2.361      5.266      1.911         37        640:  31%|███       | 45/146 [00:23<00:50,  2.02it/s]"
     ]
    },
    {
     "name": "stderr",
     "output_type": "stream",
     "text": [
      "\r",
      "      1/100      6.88G      2.353      5.217      1.902         44        640:  31%|███       | 45/146 [00:23<00:50,  2.02it/s]"
     ]
    },
    {
     "name": "stderr",
     "output_type": "stream",
     "text": [
      "\r",
      "      1/100      6.88G      2.353      5.217      1.902         44        640:  32%|███▏      | 46/146 [00:23<00:49,  2.02it/s]"
     ]
    },
    {
     "name": "stderr",
     "output_type": "stream",
     "text": [
      "\r",
      "      1/100      6.88G      2.346      5.165      1.894         55        640:  32%|███▏      | 46/146 [00:24<00:49,  2.02it/s]"
     ]
    },
    {
     "name": "stderr",
     "output_type": "stream",
     "text": [
      "\r",
      "      1/100      6.88G      2.346      5.165      1.894         55        640:  32%|███▏      | 47/146 [00:24<00:49,  2.02it/s]"
     ]
    },
    {
     "name": "stderr",
     "output_type": "stream",
     "text": [
      "\r",
      "      1/100      6.88G      2.337      5.117      1.887         38        640:  32%|███▏      | 47/146 [00:24<00:49,  2.02it/s]"
     ]
    },
    {
     "name": "stderr",
     "output_type": "stream",
     "text": [
      "\r",
      "      1/100      6.88G      2.337      5.117      1.887         38        640:  33%|███▎      | 48/146 [00:24<00:48,  2.02it/s]"
     ]
    },
    {
     "name": "stderr",
     "output_type": "stream",
     "text": [
      "\r",
      "      1/100      6.88G      2.327      5.067      1.875         39        640:  33%|███▎      | 48/146 [00:25<00:48,  2.02it/s]"
     ]
    },
    {
     "name": "stderr",
     "output_type": "stream",
     "text": [
      "\r",
      "      1/100      6.88G      2.327      5.067      1.875         39        640:  34%|███▎      | 49/146 [00:25<00:48,  2.02it/s]"
     ]
    },
    {
     "name": "stderr",
     "output_type": "stream",
     "text": [
      "\r",
      "      1/100      6.88G      2.323      5.019      1.869         49        640:  34%|███▎      | 49/146 [00:25<00:48,  2.02it/s]"
     ]
    },
    {
     "name": "stderr",
     "output_type": "stream",
     "text": [
      "\r",
      "      1/100      6.88G      2.323      5.019      1.869         49        640:  34%|███▍      | 50/146 [00:25<00:47,  2.02it/s]"
     ]
    },
    {
     "name": "stderr",
     "output_type": "stream",
     "text": [
      "\r",
      "      1/100      6.88G      2.314      4.966       1.86         61        640:  34%|███▍      | 50/146 [00:26<00:47,  2.02it/s]"
     ]
    },
    {
     "name": "stderr",
     "output_type": "stream",
     "text": [
      "\r",
      "      1/100      6.88G      2.314      4.966       1.86         61        640:  35%|███▍      | 51/146 [00:26<00:47,  2.01it/s]"
     ]
    },
    {
     "name": "stderr",
     "output_type": "stream",
     "text": [
      "\r",
      "      1/100      6.88G      2.308      4.928      1.856         36        640:  35%|███▍      | 51/146 [00:26<00:47,  2.01it/s]"
     ]
    },
    {
     "name": "stderr",
     "output_type": "stream",
     "text": [
      "\r",
      "      1/100      6.88G      2.308      4.928      1.856         36        640:  36%|███▌      | 52/146 [00:26<00:46,  2.01it/s]"
     ]
    },
    {
     "name": "stderr",
     "output_type": "stream",
     "text": [
      "\r",
      "      1/100      6.88G      2.303       4.89      1.851         42        640:  36%|███▌      | 52/146 [00:27<00:46,  2.01it/s]"
     ]
    },
    {
     "name": "stderr",
     "output_type": "stream",
     "text": [
      "\r",
      "      1/100      6.88G      2.303       4.89      1.851         42        640:  36%|███▋      | 53/146 [00:27<00:46,  2.01it/s]"
     ]
    },
    {
     "name": "stderr",
     "output_type": "stream",
     "text": [
      "\r",
      "      1/100      6.88G       2.29      4.846      1.842         44        640:  36%|███▋      | 53/146 [00:27<00:46,  2.01it/s]"
     ]
    },
    {
     "name": "stderr",
     "output_type": "stream",
     "text": [
      "\r",
      "      1/100      6.88G       2.29      4.846      1.842         44        640:  37%|███▋      | 54/146 [00:27<00:45,  2.01it/s]"
     ]
    },
    {
     "name": "stderr",
     "output_type": "stream",
     "text": [
      "\r",
      "      1/100      6.88G      2.286      4.811       1.84         53        640:  37%|███▋      | 54/146 [00:28<00:45,  2.01it/s]"
     ]
    },
    {
     "name": "stderr",
     "output_type": "stream",
     "text": [
      "\r",
      "      1/100      6.88G      2.286      4.811       1.84         53        640:  38%|███▊      | 55/146 [00:28<00:45,  2.01it/s]"
     ]
    },
    {
     "name": "stderr",
     "output_type": "stream",
     "text": [
      "\r",
      "      1/100      6.88G      2.277      4.771      1.832         44        640:  38%|███▊      | 55/146 [00:28<00:45,  2.01it/s]"
     ]
    },
    {
     "name": "stderr",
     "output_type": "stream",
     "text": [
      "\r",
      "      1/100      6.88G      2.277      4.771      1.832         44        640:  38%|███▊      | 56/146 [00:28<00:44,  2.01it/s]"
     ]
    },
    {
     "name": "stderr",
     "output_type": "stream",
     "text": [
      "\r",
      "      1/100      6.88G       2.27      4.733      1.828         43        640:  38%|███▊      | 56/146 [00:29<00:44,  2.01it/s]"
     ]
    },
    {
     "name": "stderr",
     "output_type": "stream",
     "text": [
      "\r",
      "      1/100      6.88G       2.27      4.733      1.828         43        640:  39%|███▉      | 57/146 [00:29<00:44,  2.01it/s]"
     ]
    },
    {
     "name": "stderr",
     "output_type": "stream",
     "text": [
      "\r",
      "      1/100      6.88G      2.262      4.692      1.822         43        640:  39%|███▉      | 57/146 [00:29<00:44,  2.01it/s]"
     ]
    },
    {
     "name": "stderr",
     "output_type": "stream",
     "text": [
      "\r",
      "      1/100      6.88G      2.262      4.692      1.822         43        640:  40%|███▉      | 58/146 [00:29<00:43,  2.01it/s]"
     ]
    },
    {
     "name": "stderr",
     "output_type": "stream",
     "text": [
      "\r",
      "      1/100      6.88G      2.257      4.653       1.82         57        640:  40%|███▉      | 58/146 [00:30<00:43,  2.01it/s]"
     ]
    },
    {
     "name": "stderr",
     "output_type": "stream",
     "text": [
      "\r",
      "      1/100      6.88G      2.257      4.653       1.82         57        640:  40%|████      | 59/146 [00:30<00:43,  2.01it/s]"
     ]
    },
    {
     "name": "stderr",
     "output_type": "stream",
     "text": [
      "\r",
      "      1/100      6.88G       2.25      4.619      1.813         45        640:  40%|████      | 59/146 [00:30<00:43,  2.01it/s]"
     ]
    },
    {
     "name": "stderr",
     "output_type": "stream",
     "text": [
      "\r",
      "      1/100      6.88G       2.25      4.619      1.813         45        640:  41%|████      | 60/146 [00:30<00:42,  2.01it/s]"
     ]
    },
    {
     "name": "stderr",
     "output_type": "stream",
     "text": [
      "\r",
      "      1/100      6.88G      2.242      4.582      1.807         40        640:  41%|████      | 60/146 [00:31<00:42,  2.01it/s]"
     ]
    },
    {
     "name": "stderr",
     "output_type": "stream",
     "text": [
      "\r",
      "      1/100      6.88G      2.242      4.582      1.807         40        640:  42%|████▏     | 61/146 [00:31<00:42,  2.01it/s]"
     ]
    },
    {
     "name": "stderr",
     "output_type": "stream",
     "text": [
      "\r",
      "      1/100      6.88G      2.239      4.547      1.805         48        640:  42%|████▏     | 61/146 [00:31<00:42,  2.01it/s]"
     ]
    },
    {
     "name": "stderr",
     "output_type": "stream",
     "text": [
      "\r",
      "      1/100      6.88G      2.239      4.547      1.805         48        640:  42%|████▏     | 62/146 [00:31<00:41,  2.01it/s]"
     ]
    },
    {
     "name": "stderr",
     "output_type": "stream",
     "text": [
      "\r",
      "      1/100      6.88G      2.235      4.523      1.807         32        640:  42%|████▏     | 62/146 [00:32<00:41,  2.01it/s]"
     ]
    },
    {
     "name": "stderr",
     "output_type": "stream",
     "text": [
      "\r",
      "      1/100      6.88G      2.235      4.523      1.807         32        640:  43%|████▎     | 63/146 [00:32<00:41,  2.01it/s]"
     ]
    },
    {
     "name": "stderr",
     "output_type": "stream",
     "text": [
      "\r",
      "      1/100      6.88G      2.231      4.493      1.805         42        640:  43%|████▎     | 63/146 [00:32<00:41,  2.01it/s]"
     ]
    },
    {
     "name": "stderr",
     "output_type": "stream",
     "text": [
      "\r",
      "      1/100      6.88G      2.231      4.493      1.805         42        640:  44%|████▍     | 64/146 [00:32<00:40,  2.00it/s]"
     ]
    },
    {
     "name": "stderr",
     "output_type": "stream",
     "text": [
      "\r",
      "      1/100      6.88G      2.226      4.468      1.802         39        640:  44%|████▍     | 64/146 [00:33<00:40,  2.00it/s]"
     ]
    },
    {
     "name": "stderr",
     "output_type": "stream",
     "text": [
      "\r",
      "      1/100      6.88G      2.226      4.468      1.802         39        640:  45%|████▍     | 65/146 [00:33<00:40,  2.00it/s]"
     ]
    },
    {
     "name": "stderr",
     "output_type": "stream",
     "text": [
      "\r",
      "      1/100      6.88G      2.225      4.438      1.799         65        640:  45%|████▍     | 65/146 [00:33<00:40,  2.00it/s]"
     ]
    },
    {
     "name": "stderr",
     "output_type": "stream",
     "text": [
      "\r",
      "      1/100      6.88G      2.225      4.438      1.799         65        640:  45%|████▌     | 66/146 [00:33<00:40,  1.99it/s]"
     ]
    },
    {
     "name": "stderr",
     "output_type": "stream",
     "text": [
      "\r",
      "      1/100      6.88G      2.226      4.415      1.801         38        640:  45%|████▌     | 66/146 [00:34<00:40,  1.99it/s]"
     ]
    },
    {
     "name": "stderr",
     "output_type": "stream",
     "text": [
      "\r",
      "      1/100      6.88G      2.226      4.415      1.801         38        640:  46%|████▌     | 67/146 [00:34<00:39,  2.00it/s]"
     ]
    },
    {
     "name": "stderr",
     "output_type": "stream",
     "text": [
      "\r",
      "      1/100      6.88G      2.223      4.385      1.799         57        640:  46%|████▌     | 67/146 [00:34<00:39,  2.00it/s]"
     ]
    },
    {
     "name": "stderr",
     "output_type": "stream",
     "text": [
      "\r",
      "      1/100      6.88G      2.223      4.385      1.799         57        640:  47%|████▋     | 68/146 [00:34<00:39,  2.00it/s]"
     ]
    },
    {
     "name": "stderr",
     "output_type": "stream",
     "text": [
      "\r",
      "      1/100      6.88G      2.221      4.358      1.797         55        640:  47%|████▋     | 68/146 [00:35<00:39,  2.00it/s]"
     ]
    },
    {
     "name": "stderr",
     "output_type": "stream",
     "text": [
      "\r",
      "      1/100      6.88G      2.221      4.358      1.797         55        640:  47%|████▋     | 69/146 [00:35<00:38,  2.00it/s]"
     ]
    },
    {
     "name": "stderr",
     "output_type": "stream",
     "text": [
      "\r",
      "      1/100      6.88G      2.218       4.33      1.795         53        640:  47%|████▋     | 69/146 [00:35<00:38,  2.00it/s]"
     ]
    },
    {
     "name": "stderr",
     "output_type": "stream",
     "text": [
      "\r",
      "      1/100      6.88G      2.218       4.33      1.795         53        640:  48%|████▊     | 70/146 [00:35<00:38,  2.00it/s]"
     ]
    },
    {
     "name": "stderr",
     "output_type": "stream",
     "text": [
      "\r",
      "      1/100      6.88G      2.218      4.303      1.796         59        640:  48%|████▊     | 70/146 [00:36<00:38,  2.00it/s]"
     ]
    },
    {
     "name": "stderr",
     "output_type": "stream",
     "text": [
      "\r",
      "      1/100      6.88G      2.218      4.303      1.796         59        640:  49%|████▊     | 71/146 [00:36<00:37,  1.99it/s]"
     ]
    },
    {
     "name": "stderr",
     "output_type": "stream",
     "text": [
      "\r",
      "      1/100      6.88G      2.216      4.278      1.795         40        640:  49%|████▊     | 71/146 [00:36<00:37,  1.99it/s]"
     ]
    },
    {
     "name": "stderr",
     "output_type": "stream",
     "text": [
      "\r",
      "      1/100      6.88G      2.216      4.278      1.795         40        640:  49%|████▉     | 72/146 [00:36<00:37,  1.99it/s]"
     ]
    },
    {
     "name": "stderr",
     "output_type": "stream",
     "text": [
      "\r",
      "      1/100      6.88G      2.215      4.258      1.795         34        640:  49%|████▉     | 72/146 [00:37<00:37,  1.99it/s]"
     ]
    },
    {
     "name": "stderr",
     "output_type": "stream",
     "text": [
      "\r",
      "      1/100      6.88G      2.215      4.258      1.795         34        640:  50%|█████     | 73/146 [00:37<00:36,  1.99it/s]"
     ]
    },
    {
     "name": "stderr",
     "output_type": "stream",
     "text": [
      "\r",
      "      1/100      6.88G      2.213      4.234      1.791         44        640:  50%|█████     | 73/146 [00:37<00:36,  1.99it/s]"
     ]
    },
    {
     "name": "stderr",
     "output_type": "stream",
     "text": [
      "\r",
      "      1/100      6.88G      2.213      4.234      1.791         44        640:  51%|█████     | 74/146 [00:37<00:35,  2.03it/s]"
     ]
    },
    {
     "name": "stderr",
     "output_type": "stream",
     "text": [
      "\r",
      "      1/100       6.9G       2.21      4.215      1.789         51        640:  51%|█████     | 74/146 [00:38<00:35,  2.03it/s]"
     ]
    },
    {
     "name": "stderr",
     "output_type": "stream",
     "text": [
      "\r",
      "      1/100       6.9G       2.21      4.215      1.789         51        640:  51%|█████▏    | 75/146 [00:38<00:35,  2.01it/s]"
     ]
    },
    {
     "name": "stderr",
     "output_type": "stream",
     "text": [
      "\r",
      "      1/100       6.9G       2.21      4.199       1.79         40        640:  51%|█████▏    | 75/146 [00:38<00:35,  2.01it/s]"
     ]
    },
    {
     "name": "stderr",
     "output_type": "stream",
     "text": [
      "\r",
      "      1/100       6.9G       2.21      4.199       1.79         40        640:  52%|█████▏    | 76/146 [00:38<00:34,  2.03it/s]"
     ]
    },
    {
     "name": "stderr",
     "output_type": "stream",
     "text": [
      "\r",
      "      1/100       6.9G      2.208      4.182      1.791         44        640:  52%|█████▏    | 76/146 [00:39<00:34,  2.03it/s]"
     ]
    },
    {
     "name": "stderr",
     "output_type": "stream",
     "text": [
      "\r",
      "      1/100       6.9G      2.208      4.182      1.791         44        640:  53%|█████▎    | 77/146 [00:39<00:34,  2.01it/s]"
     ]
    },
    {
     "name": "stderr",
     "output_type": "stream",
     "text": [
      "\r",
      "      1/100       6.9G      2.208      4.165      1.792         37        640:  53%|█████▎    | 77/146 [00:39<00:34,  2.01it/s]"
     ]
    },
    {
     "name": "stderr",
     "output_type": "stream",
     "text": [
      "\r",
      "      1/100       6.9G      2.208      4.165      1.792         37        640:  53%|█████▎    | 78/146 [00:39<00:33,  2.04it/s]"
     ]
    },
    {
     "name": "stderr",
     "output_type": "stream",
     "text": [
      "\r",
      "      1/100       6.9G      2.209      4.144       1.79         59        640:  53%|█████▎    | 78/146 [00:40<00:33,  2.04it/s]"
     ]
    },
    {
     "name": "stderr",
     "output_type": "stream",
     "text": [
      "\r",
      "      1/100       6.9G      2.209      4.144       1.79         59        640:  54%|█████▍    | 79/146 [00:40<00:33,  2.02it/s]"
     ]
    },
    {
     "name": "stderr",
     "output_type": "stream",
     "text": [
      "\r",
      "      1/100       6.9G      2.205      4.128      1.789         42        640:  54%|█████▍    | 79/146 [00:40<00:33,  2.02it/s]"
     ]
    },
    {
     "name": "stderr",
     "output_type": "stream",
     "text": [
      "\r",
      "      1/100       6.9G      2.205      4.128      1.789         42        640:  55%|█████▍    | 80/146 [00:40<00:32,  2.04it/s]"
     ]
    },
    {
     "name": "stderr",
     "output_type": "stream",
     "text": [
      "\r",
      "      1/100       6.9G      2.203      4.111      1.787         51        640:  55%|█████▍    | 80/146 [00:41<00:32,  2.04it/s]"
     ]
    },
    {
     "name": "stderr",
     "output_type": "stream",
     "text": [
      "\r",
      "      1/100       6.9G      2.203      4.111      1.787         51        640:  55%|█████▌    | 81/146 [00:41<00:32,  2.02it/s]"
     ]
    },
    {
     "name": "stderr",
     "output_type": "stream",
     "text": [
      "\r",
      "      1/100       6.9G      2.203      4.091      1.788         41        640:  55%|█████▌    | 81/146 [00:41<00:32,  2.02it/s]"
     ]
    },
    {
     "name": "stderr",
     "output_type": "stream",
     "text": [
      "\r",
      "      1/100       6.9G      2.203      4.091      1.788         41        640:  56%|█████▌    | 82/146 [00:41<00:31,  2.04it/s]"
     ]
    },
    {
     "name": "stderr",
     "output_type": "stream",
     "text": [
      "\r",
      "      1/100       6.9G      2.199      4.073      1.785         39        640:  56%|█████▌    | 82/146 [00:42<00:31,  2.04it/s]"
     ]
    },
    {
     "name": "stderr",
     "output_type": "stream",
     "text": [
      "\r",
      "      1/100       6.9G      2.199      4.073      1.785         39        640:  57%|█████▋    | 83/146 [00:42<00:31,  2.02it/s]"
     ]
    },
    {
     "name": "stderr",
     "output_type": "stream",
     "text": [
      "\r",
      "      1/100       6.9G      2.198      4.061      1.786         44        640:  57%|█████▋    | 83/146 [00:42<00:31,  2.02it/s]"
     ]
    },
    {
     "name": "stderr",
     "output_type": "stream",
     "text": [
      "\r",
      "      1/100       6.9G      2.198      4.061      1.786         44        640:  58%|█████▊    | 84/146 [00:42<00:30,  2.04it/s]"
     ]
    },
    {
     "name": "stderr",
     "output_type": "stream",
     "text": [
      "\r",
      "      1/100       6.9G      2.193      4.044      1.783         34        640:  58%|█████▊    | 84/146 [00:43<00:30,  2.04it/s]"
     ]
    },
    {
     "name": "stderr",
     "output_type": "stream",
     "text": [
      "\r",
      "      1/100       6.9G      2.193      4.044      1.783         34        640:  58%|█████▊    | 85/146 [00:43<00:30,  2.02it/s]"
     ]
    },
    {
     "name": "stderr",
     "output_type": "stream",
     "text": [
      "\r",
      "      1/100       6.9G       2.19      4.028      1.783         49        640:  58%|█████▊    | 85/146 [00:43<00:30,  2.02it/s]"
     ]
    },
    {
     "name": "stderr",
     "output_type": "stream",
     "text": [
      "\r",
      "      1/100       6.9G       2.19      4.028      1.783         49        640:  59%|█████▉    | 86/146 [00:43<00:29,  2.03it/s]"
     ]
    },
    {
     "name": "stderr",
     "output_type": "stream",
     "text": [
      "\r",
      "      1/100       6.9G      2.188      4.016      1.784         28        640:  59%|█████▉    | 86/146 [00:44<00:29,  2.03it/s]"
     ]
    },
    {
     "name": "stderr",
     "output_type": "stream",
     "text": [
      "\r",
      "      1/100       6.9G      2.188      4.016      1.784         28        640:  60%|█████▉    | 87/146 [00:44<00:29,  2.01it/s]"
     ]
    },
    {
     "name": "stderr",
     "output_type": "stream",
     "text": [
      "\r",
      "      1/100       6.9G      2.188          4      1.784         85        640:  60%|█████▉    | 87/146 [00:44<00:29,  2.01it/s]"
     ]
    },
    {
     "name": "stderr",
     "output_type": "stream",
     "text": [
      "\r",
      "      1/100       6.9G      2.188          4      1.784         85        640:  60%|██████    | 88/146 [00:44<00:28,  2.02it/s]"
     ]
    },
    {
     "name": "stderr",
     "output_type": "stream",
     "text": [
      "\r",
      "      1/100       6.9G      2.188      3.985      1.782         40        640:  60%|██████    | 88/146 [00:45<00:28,  2.02it/s]"
     ]
    },
    {
     "name": "stderr",
     "output_type": "stream",
     "text": [
      "\r",
      "      1/100       6.9G      2.188      3.985      1.782         40        640:  61%|██████    | 89/146 [00:45<00:28,  2.01it/s]"
     ]
    },
    {
     "name": "stderr",
     "output_type": "stream",
     "text": [
      "\r",
      "      1/100       6.9G      2.186      3.969      1.781         54        640:  61%|██████    | 89/146 [00:45<00:28,  2.01it/s]"
     ]
    },
    {
     "name": "stderr",
     "output_type": "stream",
     "text": [
      "\r",
      "      1/100       6.9G      2.186      3.969      1.781         54        640:  62%|██████▏   | 90/146 [00:45<00:27,  2.03it/s]"
     ]
    },
    {
     "name": "stderr",
     "output_type": "stream",
     "text": [
      "\r",
      "      1/100       6.9G      2.183      3.951      1.779         49        640:  62%|██████▏   | 90/146 [00:46<00:27,  2.03it/s]"
     ]
    },
    {
     "name": "stderr",
     "output_type": "stream",
     "text": [
      "\r",
      "      1/100       6.9G      2.183      3.951      1.779         49        640:  62%|██████▏   | 91/146 [00:46<00:27,  2.01it/s]"
     ]
    },
    {
     "name": "stderr",
     "output_type": "stream",
     "text": [
      "\r",
      "      1/100       6.9G      2.181      3.933      1.778         59        640:  62%|██████▏   | 91/146 [00:46<00:27,  2.01it/s]"
     ]
    },
    {
     "name": "stderr",
     "output_type": "stream",
     "text": [
      "\r",
      "      1/100       6.9G      2.181      3.933      1.778         59        640:  63%|██████▎   | 92/146 [00:46<00:26,  2.03it/s]"
     ]
    },
    {
     "name": "stderr",
     "output_type": "stream",
     "text": [
      "\r",
      "      1/100       6.9G      2.182      3.918      1.778         41        640:  63%|██████▎   | 92/146 [00:47<00:26,  2.03it/s]"
     ]
    },
    {
     "name": "stderr",
     "output_type": "stream",
     "text": [
      "\r",
      "      1/100       6.9G      2.182      3.918      1.778         41        640:  64%|██████▎   | 93/146 [00:47<00:26,  2.01it/s]"
     ]
    },
    {
     "name": "stderr",
     "output_type": "stream",
     "text": [
      "\r",
      "      1/100       6.9G      2.179        3.9      1.778         49        640:  64%|██████▎   | 93/146 [00:47<00:26,  2.01it/s]"
     ]
    },
    {
     "name": "stderr",
     "output_type": "stream",
     "text": [
      "\r",
      "      1/100       6.9G      2.179        3.9      1.778         49        640:  64%|██████▍   | 94/146 [00:47<00:25,  2.03it/s]"
     ]
    },
    {
     "name": "stderr",
     "output_type": "stream",
     "text": [
      "\r",
      "      1/100       6.9G      2.177      3.882      1.776         63        640:  64%|██████▍   | 94/146 [00:48<00:25,  2.03it/s]"
     ]
    },
    {
     "name": "stderr",
     "output_type": "stream",
     "text": [
      "\r",
      "      1/100       6.9G      2.177      3.882      1.776         63        640:  65%|██████▌   | 95/146 [00:48<00:25,  2.01it/s]"
     ]
    },
    {
     "name": "stderr",
     "output_type": "stream",
     "text": [
      "\r",
      "      1/100       6.9G      2.176      3.868      1.777         44        640:  65%|██████▌   | 95/146 [00:48<00:25,  2.01it/s]"
     ]
    },
    {
     "name": "stderr",
     "output_type": "stream",
     "text": [
      "\r",
      "      1/100       6.9G      2.176      3.868      1.777         44        640:  66%|██████▌   | 96/146 [00:48<00:24,  2.04it/s]"
     ]
    },
    {
     "name": "stderr",
     "output_type": "stream",
     "text": [
      "\r",
      "      1/100       6.9G      2.176      3.854      1.778         46        640:  66%|██████▌   | 96/146 [00:48<00:24,  2.04it/s]"
     ]
    },
    {
     "name": "stderr",
     "output_type": "stream",
     "text": [
      "\r",
      "      1/100       6.9G      2.176      3.854      1.778         46        640:  66%|██████▋   | 97/146 [00:48<00:24,  2.01it/s]"
     ]
    },
    {
     "name": "stderr",
     "output_type": "stream",
     "text": [
      "\r",
      "      1/100       6.9G      2.176       3.84      1.778         44        640:  66%|██████▋   | 97/146 [00:49<00:24,  2.01it/s]"
     ]
    },
    {
     "name": "stderr",
     "output_type": "stream",
     "text": [
      "\r",
      "      1/100       6.9G      2.176       3.84      1.778         44        640:  67%|██████▋   | 98/146 [00:49<00:23,  2.03it/s]"
     ]
    },
    {
     "name": "stderr",
     "output_type": "stream",
     "text": [
      "\r",
      "      1/100       6.9G      2.172      3.824      1.776         37        640:  67%|██████▋   | 98/146 [00:49<00:23,  2.03it/s]"
     ]
    },
    {
     "name": "stderr",
     "output_type": "stream",
     "text": [
      "\r",
      "      1/100       6.9G      2.172      3.824      1.776         37        640:  68%|██████▊   | 99/146 [00:49<00:23,  2.01it/s]"
     ]
    },
    {
     "name": "stderr",
     "output_type": "stream",
     "text": [
      "\r",
      "      1/100       6.9G      2.173       3.81      1.776         41        640:  68%|██████▊   | 99/146 [00:50<00:23,  2.01it/s]"
     ]
    },
    {
     "name": "stderr",
     "output_type": "stream",
     "text": [
      "\r",
      "      1/100       6.9G      2.173       3.81      1.776         41        640:  68%|██████▊   | 100/146 [00:50<00:22,  2.03it/s]"
     ]
    },
    {
     "name": "stderr",
     "output_type": "stream",
     "text": [
      "\r",
      "      1/100       6.9G       2.17      3.794      1.774         44        640:  68%|██████▊   | 100/146 [00:50<00:22,  2.03it/s]"
     ]
    },
    {
     "name": "stderr",
     "output_type": "stream",
     "text": [
      "\r",
      "      1/100       6.9G       2.17      3.794      1.774         44        640:  69%|██████▉   | 101/146 [00:50<00:22,  2.00it/s]"
     ]
    },
    {
     "name": "stderr",
     "output_type": "stream",
     "text": [
      "\r",
      "      1/100       6.9G      2.168      3.784      1.772         33        640:  69%|██████▉   | 101/146 [00:51<00:22,  2.00it/s]"
     ]
    },
    {
     "name": "stderr",
     "output_type": "stream",
     "text": [
      "\r",
      "      1/100       6.9G      2.168      3.784      1.772         33        640:  70%|██████▉   | 102/146 [00:51<00:21,  2.02it/s]"
     ]
    },
    {
     "name": "stderr",
     "output_type": "stream",
     "text": [
      "\r",
      "      1/100       6.9G      2.168      3.772      1.771         30        640:  70%|██████▉   | 102/146 [00:51<00:21,  2.02it/s]"
     ]
    },
    {
     "name": "stderr",
     "output_type": "stream",
     "text": [
      "\r",
      "      1/100       6.9G      2.168      3.772      1.771         30        640:  71%|███████   | 103/146 [00:51<00:21,  2.00it/s]"
     ]
    },
    {
     "name": "stderr",
     "output_type": "stream",
     "text": [
      "\r",
      "      1/100       6.9G      2.166      3.761      1.771         45        640:  71%|███████   | 103/146 [00:52<00:21,  2.00it/s]"
     ]
    },
    {
     "name": "stderr",
     "output_type": "stream",
     "text": [
      "\r",
      "      1/100       6.9G      2.166      3.761      1.771         45        640:  71%|███████   | 104/146 [00:52<00:20,  2.02it/s]"
     ]
    },
    {
     "name": "stderr",
     "output_type": "stream",
     "text": [
      "\r",
      "      1/100       6.9G      2.164       3.75       1.77         40        640:  71%|███████   | 104/146 [00:52<00:20,  2.02it/s]"
     ]
    },
    {
     "name": "stderr",
     "output_type": "stream",
     "text": [
      "\r",
      "      1/100       6.9G      2.164       3.75       1.77         40        640:  72%|███████▏  | 105/146 [00:52<00:20,  2.00it/s]"
     ]
    },
    {
     "name": "stderr",
     "output_type": "stream",
     "text": [
      "\r",
      "      1/100       6.9G      2.165      3.737      1.769         52        640:  72%|███████▏  | 105/146 [00:53<00:20,  2.00it/s]"
     ]
    },
    {
     "name": "stderr",
     "output_type": "stream",
     "text": [
      "\r",
      "      1/100       6.9G      2.165      3.737      1.769         52        640:  73%|███████▎  | 106/146 [00:53<00:19,  2.02it/s]"
     ]
    },
    {
     "name": "stderr",
     "output_type": "stream",
     "text": [
      "\r",
      "      1/100       6.9G      2.166      3.725       1.77         36        640:  73%|███████▎  | 106/146 [00:53<00:19,  2.02it/s]"
     ]
    },
    {
     "name": "stderr",
     "output_type": "stream",
     "text": [
      "\r",
      "      1/100       6.9G      2.166      3.725       1.77         36        640:  73%|███████▎  | 107/146 [00:53<00:19,  2.00it/s]"
     ]
    },
    {
     "name": "stderr",
     "output_type": "stream",
     "text": [
      "\r",
      "      1/100       6.9G      2.166      3.714      1.769         49        640:  73%|███████▎  | 107/146 [00:54<00:19,  2.00it/s]"
     ]
    },
    {
     "name": "stderr",
     "output_type": "stream",
     "text": [
      "\r",
      "      1/100       6.9G      2.166      3.714      1.769         49        640:  74%|███████▍  | 108/146 [00:54<00:18,  2.02it/s]"
     ]
    },
    {
     "name": "stderr",
     "output_type": "stream",
     "text": [
      "\r",
      "      1/100       6.9G      2.165      3.702      1.767         49        640:  74%|███████▍  | 108/146 [00:54<00:18,  2.02it/s]"
     ]
    },
    {
     "name": "stderr",
     "output_type": "stream",
     "text": [
      "\r",
      "      1/100       6.9G      2.165      3.702      1.767         49        640:  75%|███████▍  | 109/146 [00:54<00:18,  2.00it/s]"
     ]
    },
    {
     "name": "stderr",
     "output_type": "stream",
     "text": [
      "\r",
      "      1/100       6.9G      2.164      3.691      1.766         68        640:  75%|███████▍  | 109/146 [00:55<00:18,  2.00it/s]"
     ]
    },
    {
     "name": "stderr",
     "output_type": "stream",
     "text": [
      "\r",
      "      1/100       6.9G      2.164      3.691      1.766         68        640:  75%|███████▌  | 110/146 [00:55<00:17,  2.02it/s]"
     ]
    },
    {
     "name": "stderr",
     "output_type": "stream",
     "text": [
      "\r",
      "      1/100       6.9G      2.166      3.685      1.766         41        640:  75%|███████▌  | 110/146 [00:55<00:17,  2.02it/s]"
     ]
    },
    {
     "name": "stderr",
     "output_type": "stream",
     "text": [
      "\r",
      "      1/100       6.9G      2.166      3.685      1.766         41        640:  76%|███████▌  | 111/146 [00:55<00:17,  1.99it/s]"
     ]
    },
    {
     "name": "stderr",
     "output_type": "stream",
     "text": [
      "\r",
      "      1/100       6.9G      2.165      3.673      1.767         43        640:  76%|███████▌  | 111/146 [00:56<00:17,  1.99it/s]"
     ]
    },
    {
     "name": "stderr",
     "output_type": "stream",
     "text": [
      "\r",
      "      1/100       6.9G      2.165      3.673      1.767         43        640:  77%|███████▋  | 112/146 [00:56<00:16,  2.01it/s]"
     ]
    },
    {
     "name": "stderr",
     "output_type": "stream",
     "text": [
      "\r",
      "      1/100       6.9G      2.165      3.667      1.768         37        640:  77%|███████▋  | 112/146 [00:56<00:16,  2.01it/s]"
     ]
    },
    {
     "name": "stderr",
     "output_type": "stream",
     "text": [
      "\r",
      "      1/100       6.9G      2.165      3.667      1.768         37        640:  77%|███████▋  | 113/146 [00:56<00:16,  1.99it/s]"
     ]
    },
    {
     "name": "stderr",
     "output_type": "stream",
     "text": [
      "\r",
      "      1/100       6.9G      2.165      3.659       1.77         44        640:  77%|███████▋  | 113/146 [00:57<00:16,  1.99it/s]"
     ]
    },
    {
     "name": "stderr",
     "output_type": "stream",
     "text": [
      "\r",
      "      1/100       6.9G      2.165      3.659       1.77         44        640:  78%|███████▊  | 114/146 [00:57<00:15,  2.01it/s]"
     ]
    },
    {
     "name": "stderr",
     "output_type": "stream",
     "text": [
      "\r",
      "      1/100       6.9G      2.163      3.649      1.769         44        640:  78%|███████▊  | 114/146 [00:57<00:15,  2.01it/s]"
     ]
    },
    {
     "name": "stderr",
     "output_type": "stream",
     "text": [
      "\r",
      "      1/100       6.9G      2.163      3.649      1.769         44        640:  79%|███████▉  | 115/146 [00:57<00:15,  1.99it/s]"
     ]
    },
    {
     "name": "stderr",
     "output_type": "stream",
     "text": [
      "\r",
      "      1/100       6.9G      2.164      3.639      1.768         62        640:  79%|███████▉  | 115/146 [00:58<00:15,  1.99it/s]"
     ]
    },
    {
     "name": "stderr",
     "output_type": "stream",
     "text": [
      "\r",
      "      1/100       6.9G      2.164      3.639      1.768         62        640:  79%|███████▉  | 116/146 [00:58<00:14,  2.01it/s]"
     ]
    },
    {
     "name": "stderr",
     "output_type": "stream",
     "text": [
      "\r",
      "      1/100       6.9G      2.164       3.63      1.767         54        640:  79%|███████▉  | 116/146 [00:58<00:14,  2.01it/s]"
     ]
    },
    {
     "name": "stderr",
     "output_type": "stream",
     "text": [
      "\r",
      "      1/100       6.9G      2.164       3.63      1.767         54        640:  80%|████████  | 117/146 [00:58<00:14,  1.98it/s]"
     ]
    },
    {
     "name": "stderr",
     "output_type": "stream",
     "text": [
      "\r",
      "      1/100       6.9G      2.163      3.622      1.768         26        640:  80%|████████  | 117/146 [00:59<00:14,  1.98it/s]"
     ]
    },
    {
     "name": "stderr",
     "output_type": "stream",
     "text": [
      "\r",
      "      1/100       6.9G      2.163      3.622      1.768         26        640:  81%|████████  | 118/146 [00:59<00:13,  2.01it/s]"
     ]
    },
    {
     "name": "stderr",
     "output_type": "stream",
     "text": [
      "\r",
      "      1/100       6.9G      2.163      3.612      1.768         38        640:  81%|████████  | 118/146 [00:59<00:13,  2.01it/s]"
     ]
    },
    {
     "name": "stderr",
     "output_type": "stream",
     "text": [
      "\r",
      "      1/100       6.9G      2.163      3.612      1.768         38        640:  82%|████████▏ | 119/146 [00:59<00:13,  1.99it/s]"
     ]
    },
    {
     "name": "stderr",
     "output_type": "stream",
     "text": [
      "\r",
      "      1/100       6.9G      2.162      3.603      1.766         50        640:  82%|████████▏ | 119/146 [01:00<00:13,  1.99it/s]"
     ]
    },
    {
     "name": "stderr",
     "output_type": "stream",
     "text": [
      "\r",
      "      1/100       6.9G      2.162      3.603      1.766         50        640:  82%|████████▏ | 120/146 [01:00<00:12,  2.00it/s]"
     ]
    },
    {
     "name": "stderr",
     "output_type": "stream",
     "text": [
      "\r",
      "      1/100       6.9G      2.161      3.593      1.766         64        640:  82%|████████▏ | 120/146 [01:00<00:12,  2.00it/s]"
     ]
    },
    {
     "name": "stderr",
     "output_type": "stream",
     "text": [
      "\r",
      "      1/100       6.9G      2.161      3.593      1.766         64        640:  83%|████████▎ | 121/146 [01:00<00:12,  1.98it/s]"
     ]
    },
    {
     "name": "stderr",
     "output_type": "stream",
     "text": [
      "\r",
      "      1/100       6.9G      2.162      3.583      1.766         45        640:  83%|████████▎ | 121/146 [01:01<00:12,  1.98it/s]"
     ]
    },
    {
     "name": "stderr",
     "output_type": "stream",
     "text": [
      "\r",
      "      1/100       6.9G      2.162      3.583      1.766         45        640:  84%|████████▎ | 122/146 [01:01<00:11,  2.01it/s]"
     ]
    },
    {
     "name": "stderr",
     "output_type": "stream",
     "text": [
      "\r",
      "      1/100       6.9G      2.162      3.574      1.766         45        640:  84%|████████▎ | 122/146 [01:01<00:11,  2.01it/s]"
     ]
    },
    {
     "name": "stderr",
     "output_type": "stream",
     "text": [
      "\r",
      "      1/100       6.9G      2.162      3.574      1.766         45        640:  84%|████████▍ | 123/146 [01:01<00:11,  1.98it/s]"
     ]
    },
    {
     "name": "stderr",
     "output_type": "stream",
     "text": [
      "\r",
      "      1/100       6.9G      2.164      3.565      1.766         48        640:  84%|████████▍ | 123/146 [01:02<00:11,  1.98it/s]"
     ]
    },
    {
     "name": "stderr",
     "output_type": "stream",
     "text": [
      "\r",
      "      1/100       6.9G      2.164      3.565      1.766         48        640:  85%|████████▍ | 124/146 [01:02<00:10,  2.00it/s]"
     ]
    },
    {
     "name": "stderr",
     "output_type": "stream",
     "text": [
      "\r",
      "      1/100       6.9G      2.164      3.558      1.767         64        640:  85%|████████▍ | 124/146 [01:02<00:10,  2.00it/s]"
     ]
    },
    {
     "name": "stderr",
     "output_type": "stream",
     "text": [
      "\r",
      "      1/100       6.9G      2.164      3.558      1.767         64        640:  86%|████████▌ | 125/146 [01:02<00:10,  1.98it/s]"
     ]
    },
    {
     "name": "stderr",
     "output_type": "stream",
     "text": [
      "\r",
      "      1/100       6.9G      2.163      3.546      1.766         58        640:  86%|████████▌ | 125/146 [01:03<00:10,  1.98it/s]"
     ]
    },
    {
     "name": "stderr",
     "output_type": "stream",
     "text": [
      "\r",
      "      1/100       6.9G      2.163      3.546      1.766         58        640:  86%|████████▋ | 126/146 [01:03<00:10,  2.00it/s]"
     ]
    },
    {
     "name": "stderr",
     "output_type": "stream",
     "text": [
      "\r",
      "      1/100       6.9G      2.163      3.539      1.766         63        640:  86%|████████▋ | 126/146 [01:03<00:10,  2.00it/s]"
     ]
    },
    {
     "name": "stderr",
     "output_type": "stream",
     "text": [
      "\r",
      "      1/100       6.9G      2.163      3.539      1.766         63        640:  87%|████████▋ | 127/146 [01:03<00:09,  1.97it/s]"
     ]
    },
    {
     "name": "stderr",
     "output_type": "stream",
     "text": [
      "\r",
      "      1/100       6.9G      2.164      3.531      1.766         48        640:  87%|████████▋ | 127/146 [01:04<00:09,  1.97it/s]"
     ]
    },
    {
     "name": "stderr",
     "output_type": "stream",
     "text": [
      "\r",
      "      1/100       6.9G      2.164      3.531      1.766         48        640:  88%|████████▊ | 128/146 [01:04<00:09,  1.99it/s]"
     ]
    },
    {
     "name": "stderr",
     "output_type": "stream",
     "text": [
      "\r",
      "      1/100       6.9G      2.164      3.521      1.765         47        640:  88%|████████▊ | 128/146 [01:05<00:09,  1.99it/s]"
     ]
    },
    {
     "name": "stderr",
     "output_type": "stream",
     "text": [
      "\r",
      "      1/100       6.9G      2.164      3.521      1.765         47        640:  88%|████████▊ | 129/146 [01:05<00:08,  1.97it/s]"
     ]
    },
    {
     "name": "stderr",
     "output_type": "stream",
     "text": [
      "\r",
      "      1/100       6.9G       2.16      3.512      1.764         28        640:  88%|████████▊ | 129/146 [01:05<00:08,  1.97it/s]"
     ]
    },
    {
     "name": "stderr",
     "output_type": "stream",
     "text": [
      "\r",
      "      1/100       6.9G       2.16      3.512      1.764         28        640:  89%|████████▉ | 130/146 [01:05<00:08,  1.99it/s]"
     ]
    },
    {
     "name": "stderr",
     "output_type": "stream",
     "text": [
      "\r",
      "      1/100       6.9G      2.159      3.505      1.764         37        640:  89%|████████▉ | 130/146 [01:06<00:08,  1.99it/s]"
     ]
    },
    {
     "name": "stderr",
     "output_type": "stream",
     "text": [
      "\r",
      "      1/100       6.9G      2.159      3.505      1.764         37        640:  90%|████████▉ | 131/146 [01:06<00:07,  1.97it/s]"
     ]
    },
    {
     "name": "stderr",
     "output_type": "stream",
     "text": [
      "\r",
      "      1/100       6.9G      2.157      3.496      1.763         41        640:  90%|████████▉ | 131/146 [01:06<00:07,  1.97it/s]"
     ]
    },
    {
     "name": "stderr",
     "output_type": "stream",
     "text": [
      "\r",
      "      1/100       6.9G      2.157      3.496      1.763         41        640:  90%|█████████ | 132/146 [01:06<00:07,  1.99it/s]"
     ]
    },
    {
     "name": "stderr",
     "output_type": "stream",
     "text": [
      "\r",
      "      1/100       6.9G       2.16       3.49      1.765         33        640:  90%|█████████ | 132/146 [01:07<00:07,  1.99it/s]"
     ]
    },
    {
     "name": "stderr",
     "output_type": "stream",
     "text": [
      "\r",
      "      1/100       6.9G       2.16       3.49      1.765         33        640:  91%|█████████ | 133/146 [01:07<00:06,  1.97it/s]"
     ]
    },
    {
     "name": "stderr",
     "output_type": "stream",
     "text": [
      "\r",
      "      1/100       6.9G       2.16      3.483      1.765         46        640:  91%|█████████ | 133/146 [01:07<00:06,  1.97it/s]"
     ]
    },
    {
     "name": "stderr",
     "output_type": "stream",
     "text": [
      "\r",
      "      1/100       6.9G       2.16      3.483      1.765         46        640:  92%|█████████▏| 134/146 [01:07<00:06,  1.99it/s]"
     ]
    },
    {
     "name": "stderr",
     "output_type": "stream",
     "text": [
      "\r",
      "      1/100       6.9G      2.159      3.476      1.765         42        640:  92%|█████████▏| 134/146 [01:08<00:06,  1.99it/s]"
     ]
    },
    {
     "name": "stderr",
     "output_type": "stream",
     "text": [
      "\r",
      "      1/100       6.9G      2.159      3.476      1.765         42        640:  92%|█████████▏| 135/146 [01:08<00:05,  1.97it/s]"
     ]
    },
    {
     "name": "stderr",
     "output_type": "stream",
     "text": [
      "\r",
      "      1/100       6.9G      2.158      3.467      1.764         42        640:  92%|█████████▏| 135/146 [01:08<00:05,  1.97it/s]"
     ]
    },
    {
     "name": "stderr",
     "output_type": "stream",
     "text": [
      "\r",
      "      1/100       6.9G      2.158      3.467      1.764         42        640:  93%|█████████▎| 136/146 [01:08<00:05,  1.99it/s]"
     ]
    },
    {
     "name": "stderr",
     "output_type": "stream",
     "text": [
      "\r",
      "      1/100       6.9G      2.157      3.459      1.764         36        640:  93%|█████████▎| 136/146 [01:09<00:05,  1.99it/s]"
     ]
    },
    {
     "name": "stderr",
     "output_type": "stream",
     "text": [
      "\r",
      "      1/100       6.9G      2.157      3.459      1.764         36        640:  94%|█████████▍| 137/146 [01:09<00:04,  1.97it/s]"
     ]
    },
    {
     "name": "stderr",
     "output_type": "stream",
     "text": [
      "\r",
      "      1/100       6.9G      2.157      3.454      1.764         40        640:  94%|█████████▍| 137/146 [01:09<00:04,  1.97it/s]"
     ]
    },
    {
     "name": "stderr",
     "output_type": "stream",
     "text": [
      "\r",
      "      1/100       6.9G      2.157      3.454      1.764         40        640:  95%|█████████▍| 138/146 [01:09<00:04,  2.00it/s]"
     ]
    },
    {
     "name": "stderr",
     "output_type": "stream",
     "text": [
      "\r",
      "      1/100       6.9G      2.156      3.445      1.764         42        640:  95%|█████████▍| 138/146 [01:10<00:04,  2.00it/s]"
     ]
    },
    {
     "name": "stderr",
     "output_type": "stream",
     "text": [
      "\r",
      "      1/100       6.9G      2.156      3.445      1.764         42        640:  95%|█████████▌| 139/146 [01:10<00:03,  1.97it/s]"
     ]
    },
    {
     "name": "stderr",
     "output_type": "stream",
     "text": [
      "\r",
      "      1/100       6.9G      2.156      3.438      1.764         40        640:  95%|█████████▌| 139/146 [01:10<00:03,  1.97it/s]"
     ]
    },
    {
     "name": "stderr",
     "output_type": "stream",
     "text": [
      "\r",
      "      1/100       6.9G      2.156      3.438      1.764         40        640:  96%|█████████▌| 140/146 [01:10<00:03,  1.99it/s]"
     ]
    },
    {
     "name": "stderr",
     "output_type": "stream",
     "text": [
      "\r",
      "      1/100       6.9G      2.155       3.43      1.763         69        640:  96%|█████████▌| 140/146 [01:11<00:03,  1.99it/s]"
     ]
    },
    {
     "name": "stderr",
     "output_type": "stream",
     "text": [
      "\r",
      "      1/100       6.9G      2.155       3.43      1.763         69        640:  97%|█████████▋| 141/146 [01:11<00:02,  1.97it/s]"
     ]
    },
    {
     "name": "stderr",
     "output_type": "stream",
     "text": [
      "\r",
      "      1/100       6.9G      2.155      3.424      1.763         31        640:  97%|█████████▋| 141/146 [01:11<00:02,  1.97it/s]"
     ]
    },
    {
     "name": "stderr",
     "output_type": "stream",
     "text": [
      "\r",
      "      1/100       6.9G      2.155      3.424      1.763         31        640:  97%|█████████▋| 142/146 [01:11<00:02,  1.98it/s]"
     ]
    },
    {
     "name": "stderr",
     "output_type": "stream",
     "text": [
      "\r",
      "      1/100       6.9G      2.158       3.42      1.764         63        640:  97%|█████████▋| 142/146 [01:12<00:02,  1.98it/s]"
     ]
    },
    {
     "name": "stderr",
     "output_type": "stream",
     "text": [
      "\r",
      "      1/100       6.9G      2.158       3.42      1.764         63        640:  98%|█████████▊| 143/146 [01:12<00:01,  1.96it/s]"
     ]
    },
    {
     "name": "stderr",
     "output_type": "stream",
     "text": [
      "\r",
      "      1/100       6.9G       2.16      3.414      1.765         32        640:  98%|█████████▊| 143/146 [01:12<00:01,  1.96it/s]"
     ]
    },
    {
     "name": "stderr",
     "output_type": "stream",
     "text": [
      "\r",
      "      1/100       6.9G       2.16      3.414      1.765         32        640:  99%|█████████▊| 144/146 [01:12<00:01,  1.98it/s]"
     ]
    },
    {
     "name": "stderr",
     "output_type": "stream",
     "text": [
      "\r",
      "      1/100       6.9G      2.159      3.406      1.763         47        640:  99%|█████████▊| 144/146 [01:13<00:01,  1.98it/s]"
     ]
    },
    {
     "name": "stderr",
     "output_type": "stream",
     "text": [
      "\r",
      "      1/100       6.9G      2.159      3.406      1.763         47        640:  99%|█████████▉| 145/146 [01:13<00:00,  1.96it/s]"
     ]
    },
    {
     "name": "stderr",
     "output_type": "stream",
     "text": [
      "\r",
      "      1/100       6.9G      2.158      3.398      1.762         13        640:  99%|█████████▉| 145/146 [01:13<00:00,  1.96it/s]"
     ]
    },
    {
     "name": "stderr",
     "output_type": "stream",
     "text": [
      "\r",
      "      1/100       6.9G      2.158      3.398      1.762         13        640: 100%|██████████| 146/146 [01:13<00:00,  2.32it/s]"
     ]
    },
    {
     "name": "stderr",
     "output_type": "stream",
     "text": [
      "\r",
      "      1/100       6.9G      2.158      3.398      1.762         13        640: 100%|██████████| 146/146 [01:13<00:00,  1.99it/s]"
     ]
    },
    {
     "name": "stderr",
     "output_type": "stream",
     "text": [
      "\n"
     ]
    },
    {
     "name": "stderr",
     "output_type": "stream",
     "text": [
      "\r",
      "                 Class     Images  Instances      Box(P          R      mAP50  mAP50-95):   0%|          | 0/21 [00:00<?, ?it/s]"
     ]
    },
    {
     "name": "stderr",
     "output_type": "stream",
     "text": [
      "\r",
      "                 Class     Images  Instances      Box(P          R      mAP50  mAP50-95):   5%|▍         | 1/21 [00:01<00:31,  1.58s/it]"
     ]
    },
    {
     "name": "stderr",
     "output_type": "stream",
     "text": [
      "\r",
      "                 Class     Images  Instances      Box(P          R      mAP50  mAP50-95):  10%|▉         | 2/21 [00:02<00:17,  1.10it/s]"
     ]
    },
    {
     "name": "stderr",
     "output_type": "stream",
     "text": [
      "\r",
      "                 Class     Images  Instances      Box(P          R      mAP50  mAP50-95):  14%|█▍        | 3/21 [00:02<00:12,  1.44it/s]"
     ]
    },
    {
     "name": "stderr",
     "output_type": "stream",
     "text": [
      "\r",
      "                 Class     Images  Instances      Box(P          R      mAP50  mAP50-95):  19%|█▉        | 4/21 [00:02<00:10,  1.66it/s]"
     ]
    },
    {
     "name": "stderr",
     "output_type": "stream",
     "text": [
      "\r",
      "                 Class     Images  Instances      Box(P          R      mAP50  mAP50-95):  24%|██▍       | 5/21 [00:03<00:08,  1.86it/s]"
     ]
    },
    {
     "name": "stderr",
     "output_type": "stream",
     "text": [
      "\r",
      "                 Class     Images  Instances      Box(P          R      mAP50  mAP50-95):  29%|██▊       | 6/21 [00:03<00:07,  1.98it/s]"
     ]
    },
    {
     "name": "stderr",
     "output_type": "stream",
     "text": [
      "\r",
      "                 Class     Images  Instances      Box(P          R      mAP50  mAP50-95):  33%|███▎      | 7/21 [00:04<00:06,  2.06it/s]"
     ]
    },
    {
     "name": "stderr",
     "output_type": "stream",
     "text": [
      "\r",
      "                 Class     Images  Instances      Box(P          R      mAP50  mAP50-95):  38%|███▊      | 8/21 [00:04<00:06,  2.13it/s]"
     ]
    },
    {
     "name": "stderr",
     "output_type": "stream",
     "text": [
      "\r",
      "                 Class     Images  Instances      Box(P          R      mAP50  mAP50-95):  43%|████▎     | 9/21 [00:05<00:05,  2.18it/s]"
     ]
    },
    {
     "name": "stderr",
     "output_type": "stream",
     "text": [
      "\r",
      "                 Class     Images  Instances      Box(P          R      mAP50  mAP50-95):  48%|████▊     | 10/21 [00:05<00:04,  2.20it/s]"
     ]
    },
    {
     "name": "stderr",
     "output_type": "stream",
     "text": [
      "\r",
      "                 Class     Images  Instances      Box(P          R      mAP50  mAP50-95):  52%|█████▏    | 11/21 [00:05<00:04,  2.23it/s]"
     ]
    },
    {
     "name": "stderr",
     "output_type": "stream",
     "text": [
      "\r",
      "                 Class     Images  Instances      Box(P          R      mAP50  mAP50-95):  57%|█████▋    | 12/21 [00:06<00:04,  2.24it/s]"
     ]
    },
    {
     "name": "stderr",
     "output_type": "stream",
     "text": [
      "\r",
      "                 Class     Images  Instances      Box(P          R      mAP50  mAP50-95):  62%|██████▏   | 13/21 [00:06<00:03,  2.25it/s]"
     ]
    },
    {
     "name": "stderr",
     "output_type": "stream",
     "text": [
      "\r",
      "                 Class     Images  Instances      Box(P          R      mAP50  mAP50-95):  67%|██████▋   | 14/21 [00:07<00:03,  2.27it/s]"
     ]
    },
    {
     "name": "stderr",
     "output_type": "stream",
     "text": [
      "\r",
      "                 Class     Images  Instances      Box(P          R      mAP50  mAP50-95):  71%|███████▏  | 15/21 [00:07<00:02,  2.28it/s]"
     ]
    },
    {
     "name": "stderr",
     "output_type": "stream",
     "text": [
      "\r",
      "                 Class     Images  Instances      Box(P          R      mAP50  mAP50-95):  76%|███████▌  | 16/21 [00:08<00:02,  2.28it/s]"
     ]
    },
    {
     "name": "stderr",
     "output_type": "stream",
     "text": [
      "\r",
      "                 Class     Images  Instances      Box(P          R      mAP50  mAP50-95):  81%|████████  | 17/21 [00:08<00:01,  2.28it/s]"
     ]
    },
    {
     "name": "stderr",
     "output_type": "stream",
     "text": [
      "\r",
      "                 Class     Images  Instances      Box(P          R      mAP50  mAP50-95):  86%|████████▌ | 18/21 [00:09<00:01,  2.28it/s]"
     ]
    },
    {
     "name": "stderr",
     "output_type": "stream",
     "text": [
      "\r",
      "                 Class     Images  Instances      Box(P          R      mAP50  mAP50-95):  90%|█████████ | 19/21 [00:09<00:00,  2.28it/s]"
     ]
    },
    {
     "name": "stderr",
     "output_type": "stream",
     "text": [
      "\r",
      "                 Class     Images  Instances      Box(P          R      mAP50  mAP50-95):  95%|█████████▌| 20/21 [00:09<00:00,  2.28it/s]"
     ]
    },
    {
     "name": "stderr",
     "output_type": "stream",
     "text": [
      "\r",
      "                 Class     Images  Instances      Box(P          R      mAP50  mAP50-95): 100%|██████████| 21/21 [00:10<00:00,  2.44it/s]"
     ]
    },
    {
     "name": "stderr",
     "output_type": "stream",
     "text": [
      "\r",
      "                 Class     Images  Instances      Box(P          R      mAP50  mAP50-95): 100%|██████████| 21/21 [00:10<00:00,  2.05it/s]"
     ]
    },
    {
     "name": "stdout",
     "output_type": "stream",
     "text": [
      "                   all        664       1430      0.182      0.233      0.109     0.0381\n"
     ]
    },
    {
     "name": "stderr",
     "output_type": "stream",
     "text": [
      "\n"
     ]
    },
    {
     "name": "stdout",
     "output_type": "stream",
     "text": [
      "\n",
      "      Epoch    GPU_mem   box_loss   cls_loss   dfl_loss  Instances       Size\n"
     ]
    },
    {
     "name": "stderr",
     "output_type": "stream",
     "text": [
      "\r",
      "  0%|          | 0/146 [00:00<?, ?it/s]"
     ]
    },
    {
     "name": "stderr",
     "output_type": "stream",
     "text": [
      "\r",
      "      2/100      6.89G      2.185      2.351      1.631         60        640:   0%|          | 0/146 [00:00<?, ?it/s]"
     ]
    },
    {
     "name": "stderr",
     "output_type": "stream",
     "text": [
      "\r",
      "      2/100      6.89G      2.185      2.351      1.631         60        640:   1%|          | 1/146 [00:00<01:18,  1.86it/s]"
     ]
    },
    {
     "name": "stderr",
     "output_type": "stream",
     "text": [
      "\r",
      "      2/100      6.89G      2.212      2.417      1.719         68        640:   1%|          | 1/146 [00:01<01:18,  1.86it/s]"
     ]
    },
    {
     "name": "stderr",
     "output_type": "stream",
     "text": [
      "\r",
      "      2/100      6.89G      2.212      2.417      1.719         68        640:   1%|▏         | 2/146 [00:01<01:14,  1.93it/s]"
     ]
    },
    {
     "name": "stderr",
     "output_type": "stream",
     "text": [
      "\r",
      "      2/100      6.89G      2.197      2.399      1.721         61        640:   1%|▏         | 2/146 [00:01<01:14,  1.93it/s]"
     ]
    },
    {
     "name": "stderr",
     "output_type": "stream",
     "text": [
      "\r",
      "      2/100      6.89G      2.197      2.399      1.721         61        640:   2%|▏         | 3/146 [00:01<01:15,  1.90it/s]"
     ]
    },
    {
     "name": "stderr",
     "output_type": "stream",
     "text": [
      "\r",
      "      2/100      6.89G      2.213      2.443      1.744         55        640:   2%|▏         | 3/146 [00:02<01:15,  1.90it/s]"
     ]
    },
    {
     "name": "stderr",
     "output_type": "stream",
     "text": [
      "\r",
      "      2/100      6.89G      2.213      2.443      1.744         55        640:   3%|▎         | 4/146 [00:02<01:13,  1.93it/s]"
     ]
    },
    {
     "name": "stderr",
     "output_type": "stream",
     "text": [
      "\r",
      "      2/100      6.89G      2.207      2.375      1.745         57        640:   3%|▎         | 4/146 [00:02<01:13,  1.93it/s]"
     ]
    },
    {
     "name": "stderr",
     "output_type": "stream",
     "text": [
      "\r",
      "      2/100      6.89G      2.207      2.375      1.745         57        640:   3%|▎         | 5/146 [00:02<01:14,  1.90it/s]"
     ]
    },
    {
     "name": "stderr",
     "output_type": "stream",
     "text": [
      "\r",
      "      2/100      6.89G      2.212       2.37       1.74         53        640:   3%|▎         | 5/146 [00:03<01:14,  1.90it/s]"
     ]
    },
    {
     "name": "stderr",
     "output_type": "stream",
     "text": [
      "\r",
      "      2/100      6.89G      2.212       2.37       1.74         53        640:   4%|▍         | 6/146 [00:03<01:12,  1.93it/s]"
     ]
    },
    {
     "name": "stderr",
     "output_type": "stream",
     "text": [
      "\r",
      "      2/100      6.89G      2.239      2.409      1.766         40        640:   4%|▍         | 6/146 [00:03<01:12,  1.93it/s]"
     ]
    },
    {
     "name": "stderr",
     "output_type": "stream",
     "text": [
      "\r",
      "      2/100      6.89G      2.239      2.409      1.766         40        640:   5%|▍         | 7/146 [00:03<01:12,  1.91it/s]"
     ]
    },
    {
     "name": "stderr",
     "output_type": "stream",
     "text": [
      "\r",
      "      2/100      6.89G      2.247       2.43      1.767         40        640:   5%|▍         | 7/146 [00:04<01:12,  1.91it/s]"
     ]
    },
    {
     "name": "stderr",
     "output_type": "stream",
     "text": [
      "\r",
      "      2/100      6.89G      2.247       2.43      1.767         40        640:   5%|▌         | 8/146 [00:04<01:11,  1.93it/s]"
     ]
    },
    {
     "name": "stderr",
     "output_type": "stream",
     "text": [
      "\r",
      "      2/100      6.89G      2.248      2.469      1.774         47        640:   5%|▌         | 8/146 [00:04<01:11,  1.93it/s]"
     ]
    },
    {
     "name": "stderr",
     "output_type": "stream",
     "text": [
      "\r",
      "      2/100      6.89G      2.248      2.469      1.774         47        640:   6%|▌         | 9/146 [00:04<01:11,  1.91it/s]"
     ]
    },
    {
     "name": "stderr",
     "output_type": "stream",
     "text": [
      "\r",
      "      2/100      6.89G      2.226      2.443      1.762         49        640:   6%|▌         | 9/146 [00:05<01:11,  1.91it/s]"
     ]
    },
    {
     "name": "stderr",
     "output_type": "stream",
     "text": [
      "\r",
      "      2/100      6.89G      2.226      2.443      1.762         49        640:   7%|▋         | 10/146 [00:05<01:10,  1.93it/s]"
     ]
    },
    {
     "name": "stderr",
     "output_type": "stream",
     "text": [
      "\r",
      "      2/100      6.89G      2.233      2.442      1.753         49        640:   7%|▋         | 10/146 [00:05<01:10,  1.93it/s]"
     ]
    },
    {
     "name": "stderr",
     "output_type": "stream",
     "text": [
      "\r",
      "      2/100      6.89G      2.233      2.442      1.753         49        640:   8%|▊         | 11/146 [00:05<01:10,  1.91it/s]"
     ]
    },
    {
     "name": "stderr",
     "output_type": "stream",
     "text": [
      "\r",
      "      2/100      6.89G      2.216      2.434      1.734         43        640:   8%|▊         | 11/146 [00:06<01:10,  1.91it/s]"
     ]
    },
    {
     "name": "stderr",
     "output_type": "stream",
     "text": [
      "\r",
      "      2/100      6.89G      2.216      2.434      1.734         43        640:   8%|▊         | 12/146 [00:06<01:09,  1.92it/s]"
     ]
    },
    {
     "name": "stderr",
     "output_type": "stream",
     "text": [
      "\r",
      "      2/100      6.89G      2.259      2.483      1.767         27        640:   8%|▊         | 12/146 [00:06<01:09,  1.92it/s]"
     ]
    },
    {
     "name": "stderr",
     "output_type": "stream",
     "text": [
      "\r",
      "      2/100      6.89G      2.259      2.483      1.767         27        640:   9%|▉         | 13/146 [00:06<01:10,  1.90it/s]"
     ]
    },
    {
     "name": "stderr",
     "output_type": "stream",
     "text": [
      "\r",
      "      2/100      6.89G      2.247      2.469      1.758         74        640:   9%|▉         | 13/146 [00:07<01:10,  1.90it/s]"
     ]
    },
    {
     "name": "stderr",
     "output_type": "stream",
     "text": [
      "\r",
      "      2/100      6.89G      2.247      2.469      1.758         74        640:  10%|▉         | 14/146 [00:07<01:08,  1.92it/s]"
     ]
    },
    {
     "name": "stderr",
     "output_type": "stream",
     "text": [
      "\r",
      "      2/100      6.89G      2.231      2.455      1.756         40        640:  10%|▉         | 14/146 [00:07<01:08,  1.92it/s]"
     ]
    },
    {
     "name": "stderr",
     "output_type": "stream",
     "text": [
      "\r",
      "      2/100      6.89G      2.231      2.455      1.756         40        640:  10%|█         | 15/146 [00:07<01:09,  1.90it/s]"
     ]
    },
    {
     "name": "stderr",
     "output_type": "stream",
     "text": [
      "\r",
      "      2/100      6.89G       2.24      2.484      1.773         37        640:  10%|█         | 15/146 [00:08<01:09,  1.90it/s]"
     ]
    },
    {
     "name": "stderr",
     "output_type": "stream",
     "text": [
      "\r",
      "      2/100      6.89G       2.24      2.484      1.773         37        640:  11%|█         | 16/146 [00:08<01:07,  1.91it/s]"
     ]
    },
    {
     "name": "stderr",
     "output_type": "stream",
     "text": [
      "\r",
      "      2/100      6.89G      2.242      2.482      1.775         49        640:  11%|█         | 16/146 [00:08<01:07,  1.91it/s]"
     ]
    },
    {
     "name": "stderr",
     "output_type": "stream",
     "text": [
      "\r",
      "      2/100      6.89G      2.242      2.482      1.775         49        640:  12%|█▏        | 17/146 [00:08<01:08,  1.89it/s]"
     ]
    },
    {
     "name": "stderr",
     "output_type": "stream",
     "text": [
      "\r",
      "      2/100      6.89G      2.238      2.463       1.77         53        640:  12%|█▏        | 17/146 [00:09<01:08,  1.89it/s]"
     ]
    },
    {
     "name": "stderr",
     "output_type": "stream",
     "text": [
      "\r",
      "      2/100      6.89G      2.238      2.463       1.77         53        640:  12%|█▏        | 18/146 [00:09<01:06,  1.93it/s]"
     ]
    },
    {
     "name": "stderr",
     "output_type": "stream",
     "text": [
      "\r",
      "      2/100      6.89G      2.229      2.454      1.761         43        640:  12%|█▏        | 18/146 [00:09<01:06,  1.93it/s]"
     ]
    },
    {
     "name": "stderr",
     "output_type": "stream",
     "text": [
      "\r",
      "      2/100      6.89G      2.229      2.454      1.761         43        640:  13%|█▎        | 19/146 [00:09<01:06,  1.91it/s]"
     ]
    },
    {
     "name": "stderr",
     "output_type": "stream",
     "text": [
      "\r",
      "      2/100      6.89G      2.221      2.449      1.753         49        640:  13%|█▎        | 19/146 [00:10<01:06,  1.91it/s]"
     ]
    },
    {
     "name": "stderr",
     "output_type": "stream",
     "text": [
      "\r",
      "      2/100      6.89G      2.221      2.449      1.753         49        640:  14%|█▎        | 20/146 [00:10<01:05,  1.92it/s]"
     ]
    },
    {
     "name": "stderr",
     "output_type": "stream",
     "text": [
      "\r",
      "      2/100      6.89G      2.212      2.454      1.752         44        640:  14%|█▎        | 20/146 [00:10<01:05,  1.92it/s]"
     ]
    },
    {
     "name": "stderr",
     "output_type": "stream",
     "text": [
      "\r",
      "      2/100      6.89G      2.212      2.454      1.752         44        640:  14%|█▍        | 21/146 [00:10<01:05,  1.90it/s]"
     ]
    },
    {
     "name": "stderr",
     "output_type": "stream",
     "text": [
      "\r",
      "      2/100      6.89G      2.216      2.445      1.751         41        640:  14%|█▍        | 21/146 [00:11<01:05,  1.90it/s]"
     ]
    },
    {
     "name": "stderr",
     "output_type": "stream",
     "text": [
      "\r",
      "      2/100      6.89G      2.216      2.445      1.751         41        640:  15%|█▌        | 22/146 [00:11<01:04,  1.92it/s]"
     ]
    },
    {
     "name": "stderr",
     "output_type": "stream",
     "text": [
      "\r",
      "      2/100      6.89G      2.209      2.441       1.75         51        640:  15%|█▌        | 22/146 [00:12<01:04,  1.92it/s]"
     ]
    },
    {
     "name": "stderr",
     "output_type": "stream",
     "text": [
      "\r",
      "      2/100      6.89G      2.209      2.441       1.75         51        640:  16%|█▌        | 23/146 [00:12<01:04,  1.89it/s]"
     ]
    },
    {
     "name": "stderr",
     "output_type": "stream",
     "text": [
      "\r",
      "      2/100      6.89G      2.219      2.447      1.753         39        640:  16%|█▌        | 23/146 [00:12<01:04,  1.89it/s]"
     ]
    },
    {
     "name": "stderr",
     "output_type": "stream",
     "text": [
      "\r",
      "      2/100      6.89G      2.219      2.447      1.753         39        640:  16%|█▋        | 24/146 [00:12<01:03,  1.91it/s]"
     ]
    },
    {
     "name": "stderr",
     "output_type": "stream",
     "text": [
      "\r",
      "      2/100      6.89G      2.217      2.442      1.751         60        640:  16%|█▋        | 24/146 [00:13<01:03,  1.91it/s]"
     ]
    },
    {
     "name": "stderr",
     "output_type": "stream",
     "text": [
      "\r",
      "      2/100      6.89G      2.217      2.442      1.751         60        640:  17%|█▋        | 25/146 [00:13<01:04,  1.89it/s]"
     ]
    },
    {
     "name": "stderr",
     "output_type": "stream",
     "text": [
      "\r",
      "      2/100      6.89G       2.22      2.445      1.754         58        640:  17%|█▋        | 25/146 [00:13<01:04,  1.89it/s]"
     ]
    },
    {
     "name": "stderr",
     "output_type": "stream",
     "text": [
      "\r",
      "      2/100      6.89G       2.22      2.445      1.754         58        640:  18%|█▊        | 26/146 [00:13<01:02,  1.91it/s]"
     ]
    },
    {
     "name": "stderr",
     "output_type": "stream",
     "text": [
      "\r",
      "      2/100      6.89G      2.228      2.446       1.76         50        640:  18%|█▊        | 26/146 [00:14<01:02,  1.91it/s]"
     ]
    },
    {
     "name": "stderr",
     "output_type": "stream",
     "text": [
      "\r",
      "      2/100      6.89G      2.228      2.446       1.76         50        640:  18%|█▊        | 27/146 [00:14<01:03,  1.89it/s]"
     ]
    },
    {
     "name": "stderr",
     "output_type": "stream",
     "text": [
      "\r",
      "      2/100      6.89G      2.236      2.454      1.771         35        640:  18%|█▊        | 27/146 [00:14<01:03,  1.89it/s]"
     ]
    },
    {
     "name": "stderr",
     "output_type": "stream",
     "text": [
      "\r",
      "      2/100      6.89G      2.236      2.454      1.771         35        640:  19%|█▉        | 28/146 [00:14<01:01,  1.91it/s]"
     ]
    },
    {
     "name": "stderr",
     "output_type": "stream",
     "text": [
      "\r",
      "      2/100      6.89G      2.226      2.455      1.771         47        640:  19%|█▉        | 28/146 [00:15<01:01,  1.91it/s]"
     ]
    },
    {
     "name": "stderr",
     "output_type": "stream",
     "text": [
      "\r",
      "      2/100      6.89G      2.226      2.455      1.771         47        640:  20%|█▉        | 29/146 [00:15<01:02,  1.88it/s]"
     ]
    },
    {
     "name": "stderr",
     "output_type": "stream",
     "text": [
      "\r",
      "      2/100      6.89G      2.221      2.449      1.768         43        640:  20%|█▉        | 29/146 [00:15<01:02,  1.88it/s]"
     ]
    },
    {
     "name": "stderr",
     "output_type": "stream",
     "text": [
      "\r",
      "      2/100      6.89G      2.221      2.449      1.768         43        640:  21%|██        | 30/146 [00:15<01:01,  1.90it/s]"
     ]
    },
    {
     "name": "stderr",
     "output_type": "stream",
     "text": [
      "\r",
      "      2/100      6.89G      2.215      2.465      1.769         23        640:  21%|██        | 30/146 [00:16<01:01,  1.90it/s]"
     ]
    },
    {
     "name": "stderr",
     "output_type": "stream",
     "text": [
      "\r",
      "      2/100      6.89G      2.215      2.465      1.769         23        640:  21%|██        | 31/146 [00:16<01:01,  1.88it/s]"
     ]
    },
    {
     "name": "stderr",
     "output_type": "stream",
     "text": [
      "\r",
      "      2/100      6.89G      2.218      2.468      1.774         43        640:  21%|██        | 31/146 [00:16<01:01,  1.88it/s]"
     ]
    },
    {
     "name": "stderr",
     "output_type": "stream",
     "text": [
      "\r",
      "      2/100      6.89G      2.218      2.468      1.774         43        640:  22%|██▏       | 32/146 [00:16<00:59,  1.90it/s]"
     ]
    },
    {
     "name": "stderr",
     "output_type": "stream",
     "text": [
      "\r",
      "      2/100      6.89G      2.217       2.46      1.772         62        640:  22%|██▏       | 32/146 [00:17<00:59,  1.90it/s]"
     ]
    },
    {
     "name": "stderr",
     "output_type": "stream",
     "text": [
      "\r",
      "      2/100      6.89G      2.217       2.46      1.772         62        640:  23%|██▎       | 33/146 [00:17<01:00,  1.88it/s]"
     ]
    },
    {
     "name": "stderr",
     "output_type": "stream",
     "text": [
      "\r",
      "      2/100      6.89G      2.224      2.474      1.781         34        640:  23%|██▎       | 33/146 [00:17<01:00,  1.88it/s]"
     ]
    },
    {
     "name": "stderr",
     "output_type": "stream",
     "text": [
      "\r",
      "      2/100      6.89G      2.224      2.474      1.781         34        640:  23%|██▎       | 34/146 [00:17<00:59,  1.90it/s]"
     ]
    },
    {
     "name": "stderr",
     "output_type": "stream",
     "text": [
      "\r",
      "      2/100      6.89G      2.226      2.475      1.785         60        640:  23%|██▎       | 34/146 [00:18<00:59,  1.90it/s]"
     ]
    },
    {
     "name": "stderr",
     "output_type": "stream",
     "text": [
      "\r",
      "      2/100      6.89G      2.226      2.475      1.785         60        640:  24%|██▍       | 35/146 [00:18<00:59,  1.87it/s]"
     ]
    },
    {
     "name": "stderr",
     "output_type": "stream",
     "text": [
      "\r",
      "      2/100      6.89G      2.222      2.486      1.783         43        640:  24%|██▍       | 35/146 [00:18<00:59,  1.87it/s]"
     ]
    },
    {
     "name": "stderr",
     "output_type": "stream",
     "text": [
      "\r",
      "      2/100      6.89G      2.222      2.486      1.783         43        640:  25%|██▍       | 36/146 [00:18<00:58,  1.89it/s]"
     ]
    },
    {
     "name": "stderr",
     "output_type": "stream",
     "text": [
      "\r",
      "      2/100      6.89G      2.218      2.495      1.786         35        640:  25%|██▍       | 36/146 [00:19<00:58,  1.89it/s]"
     ]
    },
    {
     "name": "stderr",
     "output_type": "stream",
     "text": [
      "\r",
      "      2/100      6.89G      2.218      2.495      1.786         35        640:  25%|██▌       | 37/146 [00:19<00:58,  1.86it/s]"
     ]
    },
    {
     "name": "stderr",
     "output_type": "stream",
     "text": [
      "\r",
      "      2/100      6.89G       2.22      2.495      1.791         47        640:  25%|██▌       | 37/146 [00:19<00:58,  1.86it/s]"
     ]
    },
    {
     "name": "stderr",
     "output_type": "stream",
     "text": [
      "\r",
      "      2/100      6.89G       2.22      2.495      1.791         47        640:  26%|██▌       | 38/146 [00:19<00:57,  1.88it/s]"
     ]
    },
    {
     "name": "stderr",
     "output_type": "stream",
     "text": [
      "\r",
      "      2/100      6.89G       2.22      2.506      1.792         44        640:  26%|██▌       | 38/146 [00:20<00:57,  1.88it/s]"
     ]
    },
    {
     "name": "stderr",
     "output_type": "stream",
     "text": [
      "\r",
      "      2/100      6.89G       2.22      2.506      1.792         44        640:  27%|██▋       | 39/146 [00:20<00:57,  1.86it/s]"
     ]
    },
    {
     "name": "stderr",
     "output_type": "stream",
     "text": [
      "\r",
      "      2/100      6.89G      2.221      2.505      1.795         71        640:  27%|██▋       | 39/146 [00:21<00:57,  1.86it/s]"
     ]
    },
    {
     "name": "stderr",
     "output_type": "stream",
     "text": [
      "\r",
      "      2/100      6.89G      2.221      2.505      1.795         71        640:  27%|██▋       | 40/146 [00:21<00:56,  1.87it/s]"
     ]
    },
    {
     "name": "stderr",
     "output_type": "stream",
     "text": [
      "\r",
      "      2/100      6.89G      2.215      2.499      1.796         35        640:  27%|██▋       | 40/146 [00:21<00:56,  1.87it/s]"
     ]
    },
    {
     "name": "stderr",
     "output_type": "stream",
     "text": [
      "\r",
      "      2/100      6.89G      2.215      2.499      1.796         35        640:  28%|██▊       | 41/146 [00:21<00:57,  1.84it/s]"
     ]
    },
    {
     "name": "stderr",
     "output_type": "stream",
     "text": [
      "\r",
      "      2/100      6.89G      2.224      2.504      1.806         27        640:  28%|██▊       | 41/146 [00:22<00:57,  1.84it/s]"
     ]
    },
    {
     "name": "stderr",
     "output_type": "stream",
     "text": [
      "\r",
      "      2/100      6.89G      2.224      2.504      1.806         27        640:  29%|██▉       | 42/146 [00:22<00:55,  1.87it/s]"
     ]
    },
    {
     "name": "stderr",
     "output_type": "stream",
     "text": [
      "\r",
      "      2/100      6.89G      2.225      2.506      1.805         58        640:  29%|██▉       | 42/146 [00:22<00:55,  1.87it/s]"
     ]
    },
    {
     "name": "stderr",
     "output_type": "stream",
     "text": [
      "\r",
      "      2/100      6.89G      2.225      2.506      1.805         58        640:  29%|██▉       | 43/146 [00:22<00:55,  1.85it/s]"
     ]
    },
    {
     "name": "stderr",
     "output_type": "stream",
     "text": [
      "\r",
      "      2/100      6.89G      2.224      2.502      1.805         47        640:  29%|██▉       | 43/146 [00:23<00:55,  1.85it/s]"
     ]
    },
    {
     "name": "stderr",
     "output_type": "stream",
     "text": [
      "\r",
      "      2/100      6.89G      2.224      2.502      1.805         47        640:  30%|███       | 44/146 [00:23<00:54,  1.87it/s]"
     ]
    },
    {
     "name": "stderr",
     "output_type": "stream",
     "text": [
      "\r",
      "      2/100      6.89G      2.226      2.504      1.803         35        640:  30%|███       | 44/146 [00:23<00:54,  1.87it/s]"
     ]
    },
    {
     "name": "stderr",
     "output_type": "stream",
     "text": [
      "\r",
      "      2/100      6.89G      2.226      2.504      1.803         35        640:  31%|███       | 45/146 [00:23<00:54,  1.85it/s]"
     ]
    },
    {
     "name": "stderr",
     "output_type": "stream",
     "text": [
      "\r",
      "      2/100      6.89G      2.227      2.504      1.804         44        640:  31%|███       | 45/146 [00:24<00:54,  1.85it/s]"
     ]
    },
    {
     "name": "stderr",
     "output_type": "stream",
     "text": [
      "\r",
      "      2/100      6.89G      2.227      2.504      1.804         44        640:  32%|███▏      | 46/146 [00:24<00:53,  1.87it/s]"
     ]
    },
    {
     "name": "stderr",
     "output_type": "stream",
     "text": [
      "\r",
      "      2/100      6.89G      2.228      2.504      1.806         36        640:  32%|███▏      | 46/146 [00:24<00:53,  1.87it/s]"
     ]
    },
    {
     "name": "stderr",
     "output_type": "stream",
     "text": [
      "\r",
      "      2/100      6.89G      2.228      2.504      1.806         36        640:  32%|███▏      | 47/146 [00:24<00:53,  1.85it/s]"
     ]
    },
    {
     "name": "stderr",
     "output_type": "stream",
     "text": [
      "\r",
      "      2/100      6.89G      2.231      2.514      1.812         47        640:  32%|███▏      | 47/146 [00:25<00:53,  1.85it/s]"
     ]
    },
    {
     "name": "stderr",
     "output_type": "stream",
     "text": [
      "\r",
      "      2/100      6.89G      2.231      2.514      1.812         47        640:  33%|███▎      | 48/146 [00:25<00:52,  1.87it/s]"
     ]
    },
    {
     "name": "stderr",
     "output_type": "stream",
     "text": [
      "\r",
      "      2/100      6.89G       2.23       2.52      1.811         51        640:  33%|███▎      | 48/146 [00:25<00:52,  1.87it/s]"
     ]
    },
    {
     "name": "stderr",
     "output_type": "stream",
     "text": [
      "\r",
      "      2/100      6.89G       2.23       2.52      1.811         51        640:  34%|███▎      | 49/146 [00:25<00:52,  1.85it/s]"
     ]
    },
    {
     "name": "stderr",
     "output_type": "stream",
     "text": [
      "\r",
      "      2/100      6.89G      2.233      2.518      1.813         53        640:  34%|███▎      | 49/146 [00:26<00:52,  1.85it/s]"
     ]
    },
    {
     "name": "stderr",
     "output_type": "stream",
     "text": [
      "\r",
      "      2/100      6.89G      2.233      2.518      1.813         53        640:  34%|███▍      | 50/146 [00:26<00:51,  1.86it/s]"
     ]
    },
    {
     "name": "stderr",
     "output_type": "stream",
     "text": [
      "\r",
      "      2/100      6.89G       2.23      2.522      1.816         39        640:  34%|███▍      | 50/146 [00:27<00:51,  1.86it/s]"
     ]
    },
    {
     "name": "stderr",
     "output_type": "stream",
     "text": [
      "\r",
      "      2/100      6.89G       2.23      2.522      1.816         39        640:  35%|███▍      | 51/146 [00:27<00:51,  1.84it/s]"
     ]
    },
    {
     "name": "stderr",
     "output_type": "stream",
     "text": [
      "\r",
      "      2/100      6.89G      2.227      2.531      1.819         23        640:  35%|███▍      | 51/146 [00:27<00:51,  1.84it/s]"
     ]
    },
    {
     "name": "stderr",
     "output_type": "stream",
     "text": [
      "\r",
      "      2/100      6.89G      2.227      2.531      1.819         23        640:  36%|███▌      | 52/146 [00:27<00:50,  1.86it/s]"
     ]
    },
    {
     "name": "stderr",
     "output_type": "stream",
     "text": [
      "\r",
      "      2/100      6.89G      2.231       2.53      1.821         40        640:  36%|███▌      | 52/146 [00:28<00:50,  1.86it/s]"
     ]
    },
    {
     "name": "stderr",
     "output_type": "stream",
     "text": [
      "\r",
      "      2/100      6.89G      2.231       2.53      1.821         40        640:  36%|███▋      | 53/146 [00:28<00:50,  1.83it/s]"
     ]
    },
    {
     "name": "stderr",
     "output_type": "stream",
     "text": [
      "\r",
      "      2/100      6.89G      2.232      2.536      1.825         27        640:  36%|███▋      | 53/146 [00:28<00:50,  1.83it/s]"
     ]
    },
    {
     "name": "stderr",
     "output_type": "stream",
     "text": [
      "\r",
      "      2/100      6.89G      2.232      2.536      1.825         27        640:  37%|███▋      | 54/146 [00:28<00:49,  1.85it/s]"
     ]
    },
    {
     "name": "stderr",
     "output_type": "stream",
     "text": [
      "\r",
      "      2/100      6.89G       2.23      2.538      1.825         44        640:  37%|███▋      | 54/146 [00:29<00:49,  1.85it/s]"
     ]
    },
    {
     "name": "stderr",
     "output_type": "stream",
     "text": [
      "\r",
      "      2/100      6.89G       2.23      2.538      1.825         44        640:  38%|███▊      | 55/146 [00:29<00:49,  1.83it/s]"
     ]
    },
    {
     "name": "stderr",
     "output_type": "stream",
     "text": [
      "\r",
      "      2/100      6.89G      2.229      2.539       1.83         44        640:  38%|███▊      | 55/146 [00:29<00:49,  1.83it/s]"
     ]
    },
    {
     "name": "stderr",
     "output_type": "stream",
     "text": [
      "\r",
      "      2/100      6.89G      2.229      2.539       1.83         44        640:  38%|███▊      | 56/146 [00:29<00:48,  1.85it/s]"
     ]
    },
    {
     "name": "stderr",
     "output_type": "stream",
     "text": [
      "\r",
      "      2/100      6.89G      2.228      2.538       1.83         59        640:  38%|███▊      | 56/146 [00:30<00:48,  1.85it/s]"
     ]
    },
    {
     "name": "stderr",
     "output_type": "stream",
     "text": [
      "\r",
      "      2/100      6.89G      2.228      2.538       1.83         59        640:  39%|███▉      | 57/146 [00:30<00:48,  1.83it/s]"
     ]
    },
    {
     "name": "stderr",
     "output_type": "stream",
     "text": [
      "\r",
      "      2/100      6.89G      2.232      2.539      1.833         63        640:  39%|███▉      | 57/146 [00:30<00:48,  1.83it/s]"
     ]
    },
    {
     "name": "stderr",
     "output_type": "stream",
     "text": [
      "\r",
      "      2/100      6.89G      2.232      2.539      1.833         63        640:  40%|███▉      | 58/146 [00:30<00:47,  1.85it/s]"
     ]
    },
    {
     "name": "stderr",
     "output_type": "stream",
     "text": [
      "\r",
      "      2/100      6.89G      2.229      2.543      1.833         46        640:  40%|███▉      | 58/146 [00:31<00:47,  1.85it/s]"
     ]
    },
    {
     "name": "stderr",
     "output_type": "stream",
     "text": [
      "\r",
      "      2/100      6.89G      2.229      2.543      1.833         46        640:  40%|████      | 59/146 [00:31<00:47,  1.82it/s]"
     ]
    },
    {
     "name": "stderr",
     "output_type": "stream",
     "text": [
      "\r",
      "      2/100      6.89G      2.226      2.555      1.836         19        640:  40%|████      | 59/146 [00:31<00:47,  1.82it/s]"
     ]
    },
    {
     "name": "stderr",
     "output_type": "stream",
     "text": [
      "\r",
      "      2/100      6.89G      2.226      2.555      1.836         19        640:  41%|████      | 60/146 [00:31<00:46,  1.84it/s]"
     ]
    },
    {
     "name": "stderr",
     "output_type": "stream",
     "text": [
      "\r",
      "      2/100      6.89G      2.228      2.556      1.839         35        640:  41%|████      | 60/146 [00:32<00:46,  1.84it/s]"
     ]
    },
    {
     "name": "stderr",
     "output_type": "stream",
     "text": [
      "\r",
      "      2/100      6.89G      2.228      2.556      1.839         35        640:  42%|████▏     | 61/146 [00:32<00:46,  1.82it/s]"
     ]
    },
    {
     "name": "stderr",
     "output_type": "stream",
     "text": [
      "\r",
      "      2/100      6.89G      2.232       2.55       1.84         56        640:  42%|████▏     | 61/146 [00:33<00:46,  1.82it/s]"
     ]
    },
    {
     "name": "stderr",
     "output_type": "stream",
     "text": [
      "\r",
      "      2/100      6.89G      2.232       2.55       1.84         56        640:  42%|████▏     | 62/146 [00:33<00:45,  1.84it/s]"
     ]
    },
    {
     "name": "stderr",
     "output_type": "stream",
     "text": [
      "\r",
      "      2/100      6.89G      2.232      2.551       1.84         47        640:  42%|████▏     | 62/146 [00:33<00:45,  1.84it/s]"
     ]
    },
    {
     "name": "stderr",
     "output_type": "stream",
     "text": [
      "\r",
      "      2/100      6.89G      2.232      2.551       1.84         47        640:  43%|████▎     | 63/146 [00:33<00:45,  1.82it/s]"
     ]
    },
    {
     "name": "stderr",
     "output_type": "stream",
     "text": [
      "\r",
      "      2/100      6.89G      2.233      2.548      1.844         47        640:  43%|████▎     | 63/146 [00:34<00:45,  1.82it/s]"
     ]
    },
    {
     "name": "stderr",
     "output_type": "stream",
     "text": [
      "\r",
      "      2/100      6.89G      2.233      2.548      1.844         47        640:  44%|████▍     | 64/146 [00:34<00:44,  1.84it/s]"
     ]
    },
    {
     "name": "stderr",
     "output_type": "stream",
     "text": [
      "\r",
      "      2/100      6.89G      2.231      2.548      1.844         52        640:  44%|████▍     | 64/146 [00:34<00:44,  1.84it/s]"
     ]
    },
    {
     "name": "stderr",
     "output_type": "stream",
     "text": [
      "\r",
      "      2/100      6.89G      2.231      2.548      1.844         52        640:  45%|████▍     | 65/146 [00:34<00:44,  1.82it/s]"
     ]
    },
    {
     "name": "stderr",
     "output_type": "stream",
     "text": [
      "\r",
      "      2/100      6.89G      2.233      2.546      1.844         45        640:  45%|████▍     | 65/146 [00:35<00:44,  1.82it/s]"
     ]
    },
    {
     "name": "stderr",
     "output_type": "stream",
     "text": [
      "\r",
      "      2/100      6.89G      2.233      2.546      1.844         45        640:  45%|████▌     | 66/146 [00:35<00:43,  1.84it/s]"
     ]
    },
    {
     "name": "stderr",
     "output_type": "stream",
     "text": [
      "\r",
      "      2/100      6.89G      2.235      2.542      1.844         59        640:  45%|████▌     | 66/146 [00:35<00:43,  1.84it/s]"
     ]
    },
    {
     "name": "stderr",
     "output_type": "stream",
     "text": [
      "\r",
      "      2/100      6.89G      2.235      2.542      1.844         59        640:  46%|████▌     | 67/146 [00:35<00:43,  1.81it/s]"
     ]
    },
    {
     "name": "stderr",
     "output_type": "stream",
     "text": [
      "\r",
      "      2/100      6.89G      2.236      2.548      1.844         62        640:  46%|████▌     | 67/146 [00:36<00:43,  1.81it/s]"
     ]
    },
    {
     "name": "stderr",
     "output_type": "stream",
     "text": [
      "\r",
      "      2/100      6.89G      2.236      2.548      1.844         62        640:  47%|████▋     | 68/146 [00:36<00:42,  1.82it/s]"
     ]
    },
    {
     "name": "stderr",
     "output_type": "stream",
     "text": [
      "\r",
      "      2/100      6.89G      2.236      2.555      1.846         40        640:  47%|████▋     | 68/146 [00:36<00:42,  1.82it/s]"
     ]
    },
    {
     "name": "stderr",
     "output_type": "stream",
     "text": [
      "\r",
      "      2/100      6.89G      2.236      2.555      1.846         40        640:  47%|████▋     | 69/146 [00:36<00:42,  1.80it/s]"
     ]
    },
    {
     "name": "stderr",
     "output_type": "stream",
     "text": [
      "\r",
      "      2/100      6.89G      2.234      2.556      1.846         42        640:  47%|████▋     | 69/146 [00:37<00:42,  1.80it/s]"
     ]
    },
    {
     "name": "stderr",
     "output_type": "stream",
     "text": [
      "\r",
      "      2/100      6.89G      2.234      2.556      1.846         42        640:  48%|████▊     | 70/146 [00:37<00:41,  1.82it/s]"
     ]
    },
    {
     "name": "stderr",
     "output_type": "stream",
     "text": [
      "\r",
      "      2/100      6.89G      2.233      2.558      1.846         42        640:  48%|████▊     | 70/146 [00:37<00:41,  1.82it/s]"
     ]
    },
    {
     "name": "stderr",
     "output_type": "stream",
     "text": [
      "\r",
      "      2/100      6.89G      2.233      2.558      1.846         42        640:  49%|████▊     | 71/146 [00:37<00:41,  1.80it/s]"
     ]
    },
    {
     "name": "stderr",
     "output_type": "stream",
     "text": [
      "\r",
      "      2/100      6.89G      2.237      2.562      1.849         48        640:  49%|████▊     | 71/146 [00:38<00:41,  1.80it/s]"
     ]
    },
    {
     "name": "stderr",
     "output_type": "stream",
     "text": [
      "\r",
      "      2/100      6.89G      2.237      2.562      1.849         48        640:  49%|████▉     | 72/146 [00:38<00:40,  1.82it/s]"
     ]
    },
    {
     "name": "stderr",
     "output_type": "stream",
     "text": [
      "\r",
      "      2/100      6.89G      2.236       2.56      1.848         54        640:  49%|████▉     | 72/146 [00:39<00:40,  1.82it/s]"
     ]
    },
    {
     "name": "stderr",
     "output_type": "stream",
     "text": [
      "\r",
      "      2/100      6.89G      2.236       2.56      1.848         54        640:  50%|█████     | 73/146 [00:39<00:40,  1.80it/s]"
     ]
    },
    {
     "name": "stderr",
     "output_type": "stream",
     "text": [
      "\r",
      "      2/100      6.89G      2.236      2.561      1.847         54        640:  50%|█████     | 73/146 [00:39<00:40,  1.80it/s]"
     ]
    },
    {
     "name": "stderr",
     "output_type": "stream",
     "text": [
      "\r",
      "      2/100      6.89G      2.236      2.561      1.847         54        640:  51%|█████     | 74/146 [00:39<00:39,  1.82it/s]"
     ]
    },
    {
     "name": "stderr",
     "output_type": "stream",
     "text": [
      "\r",
      "      2/100      6.89G      2.237      2.559      1.847         48        640:  51%|█████     | 74/146 [00:40<00:39,  1.82it/s]"
     ]
    },
    {
     "name": "stderr",
     "output_type": "stream",
     "text": [
      "\r",
      "      2/100      6.89G      2.237      2.559      1.847         48        640:  51%|█████▏    | 75/146 [00:40<00:39,  1.82it/s]"
     ]
    },
    {
     "name": "stderr",
     "output_type": "stream",
     "text": [
      "\r",
      "      2/100      6.89G      2.237      2.558      1.847         82        640:  51%|█████▏    | 75/146 [00:40<00:39,  1.82it/s]"
     ]
    },
    {
     "name": "stderr",
     "output_type": "stream",
     "text": [
      "\r",
      "      2/100      6.89G      2.237      2.558      1.847         82        640:  52%|█████▏    | 76/146 [00:40<00:38,  1.80it/s]"
     ]
    },
    {
     "name": "stderr",
     "output_type": "stream",
     "text": [
      "\r",
      "      2/100      6.89G      2.234      2.556      1.846         45        640:  52%|█████▏    | 76/146 [00:41<00:38,  1.80it/s]"
     ]
    },
    {
     "name": "stderr",
     "output_type": "stream",
     "text": [
      "\r",
      "      2/100      6.89G      2.234      2.556      1.846         45        640:  53%|█████▎    | 77/146 [00:41<00:37,  1.82it/s]"
     ]
    },
    {
     "name": "stderr",
     "output_type": "stream",
     "text": [
      "\r",
      "      2/100      6.89G      2.236      2.555      1.846         48        640:  53%|█████▎    | 77/146 [00:41<00:37,  1.82it/s]"
     ]
    },
    {
     "name": "stderr",
     "output_type": "stream",
     "text": [
      "\r",
      "      2/100      6.89G      2.236      2.555      1.846         48        640:  53%|█████▎    | 78/146 [00:41<00:37,  1.82it/s]"
     ]
    },
    {
     "name": "stderr",
     "output_type": "stream",
     "text": [
      "\r",
      "      2/100      6.89G      2.235      2.554      1.847         46        640:  53%|█████▎    | 78/146 [00:42<00:37,  1.82it/s]"
     ]
    },
    {
     "name": "stderr",
     "output_type": "stream",
     "text": [
      "\r",
      "      2/100      6.89G      2.235      2.554      1.847         46        640:  54%|█████▍    | 79/146 [00:42<00:37,  1.79it/s]"
     ]
    },
    {
     "name": "stderr",
     "output_type": "stream",
     "text": [
      "\r",
      "      2/100      6.89G      2.237      2.551      1.849         65        640:  54%|█████▍    | 79/146 [00:42<00:37,  1.79it/s]"
     ]
    },
    {
     "name": "stderr",
     "output_type": "stream",
     "text": [
      "\r",
      "      2/100      6.89G      2.237      2.551      1.849         65        640:  55%|█████▍    | 80/146 [00:42<00:36,  1.81it/s]"
     ]
    },
    {
     "name": "stderr",
     "output_type": "stream",
     "text": [
      "\r",
      "      2/100      6.89G       2.24      2.553      1.851         57        640:  55%|█████▍    | 80/146 [00:43<00:36,  1.81it/s]"
     ]
    },
    {
     "name": "stderr",
     "output_type": "stream",
     "text": [
      "\r",
      "      2/100      6.89G       2.24      2.553      1.851         57        640:  55%|█████▌    | 81/146 [00:43<00:35,  1.81it/s]"
     ]
    },
    {
     "name": "stderr",
     "output_type": "stream",
     "text": [
      "\r",
      "      2/100      6.89G      2.241      2.555      1.855         37        640:  55%|█████▌    | 81/146 [00:44<00:35,  1.81it/s]"
     ]
    },
    {
     "name": "stderr",
     "output_type": "stream",
     "text": [
      "\r",
      "      2/100      6.89G      2.241      2.555      1.855         37        640:  56%|█████▌    | 82/146 [00:44<00:35,  1.79it/s]"
     ]
    },
    {
     "name": "stderr",
     "output_type": "stream",
     "text": [
      "\r",
      "      2/100      6.89G      2.243      2.554      1.857         52        640:  56%|█████▌    | 82/146 [00:44<00:35,  1.79it/s]"
     ]
    },
    {
     "name": "stderr",
     "output_type": "stream",
     "text": [
      "\r",
      "      2/100      6.89G      2.243      2.554      1.857         52        640:  57%|█████▋    | 83/146 [00:44<00:34,  1.81it/s]"
     ]
    },
    {
     "name": "stderr",
     "output_type": "stream",
     "text": [
      "\r",
      "      2/100      6.89G       2.24      2.553      1.855         57        640:  57%|█████▋    | 83/146 [00:45<00:34,  1.81it/s]"
     ]
    },
    {
     "name": "stderr",
     "output_type": "stream",
     "text": [
      "\r",
      "      2/100      6.89G       2.24      2.553      1.855         57        640:  58%|█████▊    | 84/146 [00:45<00:34,  1.81it/s]"
     ]
    },
    {
     "name": "stderr",
     "output_type": "stream",
     "text": [
      "\r",
      "      2/100      6.89G       2.24      2.555      1.854         41        640:  58%|█████▊    | 84/146 [00:45<00:34,  1.81it/s]"
     ]
    },
    {
     "name": "stderr",
     "output_type": "stream",
     "text": [
      "\r",
      "      2/100      6.89G       2.24      2.555      1.854         41        640:  58%|█████▊    | 85/146 [00:45<00:34,  1.79it/s]"
     ]
    },
    {
     "name": "stderr",
     "output_type": "stream",
     "text": [
      "\r",
      "      2/100      6.89G       2.24      2.557      1.856         32        640:  58%|█████▊    | 85/146 [00:46<00:34,  1.79it/s]"
     ]
    },
    {
     "name": "stderr",
     "output_type": "stream",
     "text": [
      "\r",
      "      2/100      6.89G       2.24      2.557      1.856         32        640:  59%|█████▉    | 86/146 [00:46<00:33,  1.80it/s]"
     ]
    },
    {
     "name": "stderr",
     "output_type": "stream",
     "text": [
      "\r",
      "      2/100      6.89G       2.24      2.557      1.855         37        640:  59%|█████▉    | 86/146 [00:46<00:33,  1.80it/s]"
     ]
    },
    {
     "name": "stderr",
     "output_type": "stream",
     "text": [
      "\r",
      "      2/100      6.89G       2.24      2.557      1.855         37        640:  60%|█████▉    | 87/146 [00:46<00:32,  1.81it/s]"
     ]
    },
    {
     "name": "stderr",
     "output_type": "stream",
     "text": [
      "\r",
      "      2/100      6.89G      2.242      2.557      1.856         59        640:  60%|█████▉    | 87/146 [00:47<00:32,  1.81it/s]"
     ]
    },
    {
     "name": "stderr",
     "output_type": "stream",
     "text": [
      "\r",
      "      2/100      6.89G      2.242      2.557      1.856         59        640:  60%|██████    | 88/146 [00:47<00:32,  1.78it/s]"
     ]
    },
    {
     "name": "stderr",
     "output_type": "stream",
     "text": [
      "\r",
      "      2/100      6.89G      2.243      2.556      1.855         56        640:  60%|██████    | 88/146 [00:47<00:32,  1.78it/s]"
     ]
    },
    {
     "name": "stderr",
     "output_type": "stream",
     "text": [
      "\r",
      "      2/100      6.89G      2.243      2.556      1.855         56        640:  61%|██████    | 89/146 [00:47<00:31,  1.80it/s]"
     ]
    },
    {
     "name": "stderr",
     "output_type": "stream",
     "text": [
      "\r",
      "      2/100      6.89G      2.242      2.556      1.853         43        640:  61%|██████    | 89/146 [00:48<00:31,  1.80it/s]"
     ]
    },
    {
     "name": "stderr",
     "output_type": "stream",
     "text": [
      "\r",
      "      2/100      6.89G      2.242      2.556      1.853         43        640:  62%|██████▏   | 90/146 [00:48<00:30,  1.81it/s]"
     ]
    },
    {
     "name": "stderr",
     "output_type": "stream",
     "text": [
      "\r",
      "      2/100      6.89G      2.242      2.561      1.855         33        640:  62%|██████▏   | 90/146 [00:49<00:30,  1.81it/s]"
     ]
    },
    {
     "name": "stderr",
     "output_type": "stream",
     "text": [
      "\r",
      "      2/100      6.89G      2.242      2.561      1.855         33        640:  62%|██████▏   | 91/146 [00:49<00:30,  1.79it/s]"
     ]
    },
    {
     "name": "stderr",
     "output_type": "stream",
     "text": [
      "\r",
      "      2/100      6.89G      2.244      2.562      1.855         46        640:  62%|██████▏   | 91/146 [00:49<00:30,  1.79it/s]"
     ]
    },
    {
     "name": "stderr",
     "output_type": "stream",
     "text": [
      "\r",
      "      2/100      6.89G      2.244      2.562      1.855         46        640:  63%|██████▎   | 92/146 [00:49<00:29,  1.81it/s]"
     ]
    },
    {
     "name": "stderr",
     "output_type": "stream",
     "text": [
      "\r",
      "      2/100      6.89G      2.245      2.564      1.858         42        640:  63%|██████▎   | 92/146 [00:50<00:29,  1.81it/s]"
     ]
    },
    {
     "name": "stderr",
     "output_type": "stream",
     "text": [
      "\r",
      "      2/100      6.89G      2.245      2.564      1.858         42        640:  64%|██████▎   | 93/146 [00:50<00:29,  1.81it/s]"
     ]
    },
    {
     "name": "stderr",
     "output_type": "stream",
     "text": [
      "\r",
      "      2/100      6.89G      2.245      2.566      1.858         35        640:  64%|██████▎   | 93/146 [00:50<00:29,  1.81it/s]"
     ]
    },
    {
     "name": "stderr",
     "output_type": "stream",
     "text": [
      "\r",
      "      2/100      6.89G      2.245      2.566      1.858         35        640:  64%|██████▍   | 94/146 [00:50<00:28,  1.79it/s]"
     ]
    },
    {
     "name": "stderr",
     "output_type": "stream",
     "text": [
      "\r",
      "      2/100      6.89G      2.244      2.569      1.859         41        640:  64%|██████▍   | 94/146 [00:51<00:28,  1.79it/s]"
     ]
    },
    {
     "name": "stderr",
     "output_type": "stream",
     "text": [
      "\r",
      "      2/100      6.89G      2.244      2.569      1.859         41        640:  65%|██████▌   | 95/146 [00:51<00:28,  1.81it/s]"
     ]
    },
    {
     "name": "stderr",
     "output_type": "stream",
     "text": [
      "\r",
      "      2/100      6.89G      2.243      2.569       1.86         41        640:  65%|██████▌   | 95/146 [00:51<00:28,  1.81it/s]"
     ]
    },
    {
     "name": "stderr",
     "output_type": "stream",
     "text": [
      "\r",
      "      2/100      6.89G      2.243      2.569       1.86         41        640:  66%|██████▌   | 96/146 [00:51<00:27,  1.83it/s]"
     ]
    },
    {
     "name": "stderr",
     "output_type": "stream",
     "text": [
      "\r",
      "      2/100      6.89G      2.244      2.568       1.86         55        640:  66%|██████▌   | 96/146 [00:52<00:27,  1.83it/s]"
     ]
    },
    {
     "name": "stderr",
     "output_type": "stream",
     "text": [
      "\r",
      "      2/100      6.89G      2.244      2.568       1.86         55        640:  66%|██████▋   | 97/146 [00:52<00:27,  1.80it/s]"
     ]
    },
    {
     "name": "stderr",
     "output_type": "stream",
     "text": [
      "\r",
      "      2/100      6.89G      2.244      2.569       1.86         49        640:  66%|██████▋   | 97/146 [00:52<00:27,  1.80it/s]"
     ]
    },
    {
     "name": "stderr",
     "output_type": "stream",
     "text": [
      "\r",
      "      2/100      6.89G      2.244      2.569       1.86         49        640:  67%|██████▋   | 98/146 [00:52<00:26,  1.82it/s]"
     ]
    },
    {
     "name": "stderr",
     "output_type": "stream",
     "text": [
      "\r",
      "      2/100      6.89G      2.246      2.566      1.862         38        640:  67%|██████▋   | 98/146 [00:53<00:26,  1.82it/s]"
     ]
    },
    {
     "name": "stderr",
     "output_type": "stream",
     "text": [
      "\r",
      "      2/100      6.89G      2.246      2.566      1.862         38        640:  68%|██████▊   | 99/146 [00:53<00:25,  1.83it/s]"
     ]
    },
    {
     "name": "stderr",
     "output_type": "stream",
     "text": [
      "\r",
      "      2/100      6.89G      2.247      2.565      1.863         57        640:  68%|██████▊   | 99/146 [00:54<00:25,  1.83it/s]"
     ]
    },
    {
     "name": "stderr",
     "output_type": "stream",
     "text": [
      "\r",
      "      2/100      6.89G      2.247      2.565      1.863         57        640:  68%|██████▊   | 100/146 [00:54<00:25,  1.81it/s]"
     ]
    },
    {
     "name": "stderr",
     "output_type": "stream",
     "text": [
      "\r",
      "      2/100      6.89G      2.243      2.568      1.861         21        640:  68%|██████▊   | 100/146 [00:54<00:25,  1.81it/s]"
     ]
    },
    {
     "name": "stderr",
     "output_type": "stream",
     "text": [
      "\r",
      "      2/100      6.89G      2.243      2.568      1.861         21        640:  69%|██████▉   | 101/146 [00:54<00:24,  1.83it/s]"
     ]
    },
    {
     "name": "stderr",
     "output_type": "stream",
     "text": [
      "\r",
      "      2/100      6.89G      2.243      2.566      1.861         34        640:  69%|██████▉   | 101/146 [00:55<00:24,  1.83it/s]"
     ]
    },
    {
     "name": "stderr",
     "output_type": "stream",
     "text": [
      "\r",
      "      2/100      6.89G      2.243      2.566      1.861         34        640:  70%|██████▉   | 102/146 [00:55<00:23,  1.84it/s]"
     ]
    },
    {
     "name": "stderr",
     "output_type": "stream",
     "text": [
      "\r",
      "      2/100      6.89G      2.243      2.567      1.862         61        640:  70%|██████▉   | 102/146 [00:55<00:23,  1.84it/s]"
     ]
    },
    {
     "name": "stderr",
     "output_type": "stream",
     "text": [
      "\r",
      "      2/100      6.89G      2.243      2.567      1.862         61        640:  71%|███████   | 103/146 [00:55<00:23,  1.82it/s]"
     ]
    },
    {
     "name": "stderr",
     "output_type": "stream",
     "text": [
      "\r",
      "      2/100      6.89G      2.247      2.568      1.863         49        640:  71%|███████   | 103/146 [00:56<00:23,  1.82it/s]"
     ]
    },
    {
     "name": "stderr",
     "output_type": "stream",
     "text": [
      "\r",
      "      2/100      6.89G      2.247      2.568      1.863         49        640:  71%|███████   | 104/146 [00:56<00:22,  1.84it/s]"
     ]
    },
    {
     "name": "stderr",
     "output_type": "stream",
     "text": [
      "\r",
      "      2/100      6.89G      2.246      2.566      1.863         41        640:  71%|███████   | 104/146 [00:56<00:22,  1.84it/s]"
     ]
    },
    {
     "name": "stderr",
     "output_type": "stream",
     "text": [
      "\r",
      "      2/100      6.89G      2.246      2.566      1.863         41        640:  72%|███████▏  | 105/146 [00:56<00:22,  1.85it/s]"
     ]
    },
    {
     "name": "stderr",
     "output_type": "stream",
     "text": [
      "\r",
      "      2/100      6.89G      2.248      2.569      1.865         37        640:  72%|███████▏  | 105/146 [00:57<00:22,  1.85it/s]"
     ]
    },
    {
     "name": "stderr",
     "output_type": "stream",
     "text": [
      "\r",
      "      2/100      6.89G      2.248      2.569      1.865         37        640:  73%|███████▎  | 106/146 [00:57<00:21,  1.83it/s]"
     ]
    },
    {
     "name": "stderr",
     "output_type": "stream",
     "text": [
      "\r",
      "      2/100      6.89G      2.249      2.571      1.866         46        640:  73%|███████▎  | 106/146 [00:57<00:21,  1.83it/s]"
     ]
    },
    {
     "name": "stderr",
     "output_type": "stream",
     "text": [
      "\r",
      "      2/100      6.89G      2.249      2.571      1.866         46        640:  73%|███████▎  | 107/146 [00:57<00:21,  1.85it/s]"
     ]
    },
    {
     "name": "stderr",
     "output_type": "stream",
     "text": [
      "\r",
      "      2/100      6.89G      2.246       2.57      1.863         56        640:  73%|███████▎  | 107/146 [00:58<00:21,  1.85it/s]"
     ]
    },
    {
     "name": "stderr",
     "output_type": "stream",
     "text": [
      "\r",
      "      2/100      6.89G      2.246       2.57      1.863         56        640:  74%|███████▍  | 108/146 [00:58<00:20,  1.86it/s]"
     ]
    },
    {
     "name": "stderr",
     "output_type": "stream",
     "text": [
      "\r",
      "      2/100      6.89G      2.247      2.568      1.862         63        640:  74%|███████▍  | 108/146 [00:58<00:20,  1.86it/s]"
     ]
    },
    {
     "name": "stderr",
     "output_type": "stream",
     "text": [
      "\r",
      "      2/100      6.89G      2.247      2.568      1.862         63        640:  75%|███████▍  | 109/146 [00:58<00:20,  1.84it/s]"
     ]
    },
    {
     "name": "stderr",
     "output_type": "stream",
     "text": [
      "\r",
      "      2/100      6.89G      2.248      2.567      1.862         38        640:  75%|███████▍  | 109/146 [00:59<00:20,  1.84it/s]"
     ]
    },
    {
     "name": "stderr",
     "output_type": "stream",
     "text": [
      "\r",
      "      2/100      6.89G      2.248      2.567      1.862         38        640:  75%|███████▌  | 110/146 [00:59<00:19,  1.86it/s]"
     ]
    },
    {
     "name": "stderr",
     "output_type": "stream",
     "text": [
      "\r",
      "      2/100      6.89G      2.248      2.566      1.862         58        640:  75%|███████▌  | 110/146 [00:59<00:19,  1.86it/s]"
     ]
    },
    {
     "name": "stderr",
     "output_type": "stream",
     "text": [
      "\r",
      "      2/100      6.89G      2.248      2.566      1.862         58        640:  76%|███████▌  | 111/146 [00:59<00:18,  1.87it/s]"
     ]
    },
    {
     "name": "stderr",
     "output_type": "stream",
     "text": [
      "\r",
      "      2/100      6.89G      2.249      2.566      1.861         40        640:  76%|███████▌  | 111/146 [01:00<00:18,  1.87it/s]"
     ]
    },
    {
     "name": "stderr",
     "output_type": "stream",
     "text": [
      "\r",
      "      2/100      6.89G      2.249      2.566      1.861         40        640:  77%|███████▋  | 112/146 [01:00<00:18,  1.85it/s]"
     ]
    },
    {
     "name": "stderr",
     "output_type": "stream",
     "text": [
      "\r",
      "      2/100      6.89G       2.25      2.565       1.86         40        640:  77%|███████▋  | 112/146 [01:01<00:18,  1.85it/s]"
     ]
    },
    {
     "name": "stderr",
     "output_type": "stream",
     "text": [
      "\r",
      "      2/100      6.89G       2.25      2.565       1.86         40        640:  77%|███████▋  | 113/146 [01:01<00:17,  1.87it/s]"
     ]
    },
    {
     "name": "stderr",
     "output_type": "stream",
     "text": [
      "\r",
      "      2/100      6.89G      2.251      2.562      1.861         34        640:  77%|███████▋  | 113/146 [01:01<00:17,  1.87it/s]"
     ]
    },
    {
     "name": "stderr",
     "output_type": "stream",
     "text": [
      "\r",
      "      2/100      6.89G      2.251      2.562      1.861         34        640:  78%|███████▊  | 114/146 [01:01<00:17,  1.88it/s]"
     ]
    },
    {
     "name": "stderr",
     "output_type": "stream",
     "text": [
      "\r",
      "      2/100      6.89G      2.252      2.563      1.863         25        640:  78%|███████▊  | 114/146 [01:02<00:17,  1.88it/s]"
     ]
    },
    {
     "name": "stderr",
     "output_type": "stream",
     "text": [
      "\r",
      "      2/100      6.89G      2.252      2.563      1.863         25        640:  79%|███████▉  | 115/146 [01:02<00:16,  1.86it/s]"
     ]
    },
    {
     "name": "stderr",
     "output_type": "stream",
     "text": [
      "\r",
      "      2/100      6.89G      2.251       2.56      1.861         52        640:  79%|███████▉  | 115/146 [01:02<00:16,  1.86it/s]"
     ]
    },
    {
     "name": "stderr",
     "output_type": "stream",
     "text": [
      "\r",
      "      2/100      6.89G      2.251       2.56      1.861         52        640:  79%|███████▉  | 116/146 [01:02<00:15,  1.88it/s]"
     ]
    },
    {
     "name": "stderr",
     "output_type": "stream",
     "text": [
      "\r",
      "      2/100      6.89G      2.253       2.56      1.862         53        640:  79%|███████▉  | 116/146 [01:03<00:15,  1.88it/s]"
     ]
    },
    {
     "name": "stderr",
     "output_type": "stream",
     "text": [
      "\r",
      "      2/100      6.89G      2.253       2.56      1.862         53        640:  80%|████████  | 117/146 [01:03<00:15,  1.88it/s]"
     ]
    },
    {
     "name": "stderr",
     "output_type": "stream",
     "text": [
      "\r",
      "      2/100      6.89G      2.254       2.56      1.861         51        640:  80%|████████  | 117/146 [01:03<00:15,  1.88it/s]"
     ]
    },
    {
     "name": "stderr",
     "output_type": "stream",
     "text": [
      "\r",
      "      2/100      6.89G      2.254       2.56      1.861         51        640:  81%|████████  | 118/146 [01:03<00:15,  1.86it/s]"
     ]
    },
    {
     "name": "stderr",
     "output_type": "stream",
     "text": [
      "\r",
      "      2/100      6.89G      2.253      2.558      1.861         50        640:  81%|████████  | 118/146 [01:04<00:15,  1.86it/s]"
     ]
    },
    {
     "name": "stderr",
     "output_type": "stream",
     "text": [
      "\r",
      "      2/100      6.89G      2.253      2.558      1.861         50        640:  82%|████████▏ | 119/146 [01:04<00:14,  1.88it/s]"
     ]
    },
    {
     "name": "stderr",
     "output_type": "stream",
     "text": [
      "\r",
      "      2/100      6.89G      2.253      2.554       1.86         63        640:  82%|████████▏ | 119/146 [01:04<00:14,  1.88it/s]"
     ]
    },
    {
     "name": "stderr",
     "output_type": "stream",
     "text": [
      "\r",
      "      2/100      6.89G      2.253      2.554       1.86         63        640:  82%|████████▏ | 120/146 [01:04<00:13,  1.88it/s]"
     ]
    },
    {
     "name": "stderr",
     "output_type": "stream",
     "text": [
      "\r",
      "      2/100      6.89G      2.252      2.553      1.859         50        640:  82%|████████▏ | 120/146 [01:05<00:13,  1.88it/s]"
     ]
    },
    {
     "name": "stderr",
     "output_type": "stream",
     "text": [
      "\r",
      "      2/100      6.89G      2.252      2.553      1.859         50        640:  83%|████████▎ | 121/146 [01:05<00:13,  1.86it/s]"
     ]
    },
    {
     "name": "stderr",
     "output_type": "stream",
     "text": [
      "\r",
      "      2/100      6.89G      2.252      2.552      1.859         55        640:  83%|████████▎ | 121/146 [01:05<00:13,  1.86it/s]"
     ]
    },
    {
     "name": "stderr",
     "output_type": "stream",
     "text": [
      "\r",
      "      2/100      6.89G      2.252      2.552      1.859         55        640:  84%|████████▎ | 122/146 [01:05<00:12,  1.88it/s]"
     ]
    },
    {
     "name": "stderr",
     "output_type": "stream",
     "text": [
      "\r",
      "      2/100      6.89G      2.251      2.553      1.858         46        640:  84%|████████▎ | 122/146 [01:06<00:12,  1.88it/s]"
     ]
    },
    {
     "name": "stderr",
     "output_type": "stream",
     "text": [
      "\r",
      "      2/100      6.89G      2.251      2.553      1.858         46        640:  84%|████████▍ | 123/146 [01:06<00:12,  1.89it/s]"
     ]
    },
    {
     "name": "stderr",
     "output_type": "stream",
     "text": [
      "\r",
      "      2/100      6.89G      2.249       2.55      1.857         54        640:  84%|████████▍ | 123/146 [01:06<00:12,  1.89it/s]"
     ]
    },
    {
     "name": "stderr",
     "output_type": "stream",
     "text": [
      "\r",
      "      2/100      6.89G      2.249       2.55      1.857         54        640:  85%|████████▍ | 124/146 [01:06<00:11,  1.86it/s]"
     ]
    },
    {
     "name": "stderr",
     "output_type": "stream",
     "text": [
      "\r",
      "      2/100      6.89G       2.25       2.55      1.857         46        640:  85%|████████▍ | 124/146 [01:07<00:11,  1.86it/s]"
     ]
    },
    {
     "name": "stderr",
     "output_type": "stream",
     "text": [
      "\r",
      "      2/100      6.89G       2.25       2.55      1.857         46        640:  86%|████████▌ | 125/146 [01:07<00:11,  1.88it/s]"
     ]
    },
    {
     "name": "stderr",
     "output_type": "stream",
     "text": [
      "\r",
      "      2/100      6.89G      2.249      2.549      1.857         34        640:  86%|████████▌ | 125/146 [01:07<00:11,  1.88it/s]"
     ]
    },
    {
     "name": "stderr",
     "output_type": "stream",
     "text": [
      "\r",
      "      2/100      6.89G      2.249      2.549      1.857         34        640:  86%|████████▋ | 126/146 [01:07<00:10,  1.89it/s]"
     ]
    },
    {
     "name": "stderr",
     "output_type": "stream",
     "text": [
      "\r",
      "      2/100      6.89G      2.247      2.546      1.855         60        640:  86%|████████▋ | 126/146 [01:08<00:10,  1.89it/s]"
     ]
    },
    {
     "name": "stderr",
     "output_type": "stream",
     "text": [
      "\r",
      "      2/100      6.89G      2.247      2.546      1.855         60        640:  87%|████████▋ | 127/146 [01:08<00:10,  1.86it/s]"
     ]
    },
    {
     "name": "stderr",
     "output_type": "stream",
     "text": [
      "\r",
      "      2/100      6.89G      2.246      2.545      1.855         44        640:  87%|████████▋ | 127/146 [01:08<00:10,  1.86it/s]"
     ]
    },
    {
     "name": "stderr",
     "output_type": "stream",
     "text": [
      "\r",
      "      2/100      6.89G      2.246      2.545      1.855         44        640:  88%|████████▊ | 128/146 [01:09<00:09,  1.88it/s]"
     ]
    },
    {
     "name": "stderr",
     "output_type": "stream",
     "text": [
      "\r",
      "      2/100      6.89G      2.246      2.543      1.854         63        640:  88%|████████▊ | 128/146 [01:09<00:09,  1.88it/s]"
     ]
    },
    {
     "name": "stderr",
     "output_type": "stream",
     "text": [
      "\r",
      "      2/100      6.89G      2.246      2.543      1.854         63        640:  88%|████████▊ | 129/146 [01:09<00:08,  1.89it/s]"
     ]
    },
    {
     "name": "stderr",
     "output_type": "stream",
     "text": [
      "\r",
      "      2/100      6.89G      2.247      2.543      1.854         55        640:  88%|████████▊ | 129/146 [01:10<00:08,  1.89it/s]"
     ]
    },
    {
     "name": "stderr",
     "output_type": "stream",
     "text": [
      "\r",
      "      2/100      6.89G      2.247      2.543      1.854         55        640:  89%|████████▉ | 130/146 [01:10<00:08,  1.87it/s]"
     ]
    },
    {
     "name": "stderr",
     "output_type": "stream",
     "text": [
      "\r",
      "      2/100      6.89G      2.246      2.544      1.855         53        640:  89%|████████▉ | 130/146 [01:10<00:08,  1.87it/s]"
     ]
    },
    {
     "name": "stderr",
     "output_type": "stream",
     "text": [
      "\r",
      "      2/100      6.89G      2.246      2.544      1.855         53        640:  90%|████████▉ | 131/146 [01:10<00:07,  1.88it/s]"
     ]
    },
    {
     "name": "stderr",
     "output_type": "stream",
     "text": [
      "\r",
      "      2/100      6.89G      2.247      2.544      1.855         56        640:  90%|████████▉ | 131/146 [01:11<00:07,  1.88it/s]"
     ]
    },
    {
     "name": "stderr",
     "output_type": "stream",
     "text": [
      "\r",
      "      2/100      6.89G      2.247      2.544      1.855         56        640:  90%|█████████ | 132/146 [01:11<00:07,  1.89it/s]"
     ]
    },
    {
     "name": "stderr",
     "output_type": "stream",
     "text": [
      "\r",
      "      2/100      6.89G      2.247      2.544      1.855         49        640:  90%|█████████ | 132/146 [01:11<00:07,  1.89it/s]"
     ]
    },
    {
     "name": "stderr",
     "output_type": "stream",
     "text": [
      "\r",
      "      2/100      6.89G      2.247      2.544      1.855         49        640:  91%|█████████ | 133/146 [01:11<00:06,  1.86it/s]"
     ]
    },
    {
     "name": "stderr",
     "output_type": "stream",
     "text": [
      "\r",
      "      2/100      6.89G      2.249      2.543      1.855         37        640:  91%|█████████ | 133/146 [01:12<00:06,  1.86it/s]"
     ]
    },
    {
     "name": "stderr",
     "output_type": "stream",
     "text": [
      "\r",
      "      2/100      6.89G      2.249      2.543      1.855         37        640:  92%|█████████▏| 134/146 [01:12<00:06,  1.88it/s]"
     ]
    },
    {
     "name": "stderr",
     "output_type": "stream",
     "text": [
      "\r",
      "      2/100      6.89G      2.252      2.546      1.857         33        640:  92%|█████████▏| 134/146 [01:12<00:06,  1.88it/s]"
     ]
    },
    {
     "name": "stderr",
     "output_type": "stream",
     "text": [
      "\r",
      "      2/100      6.89G      2.252      2.546      1.857         33        640:  92%|█████████▏| 135/146 [01:12<00:05,  1.89it/s]"
     ]
    },
    {
     "name": "stderr",
     "output_type": "stream",
     "text": [
      "\r",
      "      2/100      6.89G      2.253      2.544      1.857         53        640:  92%|█████████▏| 135/146 [01:13<00:05,  1.89it/s]"
     ]
    },
    {
     "name": "stderr",
     "output_type": "stream",
     "text": [
      "\r",
      "      2/100      6.89G      2.253      2.544      1.857         53        640:  93%|█████████▎| 136/146 [01:13<00:05,  1.87it/s]"
     ]
    },
    {
     "name": "stderr",
     "output_type": "stream",
     "text": [
      "\r",
      "      2/100      6.89G      2.252      2.541      1.856         47        640:  93%|█████████▎| 136/146 [01:13<00:05,  1.87it/s]"
     ]
    },
    {
     "name": "stderr",
     "output_type": "stream",
     "text": [
      "\r",
      "      2/100      6.89G      2.252      2.541      1.856         47        640:  94%|█████████▍| 137/146 [01:13<00:04,  1.89it/s]"
     ]
    },
    {
     "name": "stderr",
     "output_type": "stream",
     "text": [
      "\r",
      "      2/100      6.89G      2.251      2.539      1.857         44        640:  94%|█████████▍| 137/146 [01:14<00:04,  1.89it/s]"
     ]
    },
    {
     "name": "stderr",
     "output_type": "stream",
     "text": [
      "\r",
      "      2/100      6.89G      2.251      2.539      1.857         44        640:  95%|█████████▍| 138/146 [01:14<00:04,  1.90it/s]"
     ]
    },
    {
     "name": "stderr",
     "output_type": "stream",
     "text": [
      "\r",
      "      2/100      6.89G      2.251      2.541      1.856         51        640:  95%|█████████▍| 138/146 [01:14<00:04,  1.90it/s]"
     ]
    },
    {
     "name": "stderr",
     "output_type": "stream",
     "text": [
      "\r",
      "      2/100      6.89G      2.251      2.541      1.856         51        640:  95%|█████████▌| 139/146 [01:14<00:03,  1.88it/s]"
     ]
    },
    {
     "name": "stderr",
     "output_type": "stream",
     "text": [
      "\r",
      "      2/100      6.89G       2.25      2.539      1.856         56        640:  95%|█████████▌| 139/146 [01:15<00:03,  1.88it/s]"
     ]
    },
    {
     "name": "stderr",
     "output_type": "stream",
     "text": [
      "\r",
      "      2/100      6.89G       2.25      2.539      1.856         56        640:  96%|█████████▌| 140/146 [01:15<00:03,  1.89it/s]"
     ]
    },
    {
     "name": "stderr",
     "output_type": "stream",
     "text": [
      "\r",
      "      2/100      6.89G      2.249      2.537      1.854         52        640:  96%|█████████▌| 140/146 [01:15<00:03,  1.89it/s]"
     ]
    },
    {
     "name": "stderr",
     "output_type": "stream",
     "text": [
      "\r",
      "      2/100      6.89G      2.249      2.537      1.854         52        640:  97%|█████████▋| 141/146 [01:15<00:02,  1.90it/s]"
     ]
    },
    {
     "name": "stderr",
     "output_type": "stream",
     "text": [
      "\r",
      "      2/100      6.89G      2.248      2.538      1.854         37        640:  97%|█████████▋| 141/146 [01:16<00:02,  1.90it/s]"
     ]
    },
    {
     "name": "stderr",
     "output_type": "stream",
     "text": [
      "\r",
      "      2/100      6.89G      2.248      2.538      1.854         37        640:  97%|█████████▋| 142/146 [01:16<00:02,  1.87it/s]"
     ]
    },
    {
     "name": "stderr",
     "output_type": "stream",
     "text": [
      "\r",
      "      2/100      6.89G      2.249      2.536      1.854         69        640:  97%|█████████▋| 142/146 [01:16<00:02,  1.87it/s]"
     ]
    },
    {
     "name": "stderr",
     "output_type": "stream",
     "text": [
      "\r",
      "      2/100      6.89G      2.249      2.536      1.854         69        640:  98%|█████████▊| 143/146 [01:16<00:01,  1.89it/s]"
     ]
    },
    {
     "name": "stderr",
     "output_type": "stream",
     "text": [
      "\r",
      "      2/100      6.89G      2.249      2.535      1.854         59        640:  98%|█████████▊| 143/146 [01:17<00:01,  1.89it/s]"
     ]
    },
    {
     "name": "stderr",
     "output_type": "stream",
     "text": [
      "\r",
      "      2/100      6.89G      2.249      2.535      1.854         59        640:  99%|█████████▊| 144/146 [01:17<00:01,  1.90it/s]"
     ]
    },
    {
     "name": "stderr",
     "output_type": "stream",
     "text": [
      "\r",
      "      2/100      6.89G      2.249      2.534      1.854         35        640:  99%|█████████▊| 144/146 [01:18<00:01,  1.90it/s]"
     ]
    },
    {
     "name": "stderr",
     "output_type": "stream",
     "text": [
      "\r",
      "      2/100      6.89G      2.249      2.534      1.854         35        640:  99%|█████████▉| 145/146 [01:18<00:00,  1.88it/s]"
     ]
    },
    {
     "name": "stderr",
     "output_type": "stream",
     "text": [
      "\r",
      "      2/100      6.89G      2.248      2.534      1.852         22        640:  99%|█████████▉| 145/146 [01:18<00:00,  1.88it/s]"
     ]
    },
    {
     "name": "stderr",
     "output_type": "stream",
     "text": [
      "\r",
      "      2/100      6.89G      2.248      2.534      1.852         22        640: 100%|██████████| 146/146 [01:18<00:00,  2.34it/s]"
     ]
    },
    {
     "name": "stderr",
     "output_type": "stream",
     "text": [
      "\r",
      "      2/100      6.89G      2.248      2.534      1.852         22        640: 100%|██████████| 146/146 [01:18<00:00,  1.87it/s]"
     ]
    },
    {
     "name": "stderr",
     "output_type": "stream",
     "text": [
      "\n"
     ]
    },
    {
     "name": "stderr",
     "output_type": "stream",
     "text": [
      "\r",
      "                 Class     Images  Instances      Box(P          R      mAP50  mAP50-95):   0%|          | 0/21 [00:00<?, ?it/s]"
     ]
    },
    {
     "name": "stderr",
     "output_type": "stream",
     "text": [
      "\r",
      "                 Class     Images  Instances      Box(P          R      mAP50  mAP50-95):   5%|▍         | 1/21 [00:00<00:10,  1.99it/s]"
     ]
    },
    {
     "name": "stderr",
     "output_type": "stream",
     "text": [
      "\r",
      "                 Class     Images  Instances      Box(P          R      mAP50  mAP50-95):  10%|▉         | 2/21 [00:00<00:08,  2.11it/s]"
     ]
    },
    {
     "name": "stderr",
     "output_type": "stream",
     "text": [
      "\r",
      "                 Class     Images  Instances      Box(P          R      mAP50  mAP50-95):  14%|█▍        | 3/21 [00:01<00:08,  2.16it/s]"
     ]
    },
    {
     "name": "stderr",
     "output_type": "stream",
     "text": [
      "\r",
      "                 Class     Images  Instances      Box(P          R      mAP50  mAP50-95):  19%|█▉        | 4/21 [00:01<00:07,  2.15it/s]"
     ]
    },
    {
     "name": "stderr",
     "output_type": "stream",
     "text": [
      "\r",
      "                 Class     Images  Instances      Box(P          R      mAP50  mAP50-95):  24%|██▍       | 5/21 [00:02<00:07,  2.16it/s]"
     ]
    },
    {
     "name": "stderr",
     "output_type": "stream",
     "text": [
      "\r",
      "                 Class     Images  Instances      Box(P          R      mAP50  mAP50-95):  29%|██▊       | 6/21 [00:02<00:06,  2.16it/s]"
     ]
    },
    {
     "name": "stderr",
     "output_type": "stream",
     "text": [
      "\r",
      "                 Class     Images  Instances      Box(P          R      mAP50  mAP50-95):  33%|███▎      | 7/21 [00:03<00:06,  2.16it/s]"
     ]
    },
    {
     "name": "stderr",
     "output_type": "stream",
     "text": [
      "\r",
      "                 Class     Images  Instances      Box(P          R      mAP50  mAP50-95):  38%|███▊      | 8/21 [00:03<00:06,  2.16it/s]"
     ]
    },
    {
     "name": "stderr",
     "output_type": "stream",
     "text": [
      "\r",
      "                 Class     Images  Instances      Box(P          R      mAP50  mAP50-95):  43%|████▎     | 9/21 [00:04<00:05,  2.17it/s]"
     ]
    },
    {
     "name": "stderr",
     "output_type": "stream",
     "text": [
      "\r",
      "                 Class     Images  Instances      Box(P          R      mAP50  mAP50-95):  48%|████▊     | 10/21 [00:04<00:05,  2.16it/s]"
     ]
    },
    {
     "name": "stderr",
     "output_type": "stream",
     "text": [
      "\r",
      "                 Class     Images  Instances      Box(P          R      mAP50  mAP50-95):  52%|█████▏    | 11/21 [00:05<00:04,  2.17it/s]"
     ]
    },
    {
     "name": "stderr",
     "output_type": "stream",
     "text": [
      "\r",
      "                 Class     Images  Instances      Box(P          R      mAP50  mAP50-95):  57%|█████▋    | 12/21 [00:05<00:04,  2.14it/s]"
     ]
    },
    {
     "name": "stderr",
     "output_type": "stream",
     "text": [
      "\r",
      "                 Class     Images  Instances      Box(P          R      mAP50  mAP50-95):  62%|██████▏   | 13/21 [00:06<00:03,  2.15it/s]"
     ]
    },
    {
     "name": "stderr",
     "output_type": "stream",
     "text": [
      "\r",
      "                 Class     Images  Instances      Box(P          R      mAP50  mAP50-95):  67%|██████▋   | 14/21 [00:06<00:03,  2.16it/s]"
     ]
    },
    {
     "name": "stderr",
     "output_type": "stream",
     "text": [
      "\r",
      "                 Class     Images  Instances      Box(P          R      mAP50  mAP50-95):  71%|███████▏  | 15/21 [00:06<00:02,  2.17it/s]"
     ]
    },
    {
     "name": "stderr",
     "output_type": "stream",
     "text": [
      "\r",
      "                 Class     Images  Instances      Box(P          R      mAP50  mAP50-95):  76%|███████▌  | 16/21 [00:07<00:02,  2.18it/s]"
     ]
    },
    {
     "name": "stderr",
     "output_type": "stream",
     "text": [
      "\r",
      "                 Class     Images  Instances      Box(P          R      mAP50  mAP50-95):  81%|████████  | 17/21 [00:07<00:01,  2.18it/s]"
     ]
    },
    {
     "name": "stderr",
     "output_type": "stream",
     "text": [
      "\r",
      "                 Class     Images  Instances      Box(P          R      mAP50  mAP50-95):  86%|████████▌ | 18/21 [00:08<00:01,  2.18it/s]"
     ]
    },
    {
     "name": "stderr",
     "output_type": "stream",
     "text": [
      "\r",
      "                 Class     Images  Instances      Box(P          R      mAP50  mAP50-95):  90%|█████████ | 19/21 [00:08<00:00,  2.18it/s]"
     ]
    },
    {
     "name": "stderr",
     "output_type": "stream",
     "text": [
      "\r",
      "                 Class     Images  Instances      Box(P          R      mAP50  mAP50-95):  95%|█████████▌| 20/21 [00:09<00:00,  2.18it/s]"
     ]
    },
    {
     "name": "stderr",
     "output_type": "stream",
     "text": [
      "\r",
      "                 Class     Images  Instances      Box(P          R      mAP50  mAP50-95): 100%|██████████| 21/21 [00:09<00:00,  2.34it/s]"
     ]
    },
    {
     "name": "stderr",
     "output_type": "stream",
     "text": [
      "\r",
      "                 Class     Images  Instances      Box(P          R      mAP50  mAP50-95): 100%|██████████| 21/21 [00:09<00:00,  2.19it/s]"
     ]
    },
    {
     "name": "stdout",
     "output_type": "stream",
     "text": [
      "                   all        664       1430      0.106      0.148     0.0519     0.0191\n"
     ]
    },
    {
     "name": "stderr",
     "output_type": "stream",
     "text": [
      "\n"
     ]
    },
    {
     "name": "stdout",
     "output_type": "stream",
     "text": [
      "\n",
      "      Epoch    GPU_mem   box_loss   cls_loss   dfl_loss  Instances       Size\n"
     ]
    },
    {
     "name": "stderr",
     "output_type": "stream",
     "text": [
      "\r",
      "  0%|          | 0/146 [00:00<?, ?it/s]"
     ]
    },
    {
     "name": "stderr",
     "output_type": "stream",
     "text": [
      "\r",
      "      3/100      6.89G      2.605        2.9      1.922         49        640:   0%|          | 0/146 [00:00<?, ?it/s]"
     ]
    },
    {
     "name": "stderr",
     "output_type": "stream",
     "text": [
      "\r",
      "      3/100      6.89G      2.605        2.9      1.922         49        640:   1%|          | 1/146 [00:00<01:15,  1.92it/s]"
     ]
    },
    {
     "name": "stderr",
     "output_type": "stream",
     "text": [
      "\r",
      "      3/100      6.89G      2.408      2.835      1.899         35        640:   1%|          | 1/146 [00:01<01:15,  1.92it/s]"
     ]
    },
    {
     "name": "stderr",
     "output_type": "stream",
     "text": [
      "\r",
      "      3/100      6.89G      2.408      2.835      1.899         35        640:   1%|▏         | 2/146 [00:01<01:17,  1.86it/s]"
     ]
    },
    {
     "name": "stderr",
     "output_type": "stream",
     "text": [
      "\r",
      "      3/100      6.89G      2.307      2.725      1.881         43        640:   1%|▏         | 2/146 [00:01<01:17,  1.86it/s]"
     ]
    },
    {
     "name": "stderr",
     "output_type": "stream",
     "text": [
      "\r",
      "      3/100      6.89G      2.307      2.725      1.881         43        640:   2%|▏         | 3/146 [00:01<01:15,  1.90it/s]"
     ]
    },
    {
     "name": "stderr",
     "output_type": "stream",
     "text": [
      "\r",
      "      3/100      6.89G        2.2      2.602      1.862         45        640:   2%|▏         | 3/146 [00:02<01:15,  1.90it/s]"
     ]
    },
    {
     "name": "stderr",
     "output_type": "stream",
     "text": [
      "\r",
      "      3/100      6.89G        2.2      2.602      1.862         45        640:   3%|▎         | 4/146 [00:02<01:14,  1.91it/s]"
     ]
    },
    {
     "name": "stderr",
     "output_type": "stream",
     "text": [
      "\r",
      "      3/100      6.89G      2.183      2.543      1.868         40        640:   3%|▎         | 4/146 [00:02<01:14,  1.91it/s]"
     ]
    },
    {
     "name": "stderr",
     "output_type": "stream",
     "text": [
      "\r",
      "      3/100      6.89G      2.183      2.543      1.868         40        640:   3%|▎         | 5/146 [00:02<01:14,  1.88it/s]"
     ]
    },
    {
     "name": "stderr",
     "output_type": "stream",
     "text": [
      "\r",
      "      3/100      6.89G      2.175      2.488      1.834         42        640:   3%|▎         | 5/146 [00:03<01:14,  1.88it/s]"
     ]
    },
    {
     "name": "stderr",
     "output_type": "stream",
     "text": [
      "\r",
      "      3/100      6.89G      2.175      2.488      1.834         42        640:   4%|▍         | 6/146 [00:03<01:13,  1.90it/s]"
     ]
    },
    {
     "name": "stderr",
     "output_type": "stream",
     "text": [
      "\r",
      "      3/100      6.89G      2.154      2.475      1.789         35        640:   4%|▍         | 6/146 [00:03<01:13,  1.90it/s]"
     ]
    },
    {
     "name": "stderr",
     "output_type": "stream",
     "text": [
      "\r",
      "      3/100      6.89G      2.154      2.475      1.789         35        640:   5%|▍         | 7/146 [00:03<01:12,  1.91it/s]"
     ]
    },
    {
     "name": "stderr",
     "output_type": "stream",
     "text": [
      "\r",
      "      3/100      6.89G      2.183      2.467      1.808         62        640:   5%|▍         | 7/146 [00:04<01:12,  1.91it/s]"
     ]
    },
    {
     "name": "stderr",
     "output_type": "stream",
     "text": [
      "\r",
      "      3/100      6.89G      2.183      2.467      1.808         62        640:   5%|▌         | 8/146 [00:04<01:13,  1.88it/s]"
     ]
    },
    {
     "name": "stderr",
     "output_type": "stream",
     "text": [
      "\r",
      "      3/100      6.89G      2.199      2.468      1.814         47        640:   5%|▌         | 8/146 [00:04<01:13,  1.88it/s]"
     ]
    },
    {
     "name": "stderr",
     "output_type": "stream",
     "text": [
      "\r",
      "      3/100      6.89G      2.199      2.468      1.814         47        640:   6%|▌         | 9/146 [00:04<01:12,  1.90it/s]"
     ]
    },
    {
     "name": "stderr",
     "output_type": "stream",
     "text": [
      "\r",
      "      3/100      6.89G      2.196      2.447      1.803         36        640:   6%|▌         | 9/146 [00:05<01:12,  1.90it/s]"
     ]
    },
    {
     "name": "stderr",
     "output_type": "stream",
     "text": [
      "\r",
      "      3/100      6.89G      2.196      2.447      1.803         36        640:   7%|▋         | 10/146 [00:05<01:11,  1.90it/s]"
     ]
    },
    {
     "name": "stderr",
     "output_type": "stream",
     "text": [
      "\r",
      "      3/100      6.89G      2.174      2.432      1.779         56        640:   7%|▋         | 10/146 [00:05<01:11,  1.90it/s]"
     ]
    },
    {
     "name": "stderr",
     "output_type": "stream",
     "text": [
      "\r",
      "      3/100      6.89G      2.174      2.432      1.779         56        640:   8%|▊         | 11/146 [00:05<01:11,  1.88it/s]"
     ]
    },
    {
     "name": "stderr",
     "output_type": "stream",
     "text": [
      "\r",
      "      3/100      6.89G      2.163      2.427      1.777         37        640:   8%|▊         | 11/146 [00:06<01:11,  1.88it/s]"
     ]
    },
    {
     "name": "stderr",
     "output_type": "stream",
     "text": [
      "\r",
      "      3/100      6.89G      2.163      2.427      1.777         37        640:   8%|▊         | 12/146 [00:06<01:10,  1.90it/s]"
     ]
    },
    {
     "name": "stderr",
     "output_type": "stream",
     "text": [
      "\r",
      "      3/100      6.89G      2.169      2.455      1.781         31        640:   8%|▊         | 12/146 [00:06<01:10,  1.90it/s]"
     ]
    },
    {
     "name": "stderr",
     "output_type": "stream",
     "text": [
      "\r",
      "      3/100      6.89G      2.169      2.455      1.781         31        640:   9%|▉         | 13/146 [00:06<01:09,  1.91it/s]"
     ]
    },
    {
     "name": "stderr",
     "output_type": "stream",
     "text": [
      "\r",
      "      3/100      6.89G      2.153      2.459      1.787         42        640:   9%|▉         | 13/146 [00:07<01:09,  1.91it/s]"
     ]
    },
    {
     "name": "stderr",
     "output_type": "stream",
     "text": [
      "\r",
      "      3/100      6.89G      2.153      2.459      1.787         42        640:  10%|▉         | 14/146 [00:07<01:10,  1.88it/s]"
     ]
    },
    {
     "name": "stderr",
     "output_type": "stream",
     "text": [
      "\r",
      "      3/100      6.89G      2.153      2.457      1.784         68        640:  10%|▉         | 14/146 [00:07<01:10,  1.88it/s]"
     ]
    },
    {
     "name": "stderr",
     "output_type": "stream",
     "text": [
      "\r",
      "      3/100      6.89G      2.153      2.457      1.784         68        640:  10%|█         | 15/146 [00:07<01:09,  1.90it/s]"
     ]
    },
    {
     "name": "stderr",
     "output_type": "stream",
     "text": [
      "\r",
      "      3/100      6.89G      2.174      2.458      1.791         57        640:  10%|█         | 15/146 [00:08<01:09,  1.90it/s]"
     ]
    },
    {
     "name": "stderr",
     "output_type": "stream",
     "text": [
      "\r",
      "      3/100      6.89G      2.174      2.458      1.791         57        640:  11%|█         | 16/146 [00:08<01:08,  1.90it/s]"
     ]
    },
    {
     "name": "stderr",
     "output_type": "stream",
     "text": [
      "\r",
      "      3/100      6.89G      2.192      2.437      1.805         45        640:  11%|█         | 16/146 [00:08<01:08,  1.90it/s]"
     ]
    },
    {
     "name": "stderr",
     "output_type": "stream",
     "text": [
      "\r",
      "      3/100      6.89G      2.192      2.437      1.805         45        640:  12%|█▏        | 17/146 [00:08<01:09,  1.87it/s]"
     ]
    },
    {
     "name": "stderr",
     "output_type": "stream",
     "text": [
      "\r",
      "      3/100      6.89G      2.193      2.423      1.808         45        640:  12%|█▏        | 17/146 [00:09<01:09,  1.87it/s]"
     ]
    },
    {
     "name": "stderr",
     "output_type": "stream",
     "text": [
      "\r",
      "      3/100      6.89G      2.193      2.423      1.808         45        640:  12%|█▏        | 18/146 [00:09<01:07,  1.88it/s]"
     ]
    },
    {
     "name": "stderr",
     "output_type": "stream",
     "text": [
      "\r",
      "      3/100      6.89G      2.199      2.419      1.815         38        640:  12%|█▏        | 18/146 [00:10<01:07,  1.88it/s]"
     ]
    },
    {
     "name": "stderr",
     "output_type": "stream",
     "text": [
      "\r",
      "      3/100      6.89G      2.199      2.419      1.815         38        640:  13%|█▎        | 19/146 [00:10<01:07,  1.89it/s]"
     ]
    },
    {
     "name": "stderr",
     "output_type": "stream",
     "text": [
      "\r",
      "      3/100      6.89G      2.219      2.435      1.822         48        640:  13%|█▎        | 19/146 [00:10<01:07,  1.89it/s]"
     ]
    },
    {
     "name": "stderr",
     "output_type": "stream",
     "text": [
      "\r",
      "      3/100      6.89G      2.219      2.435      1.822         48        640:  14%|█▎        | 20/146 [00:10<01:07,  1.87it/s]"
     ]
    },
    {
     "name": "stderr",
     "output_type": "stream",
     "text": [
      "\r",
      "      3/100      6.89G      2.222      2.432      1.829         37        640:  14%|█▎        | 20/146 [00:11<01:07,  1.87it/s]"
     ]
    },
    {
     "name": "stderr",
     "output_type": "stream",
     "text": [
      "\r",
      "      3/100      6.89G      2.222      2.432      1.829         37        640:  14%|█▍        | 21/146 [00:11<01:06,  1.89it/s]"
     ]
    },
    {
     "name": "stderr",
     "output_type": "stream",
     "text": [
      "\r",
      "      3/100      6.89G      2.224      2.431      1.828         41        640:  14%|█▍        | 21/146 [00:11<01:06,  1.89it/s]"
     ]
    },
    {
     "name": "stderr",
     "output_type": "stream",
     "text": [
      "\r",
      "      3/100      6.89G      2.224      2.431      1.828         41        640:  15%|█▌        | 22/146 [00:11<01:05,  1.89it/s]"
     ]
    },
    {
     "name": "stderr",
     "output_type": "stream",
     "text": [
      "\r",
      "      3/100      6.89G      2.232       2.42      1.835         49        640:  15%|█▌        | 22/146 [00:12<01:05,  1.89it/s]"
     ]
    },
    {
     "name": "stderr",
     "output_type": "stream",
     "text": [
      "\r",
      "      3/100      6.89G      2.232       2.42      1.835         49        640:  16%|█▌        | 23/146 [00:12<01:06,  1.86it/s]"
     ]
    },
    {
     "name": "stderr",
     "output_type": "stream",
     "text": [
      "\r",
      "      3/100      6.89G      2.231      2.429       1.83         35        640:  16%|█▌        | 23/146 [00:12<01:06,  1.86it/s]"
     ]
    },
    {
     "name": "stderr",
     "output_type": "stream",
     "text": [
      "\r",
      "      3/100      6.89G      2.231      2.429       1.83         35        640:  16%|█▋        | 24/146 [00:12<01:04,  1.88it/s]"
     ]
    },
    {
     "name": "stderr",
     "output_type": "stream",
     "text": [
      "\r",
      "      3/100      6.89G      2.231      2.433      1.835         46        640:  16%|█▋        | 24/146 [00:13<01:04,  1.88it/s]"
     ]
    },
    {
     "name": "stderr",
     "output_type": "stream",
     "text": [
      "\r",
      "      3/100      6.89G      2.231      2.433      1.835         46        640:  17%|█▋        | 25/146 [00:13<01:04,  1.89it/s]"
     ]
    },
    {
     "name": "stderr",
     "output_type": "stream",
     "text": [
      "\r",
      "      3/100      6.89G      2.241      2.439      1.837         44        640:  17%|█▋        | 25/146 [00:13<01:04,  1.89it/s]"
     ]
    },
    {
     "name": "stderr",
     "output_type": "stream",
     "text": [
      "\r",
      "      3/100      6.89G      2.241      2.439      1.837         44        640:  18%|█▊        | 26/146 [00:13<01:04,  1.86it/s]"
     ]
    },
    {
     "name": "stderr",
     "output_type": "stream",
     "text": [
      "\r",
      "      3/100      6.89G      2.243      2.449      1.839         40        640:  18%|█▊        | 26/146 [00:14<01:04,  1.86it/s]"
     ]
    },
    {
     "name": "stderr",
     "output_type": "stream",
     "text": [
      "\r",
      "      3/100      6.89G      2.243      2.449      1.839         40        640:  18%|█▊        | 27/146 [00:14<01:03,  1.88it/s]"
     ]
    },
    {
     "name": "stderr",
     "output_type": "stream",
     "text": [
      "\r",
      "      3/100      6.89G      2.231      2.443       1.83         39        640:  18%|█▊        | 27/146 [00:14<01:03,  1.88it/s]"
     ]
    },
    {
     "name": "stderr",
     "output_type": "stream",
     "text": [
      "\r",
      "      3/100      6.89G      2.231      2.443       1.83         39        640:  19%|█▉        | 28/146 [00:14<01:02,  1.89it/s]"
     ]
    },
    {
     "name": "stderr",
     "output_type": "stream",
     "text": [
      "\r",
      "      3/100      6.89G      2.233       2.45      1.829         47        640:  19%|█▉        | 28/146 [00:15<01:02,  1.89it/s]"
     ]
    },
    {
     "name": "stderr",
     "output_type": "stream",
     "text": [
      "\r",
      "      3/100      6.89G      2.233       2.45      1.829         47        640:  20%|█▉        | 29/146 [00:15<01:02,  1.87it/s]"
     ]
    },
    {
     "name": "stderr",
     "output_type": "stream",
     "text": [
      "\r",
      "      3/100      6.89G      2.231      2.453      1.828         41        640:  20%|█▉        | 29/146 [00:15<01:02,  1.87it/s]"
     ]
    },
    {
     "name": "stderr",
     "output_type": "stream",
     "text": [
      "\r",
      "      3/100      6.89G      2.231      2.453      1.828         41        640:  21%|██        | 30/146 [00:15<01:01,  1.88it/s]"
     ]
    },
    {
     "name": "stderr",
     "output_type": "stream",
     "text": [
      "\r",
      "      3/100      6.89G      2.235      2.452      1.829         55        640:  21%|██        | 30/146 [00:16<01:01,  1.88it/s]"
     ]
    },
    {
     "name": "stderr",
     "output_type": "stream",
     "text": [
      "\r",
      "      3/100      6.89G      2.235      2.452      1.829         55        640:  21%|██        | 31/146 [00:16<01:00,  1.89it/s]"
     ]
    },
    {
     "name": "stderr",
     "output_type": "stream",
     "text": [
      "\r",
      "      3/100      6.89G      2.236      2.463      1.828         37        640:  21%|██        | 31/146 [00:16<01:00,  1.89it/s]"
     ]
    },
    {
     "name": "stderr",
     "output_type": "stream",
     "text": [
      "\r",
      "      3/100      6.89G      2.236      2.463      1.828         37        640:  22%|██▏       | 32/146 [00:16<01:01,  1.86it/s]"
     ]
    },
    {
     "name": "stderr",
     "output_type": "stream",
     "text": [
      "\r",
      "      3/100      6.89G      2.245      2.462      1.829         55        640:  22%|██▏       | 32/146 [00:17<01:01,  1.86it/s]"
     ]
    },
    {
     "name": "stderr",
     "output_type": "stream",
     "text": [
      "\r",
      "      3/100      6.89G      2.245      2.462      1.829         55        640:  23%|██▎       | 33/146 [00:17<01:00,  1.88it/s]"
     ]
    },
    {
     "name": "stderr",
     "output_type": "stream",
     "text": [
      "\r",
      "      3/100      6.89G      2.243      2.453      1.827         53        640:  23%|██▎       | 33/146 [00:18<01:00,  1.88it/s]"
     ]
    },
    {
     "name": "stderr",
     "output_type": "stream",
     "text": [
      "\r",
      "      3/100      6.89G      2.243      2.453      1.827         53        640:  23%|██▎       | 34/146 [00:18<00:59,  1.89it/s]"
     ]
    },
    {
     "name": "stderr",
     "output_type": "stream",
     "text": [
      "\r",
      "      3/100      6.89G       2.25      2.464      1.841         28        640:  23%|██▎       | 34/146 [00:18<00:59,  1.89it/s]"
     ]
    },
    {
     "name": "stderr",
     "output_type": "stream",
     "text": [
      "\r",
      "      3/100      6.89G       2.25      2.464      1.841         28        640:  24%|██▍       | 35/146 [00:18<00:59,  1.86it/s]"
     ]
    },
    {
     "name": "stderr",
     "output_type": "stream",
     "text": [
      "\r",
      "      3/100      6.89G      2.253      2.463      1.846         36        640:  24%|██▍       | 35/146 [00:19<00:59,  1.86it/s]"
     ]
    },
    {
     "name": "stderr",
     "output_type": "stream",
     "text": [
      "\r",
      "      3/100      6.89G      2.253      2.463      1.846         36        640:  25%|██▍       | 36/146 [00:19<00:58,  1.88it/s]"
     ]
    },
    {
     "name": "stderr",
     "output_type": "stream",
     "text": [
      "\r",
      "      3/100      6.89G       2.25      2.457      1.841         73        640:  25%|██▍       | 36/146 [00:19<00:58,  1.88it/s]"
     ]
    },
    {
     "name": "stderr",
     "output_type": "stream",
     "text": [
      "\r",
      "      3/100      6.89G       2.25      2.457      1.841         73        640:  25%|██▌       | 37/146 [00:19<00:57,  1.89it/s]"
     ]
    },
    {
     "name": "stderr",
     "output_type": "stream",
     "text": [
      "\r",
      "      3/100      6.89G      2.246      2.456      1.841         44        640:  25%|██▌       | 37/146 [00:20<00:57,  1.89it/s]"
     ]
    },
    {
     "name": "stderr",
     "output_type": "stream",
     "text": [
      "\r",
      "      3/100      6.89G      2.246      2.456      1.841         44        640:  26%|██▌       | 38/146 [00:20<00:57,  1.86it/s]"
     ]
    },
    {
     "name": "stderr",
     "output_type": "stream",
     "text": [
      "\r",
      "      3/100      6.89G      2.244       2.47      1.846         26        640:  26%|██▌       | 38/146 [00:20<00:57,  1.86it/s]"
     ]
    },
    {
     "name": "stderr",
     "output_type": "stream",
     "text": [
      "\r",
      "      3/100      6.89G      2.244       2.47      1.846         26        640:  27%|██▋       | 39/146 [00:20<00:56,  1.88it/s]"
     ]
    },
    {
     "name": "stderr",
     "output_type": "stream",
     "text": [
      "\r",
      "      3/100      6.89G      2.248      2.468      1.846         47        640:  27%|██▋       | 39/146 [00:21<00:56,  1.88it/s]"
     ]
    },
    {
     "name": "stderr",
     "output_type": "stream",
     "text": [
      "\r",
      "      3/100      6.89G      2.248      2.468      1.846         47        640:  27%|██▋       | 40/146 [00:21<00:56,  1.89it/s]"
     ]
    },
    {
     "name": "stderr",
     "output_type": "stream",
     "text": [
      "\r",
      "      3/100      6.89G      2.254       2.47      1.851         36        640:  27%|██▋       | 40/146 [00:21<00:56,  1.89it/s]"
     ]
    },
    {
     "name": "stderr",
     "output_type": "stream",
     "text": [
      "\r",
      "      3/100      6.89G      2.254       2.47      1.851         36        640:  28%|██▊       | 41/146 [00:21<00:56,  1.86it/s]"
     ]
    },
    {
     "name": "stderr",
     "output_type": "stream",
     "text": [
      "\r",
      "      3/100      6.89G      2.253      2.462      1.851         56        640:  28%|██▊       | 41/146 [00:22<00:56,  1.86it/s]"
     ]
    },
    {
     "name": "stderr",
     "output_type": "stream",
     "text": [
      "\r",
      "      3/100      6.89G      2.253      2.462      1.851         56        640:  29%|██▉       | 42/146 [00:22<00:55,  1.87it/s]"
     ]
    },
    {
     "name": "stderr",
     "output_type": "stream",
     "text": [
      "\r",
      "      3/100      6.89G       2.26      2.464      1.855         56        640:  29%|██▉       | 42/146 [00:22<00:55,  1.87it/s]"
     ]
    },
    {
     "name": "stderr",
     "output_type": "stream",
     "text": [
      "\r",
      "      3/100      6.89G       2.26      2.464      1.855         56        640:  29%|██▉       | 43/146 [00:22<00:54,  1.87it/s]"
     ]
    },
    {
     "name": "stderr",
     "output_type": "stream",
     "text": [
      "\r",
      "      3/100      6.89G      2.255      2.466      1.849         43        640:  29%|██▉       | 43/146 [00:23<00:54,  1.87it/s]"
     ]
    },
    {
     "name": "stderr",
     "output_type": "stream",
     "text": [
      "\r",
      "      3/100      6.89G      2.255      2.466      1.849         43        640:  30%|███       | 44/146 [00:23<00:55,  1.85it/s]"
     ]
    },
    {
     "name": "stderr",
     "output_type": "stream",
     "text": [
      "\r",
      "      3/100      6.89G      2.256      2.456      1.846         51        640:  30%|███       | 44/146 [00:23<00:55,  1.85it/s]"
     ]
    },
    {
     "name": "stderr",
     "output_type": "stream",
     "text": [
      "\r",
      "      3/100      6.89G      2.256      2.456      1.846         51        640:  31%|███       | 45/146 [00:23<00:54,  1.87it/s]"
     ]
    },
    {
     "name": "stderr",
     "output_type": "stream",
     "text": [
      "\r",
      "      3/100      6.89G      2.261      2.456      1.847         62        640:  31%|███       | 45/146 [00:24<00:54,  1.87it/s]"
     ]
    },
    {
     "name": "stderr",
     "output_type": "stream",
     "text": [
      "\r",
      "      3/100      6.89G      2.261      2.456      1.847         62        640:  32%|███▏      | 46/146 [00:24<00:53,  1.88it/s]"
     ]
    },
    {
     "name": "stderr",
     "output_type": "stream",
     "text": [
      "\r",
      "      3/100      6.89G      2.257      2.464      1.849         34        640:  32%|███▏      | 46/146 [00:25<00:53,  1.88it/s]"
     ]
    },
    {
     "name": "stderr",
     "output_type": "stream",
     "text": [
      "\r",
      "      3/100      6.89G      2.257      2.464      1.849         34        640:  32%|███▏      | 47/146 [00:25<00:53,  1.85it/s]"
     ]
    },
    {
     "name": "stderr",
     "output_type": "stream",
     "text": [
      "\r",
      "      3/100      6.89G      2.257      2.464      1.852         45        640:  32%|███▏      | 47/146 [00:25<00:53,  1.85it/s]"
     ]
    },
    {
     "name": "stderr",
     "output_type": "stream",
     "text": [
      "\r",
      "      3/100      6.89G      2.257      2.464      1.852         45        640:  33%|███▎      | 48/146 [00:25<00:52,  1.87it/s]"
     ]
    },
    {
     "name": "stderr",
     "output_type": "stream",
     "text": [
      "\r",
      "      3/100      6.89G      2.254      2.463      1.852         34        640:  33%|███▎      | 48/146 [00:26<00:52,  1.87it/s]"
     ]
    },
    {
     "name": "stderr",
     "output_type": "stream",
     "text": [
      "\r",
      "      3/100      6.89G      2.254      2.463      1.852         34        640:  34%|███▎      | 49/146 [00:26<00:51,  1.87it/s]"
     ]
    },
    {
     "name": "stderr",
     "output_type": "stream",
     "text": [
      "\r",
      "      3/100      6.89G      2.254      2.458       1.85         71        640:  34%|███▎      | 49/146 [00:26<00:51,  1.87it/s]"
     ]
    },
    {
     "name": "stderr",
     "output_type": "stream",
     "text": [
      "\r",
      "      3/100      6.89G      2.254      2.458       1.85         71        640:  34%|███▍      | 50/146 [00:26<00:51,  1.85it/s]"
     ]
    },
    {
     "name": "stderr",
     "output_type": "stream",
     "text": [
      "\r",
      "      3/100      6.89G      2.256       2.47      1.855         34        640:  34%|███▍      | 50/146 [00:27<00:51,  1.85it/s]"
     ]
    },
    {
     "name": "stderr",
     "output_type": "stream",
     "text": [
      "\r",
      "      3/100      6.89G      2.256       2.47      1.855         34        640:  35%|███▍      | 51/146 [00:27<00:51,  1.86it/s]"
     ]
    },
    {
     "name": "stderr",
     "output_type": "stream",
     "text": [
      "\r",
      "      3/100      6.89G      2.255      2.468      1.855         40        640:  35%|███▍      | 51/146 [00:27<00:51,  1.86it/s]"
     ]
    },
    {
     "name": "stderr",
     "output_type": "stream",
     "text": [
      "\r",
      "      3/100      6.89G      2.255      2.468      1.855         40        640:  36%|███▌      | 52/146 [00:27<00:50,  1.86it/s]"
     ]
    },
    {
     "name": "stderr",
     "output_type": "stream",
     "text": [
      "\r",
      "      3/100      6.89G      2.254      2.464      1.855         55        640:  36%|███▌      | 52/146 [00:28<00:50,  1.86it/s]"
     ]
    },
    {
     "name": "stderr",
     "output_type": "stream",
     "text": [
      "\r",
      "      3/100      6.89G      2.254      2.464      1.855         55        640:  36%|███▋      | 53/146 [00:28<00:50,  1.84it/s]"
     ]
    },
    {
     "name": "stderr",
     "output_type": "stream",
     "text": [
      "\r",
      "      3/100      6.89G      2.252      2.462      1.854         48        640:  36%|███▋      | 53/146 [00:28<00:50,  1.84it/s]"
     ]
    },
    {
     "name": "stderr",
     "output_type": "stream",
     "text": [
      "\r",
      "      3/100      6.89G      2.252      2.462      1.854         48        640:  37%|███▋      | 54/146 [00:28<00:49,  1.86it/s]"
     ]
    },
    {
     "name": "stderr",
     "output_type": "stream",
     "text": [
      "\r",
      "      3/100      6.89G      2.252      2.458      1.854         61        640:  37%|███▋      | 54/146 [00:29<00:49,  1.86it/s]"
     ]
    },
    {
     "name": "stderr",
     "output_type": "stream",
     "text": [
      "\r",
      "      3/100      6.89G      2.252      2.458      1.854         61        640:  38%|███▊      | 55/146 [00:29<00:48,  1.86it/s]"
     ]
    },
    {
     "name": "stderr",
     "output_type": "stream",
     "text": [
      "\r",
      "      3/100      6.89G      2.254      2.461      1.853         40        640:  38%|███▊      | 55/146 [00:29<00:48,  1.86it/s]"
     ]
    },
    {
     "name": "stderr",
     "output_type": "stream",
     "text": [
      "\r",
      "      3/100      6.89G      2.254      2.461      1.853         40        640:  38%|███▊      | 56/146 [00:29<00:48,  1.84it/s]"
     ]
    },
    {
     "name": "stderr",
     "output_type": "stream",
     "text": [
      "\r",
      "      3/100      6.89G       2.26      2.462      1.854         51        640:  38%|███▊      | 56/146 [00:30<00:48,  1.84it/s]"
     ]
    },
    {
     "name": "stderr",
     "output_type": "stream",
     "text": [
      "\r",
      "      3/100      6.89G       2.26      2.462      1.854         51        640:  39%|███▉      | 57/146 [00:30<00:47,  1.86it/s]"
     ]
    },
    {
     "name": "stderr",
     "output_type": "stream",
     "text": [
      "\r",
      "      3/100      6.89G      2.259      2.461      1.855         57        640:  39%|███▉      | 57/146 [00:30<00:47,  1.86it/s]"
     ]
    },
    {
     "name": "stderr",
     "output_type": "stream",
     "text": [
      "\r",
      "      3/100      6.89G      2.259      2.461      1.855         57        640:  40%|███▉      | 58/146 [00:30<00:47,  1.86it/s]"
     ]
    },
    {
     "name": "stderr",
     "output_type": "stream",
     "text": [
      "\r",
      "      3/100      6.89G      2.258      2.457      1.854         50        640:  40%|███▉      | 58/146 [00:31<00:47,  1.86it/s]"
     ]
    },
    {
     "name": "stderr",
     "output_type": "stream",
     "text": [
      "\r",
      "      3/100      6.89G      2.258      2.457      1.854         50        640:  40%|████      | 59/146 [00:31<00:47,  1.84it/s]"
     ]
    },
    {
     "name": "stderr",
     "output_type": "stream",
     "text": [
      "\r",
      "      3/100      6.89G      2.256      2.452      1.854         40        640:  40%|████      | 59/146 [00:32<00:47,  1.84it/s]"
     ]
    },
    {
     "name": "stderr",
     "output_type": "stream",
     "text": [
      "\r",
      "      3/100      6.89G      2.256      2.452      1.854         40        640:  41%|████      | 60/146 [00:32<00:46,  1.86it/s]"
     ]
    },
    {
     "name": "stderr",
     "output_type": "stream",
     "text": [
      "\r",
      "      3/100      6.89G      2.257      2.455      1.853         45        640:  41%|████      | 60/146 [00:32<00:46,  1.86it/s]"
     ]
    },
    {
     "name": "stderr",
     "output_type": "stream",
     "text": [
      "\r",
      "      3/100      6.89G      2.257      2.455      1.853         45        640:  42%|████▏     | 61/146 [00:32<00:45,  1.86it/s]"
     ]
    },
    {
     "name": "stderr",
     "output_type": "stream",
     "text": [
      "\r",
      "      3/100      6.89G      2.259      2.449      1.853         48        640:  42%|████▏     | 61/146 [00:33<00:45,  1.86it/s]"
     ]
    },
    {
     "name": "stderr",
     "output_type": "stream",
     "text": [
      "\r",
      "      3/100      6.89G      2.259      2.449      1.853         48        640:  42%|████▏     | 62/146 [00:33<00:45,  1.84it/s]"
     ]
    },
    {
     "name": "stderr",
     "output_type": "stream",
     "text": [
      "\r",
      "      3/100      6.89G      2.259      2.448      1.853         69        640:  42%|████▏     | 62/146 [00:33<00:45,  1.84it/s]"
     ]
    },
    {
     "name": "stderr",
     "output_type": "stream",
     "text": [
      "\r",
      "      3/100      6.89G      2.259      2.448      1.853         69        640:  43%|████▎     | 63/146 [00:33<00:44,  1.85it/s]"
     ]
    },
    {
     "name": "stderr",
     "output_type": "stream",
     "text": [
      "\r",
      "      3/100      6.89G      2.262      2.448      1.853         45        640:  43%|████▎     | 63/146 [00:34<00:44,  1.85it/s]"
     ]
    },
    {
     "name": "stderr",
     "output_type": "stream",
     "text": [
      "\r",
      "      3/100      6.89G      2.262      2.448      1.853         45        640:  44%|████▍     | 64/146 [00:34<00:44,  1.86it/s]"
     ]
    },
    {
     "name": "stderr",
     "output_type": "stream",
     "text": [
      "\r",
      "      3/100      6.89G      2.262      2.447      1.854         40        640:  44%|████▍     | 64/146 [00:34<00:44,  1.86it/s]"
     ]
    },
    {
     "name": "stderr",
     "output_type": "stream",
     "text": [
      "\r",
      "      3/100      6.89G      2.262      2.447      1.854         40        640:  45%|████▍     | 65/146 [00:34<00:44,  1.84it/s]"
     ]
    },
    {
     "name": "stderr",
     "output_type": "stream",
     "text": [
      "\r",
      "      3/100      6.89G      2.262      2.446      1.854         33        640:  45%|████▍     | 65/146 [00:35<00:44,  1.84it/s]"
     ]
    },
    {
     "name": "stderr",
     "output_type": "stream",
     "text": [
      "\r",
      "      3/100      6.89G      2.262      2.446      1.854         33        640:  45%|████▌     | 66/146 [00:35<00:43,  1.86it/s]"
     ]
    },
    {
     "name": "stderr",
     "output_type": "stream",
     "text": [
      "\r",
      "      3/100      6.89G      2.259      2.448      1.852         47        640:  45%|████▌     | 66/146 [00:35<00:43,  1.86it/s]"
     ]
    },
    {
     "name": "stderr",
     "output_type": "stream",
     "text": [
      "\r",
      "      3/100      6.89G      2.259      2.448      1.852         47        640:  46%|████▌     | 67/146 [00:35<00:42,  1.87it/s]"
     ]
    },
    {
     "name": "stderr",
     "output_type": "stream",
     "text": [
      "\r",
      "      3/100      6.89G       2.26      2.447      1.852         83        640:  46%|████▌     | 67/146 [00:36<00:42,  1.87it/s]"
     ]
    },
    {
     "name": "stderr",
     "output_type": "stream",
     "text": [
      "\r",
      "      3/100      6.89G       2.26      2.447      1.852         83        640:  47%|████▋     | 68/146 [00:36<00:42,  1.84it/s]"
     ]
    },
    {
     "name": "stderr",
     "output_type": "stream",
     "text": [
      "\r",
      "      3/100      6.89G      2.259      2.442       1.85         58        640:  47%|████▋     | 68/146 [00:36<00:42,  1.84it/s]"
     ]
    },
    {
     "name": "stderr",
     "output_type": "stream",
     "text": [
      "\r",
      "      3/100      6.89G      2.259      2.442       1.85         58        640:  47%|████▋     | 69/146 [00:36<00:41,  1.86it/s]"
     ]
    },
    {
     "name": "stderr",
     "output_type": "stream",
     "text": [
      "\r",
      "      3/100      6.89G      2.265      2.448      1.851         38        640:  47%|████▋     | 69/146 [00:37<00:41,  1.86it/s]"
     ]
    },
    {
     "name": "stderr",
     "output_type": "stream",
     "text": [
      "\r",
      "      3/100      6.89G      2.265      2.448      1.851         38        640:  48%|████▊     | 70/146 [00:37<00:40,  1.87it/s]"
     ]
    },
    {
     "name": "stderr",
     "output_type": "stream",
     "text": [
      "\r",
      "      3/100      6.89G      2.264       2.45      1.851         27        640:  48%|████▊     | 70/146 [00:37<00:40,  1.87it/s]"
     ]
    },
    {
     "name": "stderr",
     "output_type": "stream",
     "text": [
      "\r",
      "      3/100      6.89G      2.264       2.45      1.851         27        640:  49%|████▊     | 71/146 [00:37<00:40,  1.84it/s]"
     ]
    },
    {
     "name": "stderr",
     "output_type": "stream",
     "text": [
      "\r",
      "      3/100      6.89G      2.264      2.447      1.852         50        640:  49%|████▊     | 71/146 [00:38<00:40,  1.84it/s]"
     ]
    },
    {
     "name": "stderr",
     "output_type": "stream",
     "text": [
      "\r",
      "      3/100      6.89G      2.264      2.447      1.852         50        640:  49%|████▉     | 72/146 [00:38<00:39,  1.86it/s]"
     ]
    },
    {
     "name": "stderr",
     "output_type": "stream",
     "text": [
      "\r",
      "      3/100      6.89G      2.264       2.45      1.853         57        640:  49%|████▉     | 72/146 [00:39<00:39,  1.86it/s]"
     ]
    },
    {
     "name": "stderr",
     "output_type": "stream",
     "text": [
      "\r",
      "      3/100      6.89G      2.264       2.45      1.853         57        640:  50%|█████     | 73/146 [00:39<00:38,  1.87it/s]"
     ]
    },
    {
     "name": "stderr",
     "output_type": "stream",
     "text": [
      "\r",
      "      3/100      6.89G      2.264      2.451      1.852         50        640:  50%|█████     | 73/146 [00:39<00:38,  1.87it/s]"
     ]
    },
    {
     "name": "stderr",
     "output_type": "stream",
     "text": [
      "\r",
      "      3/100      6.89G      2.264      2.451      1.852         50        640:  51%|█████     | 74/146 [00:39<00:38,  1.88it/s]"
     ]
    },
    {
     "name": "stderr",
     "output_type": "stream",
     "text": [
      "\r",
      "      3/100      6.89G      2.266      2.456      1.852         42        640:  51%|█████     | 74/146 [00:40<00:38,  1.88it/s]"
     ]
    },
    {
     "name": "stderr",
     "output_type": "stream",
     "text": [
      "\r",
      "      3/100      6.89G      2.266      2.456      1.852         42        640:  51%|█████▏    | 75/146 [00:40<00:38,  1.85it/s]"
     ]
    },
    {
     "name": "stderr",
     "output_type": "stream",
     "text": [
      "\r",
      "      3/100      6.89G      2.266      2.461      1.851         32        640:  51%|█████▏    | 75/146 [00:40<00:38,  1.85it/s]"
     ]
    },
    {
     "name": "stderr",
     "output_type": "stream",
     "text": [
      "\r",
      "      3/100      6.89G      2.266      2.461      1.851         32        640:  52%|█████▏    | 76/146 [00:40<00:37,  1.87it/s]"
     ]
    },
    {
     "name": "stderr",
     "output_type": "stream",
     "text": [
      "\r",
      "      3/100      6.89G      2.265      2.462      1.852         46        640:  52%|█████▏    | 76/146 [00:41<00:37,  1.87it/s]"
     ]
    },
    {
     "name": "stderr",
     "output_type": "stream",
     "text": [
      "\r",
      "      3/100      6.89G      2.265      2.462      1.852         46        640:  53%|█████▎    | 77/146 [00:41<00:36,  1.87it/s]"
     ]
    },
    {
     "name": "stderr",
     "output_type": "stream",
     "text": [
      "\r",
      "      3/100      6.89G      2.266      2.458      1.853         52        640:  53%|█████▎    | 77/146 [00:41<00:36,  1.87it/s]"
     ]
    },
    {
     "name": "stderr",
     "output_type": "stream",
     "text": [
      "\r",
      "      3/100      6.89G      2.266      2.458      1.853         52        640:  53%|█████▎    | 78/146 [00:41<00:36,  1.88it/s]"
     ]
    },
    {
     "name": "stderr",
     "output_type": "stream",
     "text": [
      "\r",
      "      3/100      6.89G      2.267       2.46      1.853         48        640:  53%|█████▎    | 78/146 [00:42<00:36,  1.88it/s]"
     ]
    },
    {
     "name": "stderr",
     "output_type": "stream",
     "text": [
      "\r",
      "      3/100      6.89G      2.267       2.46      1.853         48        640:  54%|█████▍    | 79/146 [00:42<00:36,  1.85it/s]"
     ]
    },
    {
     "name": "stderr",
     "output_type": "stream",
     "text": [
      "\r",
      "      3/100      6.89G      2.268      2.456      1.852         58        640:  54%|█████▍    | 79/146 [00:42<00:36,  1.85it/s]"
     ]
    },
    {
     "name": "stderr",
     "output_type": "stream",
     "text": [
      "\r",
      "      3/100      6.89G      2.268      2.456      1.852         58        640:  55%|█████▍    | 80/146 [00:42<00:35,  1.86it/s]"
     ]
    },
    {
     "name": "stderr",
     "output_type": "stream",
     "text": [
      "\r",
      "      3/100      6.89G      2.268      2.458      1.853         41        640:  55%|█████▍    | 80/146 [00:43<00:35,  1.86it/s]"
     ]
    },
    {
     "name": "stderr",
     "output_type": "stream",
     "text": [
      "\r",
      "      3/100      6.89G      2.268      2.458      1.853         41        640:  55%|█████▌    | 81/146 [00:43<00:34,  1.87it/s]"
     ]
    },
    {
     "name": "stderr",
     "output_type": "stream",
     "text": [
      "\r",
      "      3/100      6.89G       2.27      2.454      1.853         48        640:  55%|█████▌    | 81/146 [00:43<00:34,  1.87it/s]"
     ]
    },
    {
     "name": "stderr",
     "output_type": "stream",
     "text": [
      "\r",
      "      3/100      6.89G       2.27      2.454      1.853         48        640:  56%|█████▌    | 82/146 [00:43<00:34,  1.87it/s]"
     ]
    },
    {
     "name": "stderr",
     "output_type": "stream",
     "text": [
      "\r",
      "      3/100      6.89G      2.274      2.458      1.855         50        640:  56%|█████▌    | 82/146 [00:44<00:34,  1.87it/s]"
     ]
    },
    {
     "name": "stderr",
     "output_type": "stream",
     "text": [
      "\r",
      "      3/100      6.89G      2.274      2.458      1.855         50        640:  57%|█████▋    | 83/146 [00:44<00:34,  1.85it/s]"
     ]
    },
    {
     "name": "stderr",
     "output_type": "stream",
     "text": [
      "\r",
      "      3/100      6.89G      2.272      2.455      1.853         62        640:  57%|█████▋    | 83/146 [00:44<00:34,  1.85it/s]"
     ]
    },
    {
     "name": "stderr",
     "output_type": "stream",
     "text": [
      "\r",
      "      3/100      6.89G      2.272      2.455      1.853         62        640:  58%|█████▊    | 84/146 [00:44<00:33,  1.86it/s]"
     ]
    },
    {
     "name": "stderr",
     "output_type": "stream",
     "text": [
      "\r",
      "      3/100      6.89G      2.272      2.459      1.854         36        640:  58%|█████▊    | 84/146 [00:45<00:33,  1.86it/s]"
     ]
    },
    {
     "name": "stderr",
     "output_type": "stream",
     "text": [
      "\r",
      "      3/100      6.89G      2.272      2.459      1.854         36        640:  58%|█████▊    | 85/146 [00:45<00:32,  1.87it/s]"
     ]
    },
    {
     "name": "stderr",
     "output_type": "stream",
     "text": [
      "\r",
      "      3/100      6.89G      2.274      2.461      1.857         36        640:  58%|█████▊    | 85/146 [00:45<00:32,  1.87it/s]"
     ]
    },
    {
     "name": "stderr",
     "output_type": "stream",
     "text": [
      "\r",
      "      3/100      6.89G      2.274      2.461      1.857         36        640:  59%|█████▉    | 86/146 [00:45<00:32,  1.87it/s]"
     ]
    },
    {
     "name": "stderr",
     "output_type": "stream",
     "text": [
      "\r",
      "      3/100      6.89G      2.273      2.462      1.855         54        640:  59%|█████▉    | 86/146 [00:46<00:32,  1.87it/s]"
     ]
    },
    {
     "name": "stderr",
     "output_type": "stream",
     "text": [
      "\r",
      "      3/100      6.89G      2.273      2.462      1.855         54        640:  60%|█████▉    | 87/146 [00:46<00:31,  1.84it/s]"
     ]
    },
    {
     "name": "stderr",
     "output_type": "stream",
     "text": [
      "\r",
      "      3/100      6.89G       2.27      2.459      1.853         29        640:  60%|█████▉    | 87/146 [00:47<00:31,  1.84it/s]"
     ]
    },
    {
     "name": "stderr",
     "output_type": "stream",
     "text": [
      "\r",
      "      3/100      6.89G       2.27      2.459      1.853         29        640:  60%|██████    | 88/146 [00:47<00:31,  1.87it/s]"
     ]
    },
    {
     "name": "stderr",
     "output_type": "stream",
     "text": [
      "\r",
      "      3/100      6.89G      2.267      2.459      1.852         44        640:  60%|██████    | 88/146 [00:47<00:31,  1.87it/s]"
     ]
    },
    {
     "name": "stderr",
     "output_type": "stream",
     "text": [
      "\r",
      "      3/100      6.89G      2.267      2.459      1.852         44        640:  61%|██████    | 89/146 [00:47<00:30,  1.88it/s]"
     ]
    },
    {
     "name": "stderr",
     "output_type": "stream",
     "text": [
      "\r",
      "      3/100      6.89G      2.268      2.462      1.853         43        640:  61%|██████    | 89/146 [00:48<00:30,  1.88it/s]"
     ]
    },
    {
     "name": "stderr",
     "output_type": "stream",
     "text": [
      "\r",
      "      3/100      6.89G      2.268      2.462      1.853         43        640:  62%|██████▏   | 90/146 [00:48<00:29,  1.88it/s]"
     ]
    },
    {
     "name": "stderr",
     "output_type": "stream",
     "text": [
      "\r",
      "      3/100      6.89G       2.27      2.469      1.854         41        640:  62%|██████▏   | 90/146 [00:48<00:29,  1.88it/s]"
     ]
    },
    {
     "name": "stderr",
     "output_type": "stream",
     "text": [
      "\r",
      "      3/100      6.89G       2.27      2.469      1.854         41        640:  62%|██████▏   | 91/146 [00:48<00:29,  1.86it/s]"
     ]
    },
    {
     "name": "stderr",
     "output_type": "stream",
     "text": [
      "\r",
      "      3/100      6.89G      2.268      2.468      1.852         54        640:  62%|██████▏   | 91/146 [00:49<00:29,  1.86it/s]"
     ]
    },
    {
     "name": "stderr",
     "output_type": "stream",
     "text": [
      "\r",
      "      3/100      6.89G      2.268      2.468      1.852         54        640:  63%|██████▎   | 92/146 [00:49<00:28,  1.88it/s]"
     ]
    },
    {
     "name": "stderr",
     "output_type": "stream",
     "text": [
      "\r",
      "      3/100      6.89G      2.268      2.467      1.851         43        640:  63%|██████▎   | 92/146 [00:49<00:28,  1.88it/s]"
     ]
    },
    {
     "name": "stderr",
     "output_type": "stream",
     "text": [
      "\r",
      "      3/100      6.89G      2.268      2.467      1.851         43        640:  64%|██████▎   | 93/146 [00:49<00:28,  1.88it/s]"
     ]
    },
    {
     "name": "stderr",
     "output_type": "stream",
     "text": [
      "\r",
      "      3/100      6.89G      2.269      2.465      1.849         57        640:  64%|██████▎   | 93/146 [00:50<00:28,  1.88it/s]"
     ]
    },
    {
     "name": "stderr",
     "output_type": "stream",
     "text": [
      "\r",
      "      3/100      6.89G      2.269      2.465      1.849         57        640:  64%|██████▍   | 94/146 [00:50<00:27,  1.88it/s]"
     ]
    },
    {
     "name": "stderr",
     "output_type": "stream",
     "text": [
      "\r",
      "      3/100      6.89G      2.267      2.465      1.847         73        640:  64%|██████▍   | 94/146 [00:50<00:27,  1.88it/s]"
     ]
    },
    {
     "name": "stderr",
     "output_type": "stream",
     "text": [
      "\r",
      "      3/100      6.89G      2.267      2.465      1.847         73        640:  65%|██████▌   | 95/146 [00:50<00:27,  1.85it/s]"
     ]
    },
    {
     "name": "stderr",
     "output_type": "stream",
     "text": [
      "\r",
      "      3/100      6.89G      2.268      2.468      1.848         39        640:  65%|██████▌   | 95/146 [00:51<00:27,  1.85it/s]"
     ]
    },
    {
     "name": "stderr",
     "output_type": "stream",
     "text": [
      "\r",
      "      3/100      6.89G      2.268      2.468      1.848         39        640:  66%|██████▌   | 96/146 [00:51<00:26,  1.87it/s]"
     ]
    },
    {
     "name": "stderr",
     "output_type": "stream",
     "text": [
      "\r",
      "      3/100      6.89G       2.27      2.471       1.85         46        640:  66%|██████▌   | 96/146 [00:51<00:26,  1.87it/s]"
     ]
    },
    {
     "name": "stderr",
     "output_type": "stream",
     "text": [
      "\r",
      "      3/100      6.89G       2.27      2.471       1.85         46        640:  66%|██████▋   | 97/146 [00:51<00:26,  1.88it/s]"
     ]
    },
    {
     "name": "stderr",
     "output_type": "stream",
     "text": [
      "\r",
      "      3/100      6.89G       2.27      2.473      1.849         53        640:  66%|██████▋   | 97/146 [00:52<00:26,  1.88it/s]"
     ]
    },
    {
     "name": "stderr",
     "output_type": "stream",
     "text": [
      "\r",
      "      3/100      6.89G       2.27      2.473      1.849         53        640:  67%|██████▋   | 98/146 [00:52<00:25,  1.89it/s]"
     ]
    },
    {
     "name": "stderr",
     "output_type": "stream",
     "text": [
      "\r",
      "      3/100      6.89G      2.271      2.473      1.851         43        640:  67%|██████▋   | 98/146 [00:52<00:25,  1.89it/s]"
     ]
    },
    {
     "name": "stderr",
     "output_type": "stream",
     "text": [
      "\r",
      "      3/100      6.89G      2.271      2.473      1.851         43        640:  68%|██████▊   | 99/146 [00:52<00:25,  1.86it/s]"
     ]
    },
    {
     "name": "stderr",
     "output_type": "stream",
     "text": [
      "\r",
      "      3/100      6.89G      2.271      2.475      1.851         44        640:  68%|██████▊   | 99/146 [00:53<00:25,  1.86it/s]"
     ]
    },
    {
     "name": "stderr",
     "output_type": "stream",
     "text": [
      "\r",
      "      3/100      6.89G      2.271      2.475      1.851         44        640:  68%|██████▊   | 100/146 [00:53<00:24,  1.88it/s]"
     ]
    },
    {
     "name": "stderr",
     "output_type": "stream",
     "text": [
      "\r",
      "      3/100      6.89G      2.273      2.478      1.851         53        640:  68%|██████▊   | 100/146 [00:53<00:24,  1.88it/s]"
     ]
    },
    {
     "name": "stderr",
     "output_type": "stream",
     "text": [
      "\r",
      "      3/100      6.89G      2.273      2.478      1.851         53        640:  69%|██████▉   | 101/146 [00:53<00:23,  1.89it/s]"
     ]
    },
    {
     "name": "stderr",
     "output_type": "stream",
     "text": [
      "\r",
      "      3/100      6.89G      2.275      2.481      1.853         61        640:  69%|██████▉   | 101/146 [00:54<00:23,  1.89it/s]"
     ]
    },
    {
     "name": "stderr",
     "output_type": "stream",
     "text": [
      "\r",
      "      3/100      6.89G      2.275      2.481      1.853         61        640:  70%|██████▉   | 102/146 [00:54<00:23,  1.89it/s]"
     ]
    },
    {
     "name": "stderr",
     "output_type": "stream",
     "text": [
      "\r",
      "      3/100      6.89G      2.275      2.483      1.853         45        640:  70%|██████▉   | 102/146 [00:55<00:23,  1.89it/s]"
     ]
    },
    {
     "name": "stderr",
     "output_type": "stream",
     "text": [
      "\r",
      "      3/100      6.89G      2.275      2.483      1.853         45        640:  71%|███████   | 103/146 [00:55<00:23,  1.87it/s]"
     ]
    },
    {
     "name": "stderr",
     "output_type": "stream",
     "text": [
      "\r",
      "      3/100      6.89G      2.271      2.484      1.851         51        640:  71%|███████   | 103/146 [00:55<00:23,  1.87it/s]"
     ]
    },
    {
     "name": "stderr",
     "output_type": "stream",
     "text": [
      "\r",
      "      3/100      6.89G      2.271      2.484      1.851         51        640:  71%|███████   | 104/146 [00:55<00:22,  1.89it/s]"
     ]
    },
    {
     "name": "stderr",
     "output_type": "stream",
     "text": [
      "\r",
      "      3/100      6.89G      2.271      2.482      1.851         64        640:  71%|███████   | 104/146 [00:56<00:22,  1.89it/s]"
     ]
    },
    {
     "name": "stderr",
     "output_type": "stream",
     "text": [
      "\r",
      "      3/100      6.89G      2.271      2.482      1.851         64        640:  72%|███████▏  | 105/146 [00:56<00:21,  1.89it/s]"
     ]
    },
    {
     "name": "stderr",
     "output_type": "stream",
     "text": [
      "\r",
      "      3/100      6.89G      2.271       2.48      1.851         38        640:  72%|███████▏  | 105/146 [00:56<00:21,  1.89it/s]"
     ]
    },
    {
     "name": "stderr",
     "output_type": "stream",
     "text": [
      "\r",
      "      3/100      6.89G      2.271       2.48      1.851         38        640:  73%|███████▎  | 106/146 [00:56<00:21,  1.89it/s]"
     ]
    },
    {
     "name": "stderr",
     "output_type": "stream",
     "text": [
      "\r",
      "      3/100      6.89G       2.27      2.479       1.85         46        640:  73%|███████▎  | 106/146 [00:57<00:21,  1.89it/s]"
     ]
    },
    {
     "name": "stderr",
     "output_type": "stream",
     "text": [
      "\r",
      "      3/100      6.89G       2.27      2.479       1.85         46        640:  73%|███████▎  | 107/146 [00:57<00:20,  1.87it/s]"
     ]
    },
    {
     "name": "stderr",
     "output_type": "stream",
     "text": [
      "\r",
      "      3/100      6.89G       2.27      2.478       1.85         53        640:  73%|███████▎  | 107/146 [00:57<00:20,  1.87it/s]"
     ]
    },
    {
     "name": "stderr",
     "output_type": "stream",
     "text": [
      "\r",
      "      3/100      6.89G       2.27      2.478       1.85         53        640:  74%|███████▍  | 108/146 [00:57<00:20,  1.88it/s]"
     ]
    },
    {
     "name": "stderr",
     "output_type": "stream",
     "text": [
      "\r",
      "      3/100      6.89G      2.267      2.479      1.849         28        640:  74%|███████▍  | 108/146 [00:58<00:20,  1.88it/s]"
     ]
    },
    {
     "name": "stderr",
     "output_type": "stream",
     "text": [
      "\r",
      "      3/100      6.89G      2.267      2.479      1.849         28        640:  75%|███████▍  | 109/146 [00:58<00:19,  1.89it/s]"
     ]
    },
    {
     "name": "stderr",
     "output_type": "stream",
     "text": [
      "\r",
      "      3/100      6.89G      2.266      2.477      1.847         50        640:  75%|███████▍  | 109/146 [00:58<00:19,  1.89it/s]"
     ]
    },
    {
     "name": "stderr",
     "output_type": "stream",
     "text": [
      "\r",
      "      3/100      6.89G      2.266      2.477      1.847         50        640:  75%|███████▌  | 110/146 [00:58<00:19,  1.89it/s]"
     ]
    },
    {
     "name": "stderr",
     "output_type": "stream",
     "text": [
      "\r",
      "      3/100      6.89G      2.267      2.478      1.848         62        640:  75%|███████▌  | 110/146 [00:59<00:19,  1.89it/s]"
     ]
    },
    {
     "name": "stderr",
     "output_type": "stream",
     "text": [
      "\r",
      "      3/100      6.89G      2.267      2.478      1.848         62        640:  76%|███████▌  | 111/146 [00:59<00:18,  1.85it/s]"
     ]
    },
    {
     "name": "stderr",
     "output_type": "stream",
     "text": [
      "\r",
      "      3/100      6.89G      2.264      2.477      1.848         28        640:  76%|███████▌  | 111/146 [00:59<00:18,  1.85it/s]"
     ]
    },
    {
     "name": "stderr",
     "output_type": "stream",
     "text": [
      "\r",
      "      3/100      6.89G      2.264      2.477      1.848         28        640:  77%|███████▋  | 112/146 [00:59<00:18,  1.87it/s]"
     ]
    },
    {
     "name": "stderr",
     "output_type": "stream",
     "text": [
      "\r",
      "      3/100      6.89G      2.265      2.477      1.848         46        640:  77%|███████▋  | 112/146 [01:00<00:18,  1.87it/s]"
     ]
    },
    {
     "name": "stderr",
     "output_type": "stream",
     "text": [
      "\r",
      "      3/100      6.89G      2.265      2.477      1.848         46        640:  77%|███████▋  | 113/146 [01:00<00:17,  1.88it/s]"
     ]
    },
    {
     "name": "stderr",
     "output_type": "stream",
     "text": [
      "\r",
      "      3/100      6.89G      2.265      2.474      1.848         59        640:  77%|███████▋  | 113/146 [01:00<00:17,  1.88it/s]"
     ]
    },
    {
     "name": "stderr",
     "output_type": "stream",
     "text": [
      "\r",
      "      3/100      6.89G      2.265      2.474      1.848         59        640:  78%|███████▊  | 114/146 [01:00<00:16,  1.89it/s]"
     ]
    },
    {
     "name": "stderr",
     "output_type": "stream",
     "text": [
      "\r",
      "      3/100      6.89G      2.265      2.474      1.848         53        640:  78%|███████▊  | 114/146 [01:01<00:16,  1.89it/s]"
     ]
    },
    {
     "name": "stderr",
     "output_type": "stream",
     "text": [
      "\r",
      "      3/100      6.89G      2.265      2.474      1.848         53        640:  79%|███████▉  | 115/146 [01:01<00:16,  1.86it/s]"
     ]
    },
    {
     "name": "stderr",
     "output_type": "stream",
     "text": [
      "\r",
      "      3/100      6.89G      2.266      2.476      1.848         54        640:  79%|███████▉  | 115/146 [01:01<00:16,  1.86it/s]"
     ]
    },
    {
     "name": "stderr",
     "output_type": "stream",
     "text": [
      "\r",
      "      3/100      6.89G      2.266      2.476      1.848         54        640:  79%|███████▉  | 116/146 [01:01<00:15,  1.88it/s]"
     ]
    },
    {
     "name": "stderr",
     "output_type": "stream",
     "text": [
      "\r",
      "      3/100      6.89G      2.265      2.477      1.849         49        640:  79%|███████▉  | 116/146 [01:02<00:15,  1.88it/s]"
     ]
    },
    {
     "name": "stderr",
     "output_type": "stream",
     "text": [
      "\r",
      "      3/100      6.89G      2.265      2.477      1.849         49        640:  80%|████████  | 117/146 [01:02<00:15,  1.88it/s]"
     ]
    },
    {
     "name": "stderr",
     "output_type": "stream",
     "text": [
      "\r",
      "      3/100      6.89G      2.265      2.477      1.848         46        640:  80%|████████  | 117/146 [01:03<00:15,  1.88it/s]"
     ]
    },
    {
     "name": "stderr",
     "output_type": "stream",
     "text": [
      "\r",
      "      3/100      6.89G      2.265      2.477      1.848         46        640:  81%|████████  | 118/146 [01:03<00:14,  1.89it/s]"
     ]
    },
    {
     "name": "stderr",
     "output_type": "stream",
     "text": [
      "\r",
      "      3/100      6.89G      2.263       2.48      1.848         31        640:  81%|████████  | 118/146 [01:03<00:14,  1.89it/s]"
     ]
    },
    {
     "name": "stderr",
     "output_type": "stream",
     "text": [
      "\r",
      "      3/100      6.89G      2.263       2.48      1.848         31        640:  82%|████████▏ | 119/146 [01:03<00:14,  1.87it/s]"
     ]
    },
    {
     "name": "stderr",
     "output_type": "stream",
     "text": [
      "\r",
      "      3/100      6.89G      2.264      2.482      1.849         66        640:  82%|████████▏ | 119/146 [01:04<00:14,  1.87it/s]"
     ]
    },
    {
     "name": "stderr",
     "output_type": "stream",
     "text": [
      "\r",
      "      3/100      6.89G      2.264      2.482      1.849         66        640:  82%|████████▏ | 120/146 [01:04<00:13,  1.89it/s]"
     ]
    },
    {
     "name": "stderr",
     "output_type": "stream",
     "text": [
      "\r",
      "      3/100      6.89G      2.265      2.482       1.85         71        640:  82%|████████▏ | 120/146 [01:04<00:13,  1.89it/s]"
     ]
    },
    {
     "name": "stderr",
     "output_type": "stream",
     "text": [
      "\r",
      "      3/100      6.89G      2.265      2.482       1.85         71        640:  83%|████████▎ | 121/146 [01:04<00:13,  1.89it/s]"
     ]
    },
    {
     "name": "stderr",
     "output_type": "stream",
     "text": [
      "\r",
      "      3/100      6.89G      2.264      2.479       1.85         45        640:  83%|████████▎ | 121/146 [01:05<00:13,  1.89it/s]"
     ]
    },
    {
     "name": "stderr",
     "output_type": "stream",
     "text": [
      "\r",
      "      3/100      6.89G      2.264      2.479       1.85         45        640:  84%|████████▎ | 122/146 [01:05<00:12,  1.90it/s]"
     ]
    },
    {
     "name": "stderr",
     "output_type": "stream",
     "text": [
      "\r",
      "      3/100      6.89G      2.262      2.478       1.85         38        640:  84%|████████▎ | 122/146 [01:05<00:12,  1.90it/s]"
     ]
    },
    {
     "name": "stderr",
     "output_type": "stream",
     "text": [
      "\r",
      "      3/100      6.89G      2.262      2.478       1.85         38        640:  84%|████████▍ | 123/146 [01:05<00:12,  1.87it/s]"
     ]
    },
    {
     "name": "stderr",
     "output_type": "stream",
     "text": [
      "\r",
      "      3/100      6.89G      2.263      2.477      1.851         47        640:  84%|████████▍ | 123/146 [01:06<00:12,  1.87it/s]"
     ]
    },
    {
     "name": "stderr",
     "output_type": "stream",
     "text": [
      "\r",
      "      3/100      6.89G      2.263      2.477      1.851         47        640:  85%|████████▍ | 124/146 [01:06<00:11,  1.89it/s]"
     ]
    },
    {
     "name": "stderr",
     "output_type": "stream",
     "text": [
      "\r",
      "      3/100      6.89G      2.265      2.478      1.853         40        640:  85%|████████▍ | 124/146 [01:06<00:11,  1.89it/s]"
     ]
    },
    {
     "name": "stderr",
     "output_type": "stream",
     "text": [
      "\r",
      "      3/100      6.89G      2.265      2.478      1.853         40        640:  86%|████████▌ | 125/146 [01:06<00:11,  1.89it/s]"
     ]
    },
    {
     "name": "stderr",
     "output_type": "stream",
     "text": [
      "\r",
      "      3/100      6.89G      2.264      2.477      1.851         62        640:  86%|████████▌ | 125/146 [01:07<00:11,  1.89it/s]"
     ]
    },
    {
     "name": "stderr",
     "output_type": "stream",
     "text": [
      "\r",
      "      3/100      6.89G      2.264      2.477      1.851         62        640:  86%|████████▋ | 126/146 [01:07<00:10,  1.90it/s]"
     ]
    },
    {
     "name": "stderr",
     "output_type": "stream",
     "text": [
      "\r",
      "      3/100      6.89G      2.264      2.477      1.852         44        640:  86%|████████▋ | 126/146 [01:07<00:10,  1.90it/s]"
     ]
    },
    {
     "name": "stderr",
     "output_type": "stream",
     "text": [
      "\r",
      "      3/100      6.89G      2.264      2.477      1.852         44        640:  87%|████████▋ | 127/146 [01:07<00:10,  1.87it/s]"
     ]
    },
    {
     "name": "stderr",
     "output_type": "stream",
     "text": [
      "\r",
      "      3/100      6.89G      2.264      2.478      1.853         36        640:  87%|████████▋ | 127/146 [01:08<00:10,  1.87it/s]"
     ]
    },
    {
     "name": "stderr",
     "output_type": "stream",
     "text": [
      "\r",
      "      3/100      6.89G      2.264      2.478      1.853         36        640:  88%|████████▊ | 128/146 [01:08<00:09,  1.89it/s]"
     ]
    },
    {
     "name": "stderr",
     "output_type": "stream",
     "text": [
      "\r",
      "      3/100      6.89G      2.264      2.477      1.853         69        640:  88%|████████▊ | 128/146 [01:08<00:09,  1.89it/s]"
     ]
    },
    {
     "name": "stderr",
     "output_type": "stream",
     "text": [
      "\r",
      "      3/100      6.89G      2.264      2.477      1.853         69        640:  88%|████████▊ | 129/146 [01:08<00:08,  1.89it/s]"
     ]
    },
    {
     "name": "stderr",
     "output_type": "stream",
     "text": [
      "\r",
      "      3/100      6.89G      2.264      2.477      1.853         39        640:  88%|████████▊ | 129/146 [01:09<00:08,  1.89it/s]"
     ]
    },
    {
     "name": "stderr",
     "output_type": "stream",
     "text": [
      "\r",
      "      3/100      6.89G      2.264      2.477      1.853         39        640:  89%|████████▉ | 130/146 [01:09<00:08,  1.90it/s]"
     ]
    },
    {
     "name": "stderr",
     "output_type": "stream",
     "text": [
      "\r",
      "      3/100      6.89G      2.266      2.478      1.853         50        640:  89%|████████▉ | 130/146 [01:09<00:08,  1.90it/s]"
     ]
    },
    {
     "name": "stderr",
     "output_type": "stream",
     "text": [
      "\r",
      "      3/100      6.89G      2.266      2.478      1.853         50        640:  90%|████████▉ | 131/146 [01:09<00:08,  1.87it/s]"
     ]
    },
    {
     "name": "stderr",
     "output_type": "stream",
     "text": [
      "\r",
      "      3/100      6.89G      2.266      2.479      1.854         36        640:  90%|████████▉ | 131/146 [01:10<00:08,  1.87it/s]"
     ]
    },
    {
     "name": "stderr",
     "output_type": "stream",
     "text": [
      "\r",
      "      3/100      6.89G      2.266      2.479      1.854         36        640:  90%|█████████ | 132/146 [01:10<00:07,  1.89it/s]"
     ]
    },
    {
     "name": "stderr",
     "output_type": "stream",
     "text": [
      "\r",
      "      3/100      6.89G      2.266      2.479      1.853         49        640:  90%|█████████ | 132/146 [01:10<00:07,  1.89it/s]"
     ]
    },
    {
     "name": "stderr",
     "output_type": "stream",
     "text": [
      "\r",
      "      3/100      6.89G      2.266      2.479      1.853         49        640:  91%|█████████ | 133/146 [01:10<00:06,  1.89it/s]"
     ]
    },
    {
     "name": "stderr",
     "output_type": "stream",
     "text": [
      "\r",
      "      3/100      6.89G      2.268      2.481      1.855         48        640:  91%|█████████ | 133/146 [01:11<00:06,  1.89it/s]"
     ]
    },
    {
     "name": "stderr",
     "output_type": "stream",
     "text": [
      "\r",
      "      3/100      6.89G      2.268      2.481      1.855         48        640:  92%|█████████▏| 134/146 [01:11<00:06,  1.89it/s]"
     ]
    },
    {
     "name": "stderr",
     "output_type": "stream",
     "text": [
      "\r",
      "      3/100      6.89G      2.266      2.479      1.854         41        640:  92%|█████████▏| 134/146 [01:12<00:06,  1.89it/s]"
     ]
    },
    {
     "name": "stderr",
     "output_type": "stream",
     "text": [
      "\r",
      "      3/100      6.89G      2.266      2.479      1.854         41        640:  92%|█████████▏| 135/146 [01:12<00:05,  1.87it/s]"
     ]
    },
    {
     "name": "stderr",
     "output_type": "stream",
     "text": [
      "\r",
      "      3/100      6.89G      2.267      2.479      1.854         53        640:  92%|█████████▏| 135/146 [01:12<00:05,  1.87it/s]"
     ]
    },
    {
     "name": "stderr",
     "output_type": "stream",
     "text": [
      "\r",
      "      3/100      6.89G      2.267      2.479      1.854         53        640:  93%|█████████▎| 136/146 [01:12<00:05,  1.88it/s]"
     ]
    },
    {
     "name": "stderr",
     "output_type": "stream",
     "text": [
      "\r",
      "      3/100      6.89G      2.267      2.478      1.853         65        640:  93%|█████████▎| 136/146 [01:13<00:05,  1.88it/s]"
     ]
    },
    {
     "name": "stderr",
     "output_type": "stream",
     "text": [
      "\r",
      "      3/100      6.89G      2.267      2.478      1.853         65        640:  94%|█████████▍| 137/146 [01:13<00:04,  1.89it/s]"
     ]
    },
    {
     "name": "stderr",
     "output_type": "stream",
     "text": [
      "\r",
      "      3/100      6.89G      2.269       2.48      1.854         33        640:  94%|█████████▍| 137/146 [01:13<00:04,  1.89it/s]"
     ]
    },
    {
     "name": "stderr",
     "output_type": "stream",
     "text": [
      "\r",
      "      3/100      6.89G      2.269       2.48      1.854         33        640:  95%|█████████▍| 138/146 [01:13<00:04,  1.90it/s]"
     ]
    },
    {
     "name": "stderr",
     "output_type": "stream",
     "text": [
      "\r",
      "      3/100      6.89G      2.269      2.479      1.854         51        640:  95%|█████████▍| 138/146 [01:14<00:04,  1.90it/s]"
     ]
    },
    {
     "name": "stderr",
     "output_type": "stream",
     "text": [
      "\r",
      "      3/100      6.89G      2.269      2.479      1.854         51        640:  95%|█████████▌| 139/146 [01:14<00:03,  1.87it/s]"
     ]
    },
    {
     "name": "stderr",
     "output_type": "stream",
     "text": [
      "\r",
      "      3/100      6.89G      2.269      2.479      1.854         53        640:  95%|█████████▌| 139/146 [01:14<00:03,  1.87it/s]"
     ]
    },
    {
     "name": "stderr",
     "output_type": "stream",
     "text": [
      "\r",
      "      3/100      6.89G      2.269      2.479      1.854         53        640:  96%|█████████▌| 140/146 [01:14<00:03,  1.89it/s]"
     ]
    },
    {
     "name": "stderr",
     "output_type": "stream",
     "text": [
      "\r",
      "      3/100      6.89G      2.271      2.479      1.856         40        640:  96%|█████████▌| 140/146 [01:15<00:03,  1.89it/s]"
     ]
    },
    {
     "name": "stderr",
     "output_type": "stream",
     "text": [
      "\r",
      "      3/100      6.89G      2.271      2.479      1.856         40        640:  97%|█████████▋| 141/146 [01:15<00:02,  1.90it/s]"
     ]
    },
    {
     "name": "stderr",
     "output_type": "stream",
     "text": [
      "\r",
      "      3/100      6.89G      2.272      2.479      1.857         44        640:  97%|█████████▋| 141/146 [01:15<00:02,  1.90it/s]"
     ]
    },
    {
     "name": "stderr",
     "output_type": "stream",
     "text": [
      "\r",
      "      3/100      6.89G      2.272      2.479      1.857         44        640:  97%|█████████▋| 142/146 [01:15<00:02,  1.90it/s]"
     ]
    },
    {
     "name": "stderr",
     "output_type": "stream",
     "text": [
      "\r",
      "      3/100      6.89G      2.272      2.478      1.857         66        640:  97%|█████████▋| 142/146 [01:16<00:02,  1.90it/s]"
     ]
    },
    {
     "name": "stderr",
     "output_type": "stream",
     "text": [
      "\r",
      "      3/100      6.89G      2.272      2.478      1.857         66        640:  98%|█████████▊| 143/146 [01:16<00:01,  1.87it/s]"
     ]
    },
    {
     "name": "stderr",
     "output_type": "stream",
     "text": [
      "\r",
      "      3/100      6.89G      2.271      2.479      1.856         30        640:  98%|█████████▊| 143/146 [01:16<00:01,  1.87it/s]"
     ]
    },
    {
     "name": "stderr",
     "output_type": "stream",
     "text": [
      "\r",
      "      3/100      6.89G      2.271      2.479      1.856         30        640:  99%|█████████▊| 144/146 [01:16<00:01,  1.89it/s]"
     ]
    },
    {
     "name": "stderr",
     "output_type": "stream",
     "text": [
      "\r",
      "      3/100      6.89G      2.272       2.48      1.857         44        640:  99%|█████████▊| 144/146 [01:17<00:01,  1.89it/s]"
     ]
    }
   ],
   "source": [
    "# Load the YOLOv8m model\n",
    "model = YOLO('yolov8m.pt')  # Load pre-trained YOLOv8m model\n",
    "\n",
    "# Train the model on your custom dataset\n",
    "model.train(\n",
    "    data='/kaggle/input/yaml-file/data (2).yaml',  # Path to the dataset YAML file\n",
    "    epochs=100,            # Number of training epochs\n",
    "    batch=16,             # Batch size\n",
    "    imgsz=640,            # Image size\n",
    "    workers=4,            # Number of data loading workers\n",
    "    device=0              # Use GPU 0; change this if needed\n",
    ")"
   ]
  },
  {
   "cell_type": "code",
   "execution_count": null,
   "id": "c8db75fb",
   "metadata": {
    "execution": {
     "iopub.execute_input": "2024-12-02T19:07:31.718566Z",
     "iopub.status.busy": "2024-12-02T19:07:31.717601Z",
     "iopub.status.idle": "2024-12-02T19:07:57.964254Z",
     "shell.execute_reply": "2024-12-02T19:07:57.963392Z",
     "shell.execute_reply.started": "2024-12-02T19:07:31.718521Z"
    },
    "papermill": {
     "duration": null,
     "end_time": null,
     "exception": null,
     "start_time": null,
     "status": "pending"
    },
    "tags": []
   },
   "outputs": [],
   "source": [
    "# Evaluate the model on the validation dataset\n",
    "metrics = model.val()"
   ]
  },
  {
   "cell_type": "code",
   "execution_count": null,
   "id": "18be842b",
   "metadata": {
    "execution": {
     "iopub.execute_input": "2024-12-02T19:09:18.042923Z",
     "iopub.status.busy": "2024-12-02T19:09:18.042497Z",
     "iopub.status.idle": "2024-12-02T19:09:18.185808Z",
     "shell.execute_reply": "2024-12-02T19:09:18.185106Z",
     "shell.execute_reply.started": "2024-12-02T19:09:18.042880Z"
    },
    "papermill": {
     "duration": null,
     "end_time": null,
     "exception": null,
     "start_time": null,
     "status": "pending"
    },
    "tags": []
   },
   "outputs": [],
   "source": [
    "\n",
    "# Save the trained model\n",
    "model.save('road_damage_model.pt')"
   ]
  },
  {
   "cell_type": "code",
   "execution_count": null,
   "id": "c0311e76",
   "metadata": {
    "execution": {
     "iopub.execute_input": "2024-12-02T19:10:33.099541Z",
     "iopub.status.busy": "2024-12-02T19:10:33.099214Z",
     "iopub.status.idle": "2024-12-02T19:10:33.153121Z",
     "shell.execute_reply": "2024-12-02T19:10:33.152467Z",
     "shell.execute_reply.started": "2024-12-02T19:10:33.099513Z"
    },
    "papermill": {
     "duration": null,
     "end_time": null,
     "exception": null,
     "start_time": null,
     "status": "pending"
    },
    "tags": []
   },
   "outputs": [],
   "source": [
    "# Test the model on an image\n",
    "results = model('/kaggle/input/data-rd/test/images/AA_10810_jpeg.rf.b0bb020a403bb1ee47eb0db673196e30.jpg')\n",
    "\n",
    "# Loop through the results and display each\n",
    "for result in results:\n",
    "    result.plot()  # Use plot() to visualize predictions\n"
   ]
  },
  {
   "cell_type": "code",
   "execution_count": null,
   "id": "ba08e5c9",
   "metadata": {
    "papermill": {
     "duration": null,
     "end_time": null,
     "exception": null,
     "start_time": null,
     "status": "pending"
    },
    "tags": []
   },
   "outputs": [],
   "source": []
  }
 ],
 "metadata": {
  "kaggle": {
   "accelerator": "nvidiaTeslaT4",
   "dataSources": [
    {
     "datasetId": 6212168,
     "sourceId": 10077541,
     "sourceType": "datasetVersion"
    },
    {
     "datasetId": 6212232,
     "sourceId": 10077620,
     "sourceType": "datasetVersion"
    }
   ],
   "dockerImageVersionId": 30787,
   "isGpuEnabled": true,
   "isInternetEnabled": true,
   "language": "python",
   "sourceType": "notebook"
  },
  "kernelspec": {
   "display_name": "Python 3",
   "language": "python",
   "name": "python3"
  },
  "language_info": {
   "codemirror_mode": {
    "name": "ipython",
    "version": 3
   },
   "file_extension": ".py",
   "mimetype": "text/x-python",
   "name": "python",
   "nbconvert_exporter": "python",
   "pygments_lexer": "ipython3",
   "version": "3.10.14"
  },
  "papermill": {
   "default_parameters": {},
   "duration": null,
   "end_time": null,
   "environment_variables": {},
   "exception": null,
   "input_path": "__notebook__.ipynb",
   "output_path": "__notebook__.ipynb",
   "parameters": {},
   "start_time": "2024-12-02T19:29:59.294999",
   "version": "2.6.0"
  }
 },
 "nbformat": 4,
 "nbformat_minor": 5
}